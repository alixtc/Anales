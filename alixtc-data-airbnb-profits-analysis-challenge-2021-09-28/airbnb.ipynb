{
 "cells": [
  {
   "cell_type": "markdown",
   "metadata": {},
   "source": [
    "# Airbnb\n",
    "\n",
    "## Context and objectives\n",
    "\n",
    "Your have been missioned by the CEO of Airbnb Spain to analyze accommodations park in Madrid. More specifically, you are going to investigate the price of Airbnb accommodations in Madrid from April 2021 to April 2022."
   ]
  },
  {
   "cell_type": "markdown",
   "metadata": {},
   "source": [
    "## The database\n",
    "\n",
    "### Download\n",
    "\n",
    "Download the database in the `db` directory:"
   ]
  },
  {
   "cell_type": "code",
   "execution_count": null,
   "metadata": {},
   "outputs": [],
   "source": [
    "!curl https://wagon-public-datasets.s3.amazonaws.com/certification/airbnb_profits_analysis/airbnb.sqlite > db/airbnb.sqlite"
   ]
  },
  {
   "cell_type": "markdown",
   "metadata": {},
   "source": [
    "Check the database has been saved:"
   ]
  },
  {
   "cell_type": "code",
   "execution_count": 190,
   "metadata": {},
   "outputs": [],
   "source": [
    "!tree"
   ]
  },
  {
   "cell_type": "markdown",
   "metadata": {},
   "source": [
    "### Schema"
   ]
  },
  {
   "cell_type": "markdown",
   "metadata": {},
   "source": [
    "Open the database with your favorite tool (DBeaver, sqlite3, Postico,...) then:\n",
    "- **📝 Draw the database schema in Le Wagon editor on https://kitt.lewagon.com/db**\n",
    "- **💾 Save the `XML` version of the database schema in a `db/airbnb.xml` file**\n",
    "\n",
    "Once done, check you have the `airbnb.xml` file in the `db` directory:"
   ]
  },
  {
   "cell_type": "code",
   "execution_count": 191,
   "metadata": {},
   "outputs": [],
   "source": [
    "!tree"
   ]
  },
  {
   "cell_type": "markdown",
   "metadata": {},
   "source": [
    "### Querying the database\n",
    "\n",
    "In order to perform some analysis, you need to fetch the following information from **all** the accommodations of the database:\n",
    "- `id`: the unique identifier of the accommodation\n",
    "- `price`: the value paid per night in USD\n",
    "- `neighbourhood`: the neighbourhood the accommodation belongs to\n",
    "- `neighbourhood_group`: the neighbourhoods group the accommodation belongs to\n",
    "- `bedrooms`: the number of bedrooms \n",
    "- `beds`: the number of beds\n",
    "- `accommodates`: number of persons the accommodation is suited for\n",
    "- `amenities`: a list of amenities of the accommodation\n",
    "- `minimum_nights`: the minimum number of nights which can be booked\n",
    "- `maximum_nights`: the maximum number of nights which can be booked in a row\n",
    "- `host_id`: the unique identifier of the host\n",
    "- `host_since`: date of the first listing of the host\n",
    "- `host_neighbourhood`: the neighbourhood the accommodation belongs to\n",
    "- `host_location`: the location of the host\n",
    "- `host_response_time`: the category of response time of the host\n",
    "- `host_response_rate`: the response rate of the host in %\n",
    "- `host_acceptance_rate`: the acceptance rate of the host in %\n",
    "- `host_is_superhost`: whether or not the host is a Superhost\n",
    "- `host_has_profile_pic`: whether or not the host has a profile picture\n",
    "- `host_identity_verified`: whether or not the identity of the host is verified\n",
    "- `latitude`: latitude of the accommodation\n",
    "- `longitude`: longitude of the accommodation\n",
    "- `room_type`: category of the accommodation\n",
    "- `property_type`: category of the property the accommodation belongs to\n",
    "- `review_scores_rating`: average score rating for the accommodation in %\n",
    "- `number_of_reviews`: total number of reviews\n",
    "- `yearly_availability`: the total number of days where the accommodation available for guests in a year"
   ]
  },
  {
   "cell_type": "markdown",
   "metadata": {},
   "source": [
    "**📝 Write an SQL query to fetch the above information and store it as a `str` in the `query` variable.**"
   ]
  },
  {
   "cell_type": "code",
   "execution_count": 163,
   "metadata": {
    "tags": [
     "challengify"
    ]
   },
   "outputs": [],
   "source": [
    "# YOUR CODE HERE"
   ]
  },
  {
   "cell_type": "markdown",
   "metadata": {},
   "source": [
    "**📝 Connect to the `airbnb.sqlite` database and use the query above to store the data in a `DataFrame` named `data`. Display the 10 first rows**"
   ]
  },
  {
   "cell_type": "code",
   "execution_count": 164,
   "metadata": {
    "tags": [
     "challengify"
    ]
   },
   "outputs": [],
   "source": [
    "# YOUR CODE HERE"
   ]
  },
  {
   "cell_type": "markdown",
   "metadata": {},
   "source": [
    "### 💾 Save your results\n",
    "\n",
    "Run the cell below to save your results."
   ]
  },
  {
   "cell_type": "code",
   "execution_count": 195,
   "metadata": {},
   "outputs": [],
   "source": [
    "from nbresult import ChallengeResult\n",
    "result = ChallengeResult(\n",
    "    'query',\n",
    "    query=query,\n",
    "    shape=data.shape,\n",
    "    columns=data.columns,\n",
    "    host_locations=data['host_location'].unique(),\n",
    "    maximums=data.max(axis=0),\n",
    "    minimums=data.min(axis=0),\n",
    "    means=data.mean(axis=0)\n",
    ")\n",
    "result.write()"
   ]
  },
  {
   "cell_type": "markdown",
   "metadata": {},
   "source": [
    "### Load data from a CSV file\n",
    "\n",
    "We provide you a clean dataset you should start withto perform your analysis:"
   ]
  },
  {
   "cell_type": "markdown",
   "metadata": {},
   "source": [
    "**📝 Load the data from this URL: https://wagon-public-datasets.s3.amazonaws.com/certification/airbnb_profits_analysis/airbnb.csv inside a `DataFrame` named `accommodations`. Display the 10 first rows.** "
   ]
  },
  {
   "cell_type": "code",
   "execution_count": 1,
   "metadata": {
    "tags": [
     "challengify"
    ]
   },
   "outputs": [],
   "source": [
    "# YOUR CODE HERE"
   ]
  },
  {
   "cell_type": "markdown",
   "metadata": {},
   "source": [
    "## Exploratory analysis\n",
    "\n",
    "In this section, explore the dataset and visualize the data to get some intuitions.\n",
    "\n",
    "In particular, try to make a sense of the relationships between the price of an accommodation and its characteristics.\n",
    "\n",
    "\n",
    "ℹ️ We are **not** waiting for multivariate analysis at this point (using the `statsmodels` package)"
   ]
  },
  {
   "cell_type": "code",
   "execution_count": 3,
   "metadata": {
    "tags": [
     "challengify"
    ]
   },
   "outputs": [],
   "source": [
    "# YOUR CODE HERE"
   ]
  },
  {
   "cell_type": "markdown",
   "metadata": {},
   "source": [
    "## Statistical analysis\n",
    "\n",
    "These analysis can help you to forge your presentation but you are **strongly encouraged** to follow your own findings."
   ]
  },
  {
   "cell_type": "markdown",
   "metadata": {},
   "source": [
    "### Hotel room statistics\n",
    "\n",
    "The Airbnb team is really interested in the **Hotel rooms** so you will have to answer some questions about it. \n",
    "\n",
    "To do so, we are considering a binary segmentation: **Hotel rooms vs the rest**."
   ]
  },
  {
   "cell_type": "markdown",
   "metadata": {},
   "source": [
    "**❓ Using a statistical test, can you tell than Hotel rooms are statistically more expensive than the other rooms?**\n",
    "\n",
    "Store the $p\\text{-}value$ of your test inside a `p_value` variable."
   ]
  },
  {
   "cell_type": "code",
   "execution_count": 6,
   "metadata": {
    "tags": [
     "challengify"
    ]
   },
   "outputs": [],
   "source": [
    "# YOUR CODE HERE"
   ]
  },
  {
   "cell_type": "markdown",
   "metadata": {},
   "source": [
    "### Price room analysis"
   ]
  },
  {
   "cell_type": "markdown",
   "metadata": {},
   "source": [
    "**❓ Plot the distribution of the prices?**\n",
    "\n",
    "ℹ️ Use the accommodations with price lower than $200 for a better visualization"
   ]
  },
  {
   "cell_type": "code",
   "execution_count": 31,
   "metadata": {
    "tags": [
     "challengify"
    ]
   },
   "outputs": [],
   "source": [
    "# YOUR CODE HERE"
   ]
  },
  {
   "cell_type": "markdown",
   "metadata": {},
   "source": [
    "**❓ What do think about that distribution?**"
   ]
  },
  {
   "cell_type": "markdown",
   "metadata": {
    "tags": [
     "challengify"
    ]
   },
   "source": [
    "> YOUR ANSWER HERE"
   ]
  },
  {
   "cell_type": "markdown",
   "metadata": {},
   "source": [
    "**📝 What transformation would you use to the price to fit a linear model? Transform your target as you see fit.**"
   ]
  },
  {
   "cell_type": "code",
   "execution_count": 32,
   "metadata": {
    "tags": [
     "challengify"
    ]
   },
   "outputs": [],
   "source": [
    "# YOUR CODE HERE"
   ]
  },
  {
   "cell_type": "markdown",
   "metadata": {},
   "source": [
    "\n",
    "**❓ Can we explain the price for a customer with our features?**\n",
    "\n",
    "Using the numerical and the categorical features of your choice, try to fit a not too complex model to explain the price of an accommodation.\n",
    "\n",
    "Store the `summary` of the model inside a `model_summary` variable."
   ]
  },
  {
   "cell_type": "code",
   "execution_count": 274,
   "metadata": {
    "tags": [
     "challengify"
    ]
   },
   "outputs": [],
   "source": [
    "# YOUR CODE HERE"
   ]
  },
  {
   "cell_type": "markdown",
   "metadata": {},
   "source": [
    "**❓ What features explain the best the price of an accommodation in Madrid?**\n",
    "- Which ones are the most statistically significant?\n",
    "- Which numerical feature is the most sensitive to the price?"
   ]
  },
  {
   "cell_type": "markdown",
   "metadata": {
    "tags": [
     "challengify"
    ]
   },
   "source": [
    "> YOUR ANSWER HERE"
   ]
  },
  {
   "cell_type": "markdown",
   "metadata": {},
   "source": [
    "**❓ Explain with your own words the impact of an increase of one unity of the feature of your choice on the price of an accommodation.**"
   ]
  },
  {
   "cell_type": "markdown",
   "metadata": {
    "tags": [
     "challengify"
    ]
   },
   "source": [
    "> YOUR ANSWER HERE"
   ]
  },
  {
   "cell_type": "markdown",
   "metadata": {},
   "source": [
    "**❓ Are you satisfied with your model? Why?**"
   ]
  },
  {
   "cell_type": "markdown",
   "metadata": {
    "tags": [
     "challengify"
    ]
   },
   "source": [
    "> YOUR ANSWER HERE"
   ]
  },
  {
   "cell_type": "markdown",
   "metadata": {},
   "source": [
    "**❓Are you confident in the p-values of your model?**"
   ]
  },
  {
   "cell_type": "code",
   "execution_count": null,
   "metadata": {
    "tags": [
     "challengify"
    ]
   },
   "outputs": [],
   "source": [
    "# YOUR CODE HERE"
   ]
  },
  {
   "cell_type": "markdown",
   "metadata": {},
   "source": [
    "### 💾 Save your results\n",
    "\n",
    "Run the cell below to save your results."
   ]
  },
  {
   "cell_type": "code",
   "execution_count": 326,
   "metadata": {},
   "outputs": [],
   "source": [
    "from nbresult import ChallengeResult\n",
    "\n",
    "result = ChallengeResult('analysis', p_value=p_value, model_summary=str(model_summary))\n",
    "result.write()"
   ]
  },
  {
   "cell_type": "markdown",
   "metadata": {},
   "source": [
    "## CEO question\n",
    "\n",
    "> **How can we increase the average rating of the accommodations in Madrid to 95% while keeping the revenue as high as possible?**\n",
    "\n",
    "[BONUS] In addition could you give some advices / quick wins to Airbnb Hosts Team in order to help hosts increasing their accommodation price while onboarding on the platform."
   ]
  },
  {
   "cell_type": "markdown",
   "metadata": {},
   "source": [
    "⚠️ We suppose for this study that: \n",
    "- An accommodation is booked **60%** of the available time\n",
    "- Airbnb takes a **5% fee** on the revenue per accommodation\n",
    "- The actions you will recommend have a _negligible impact_ on the actual charges of Airbnb"
   ]
  },
  {
   "cell_type": "markdown",
   "metadata": {},
   "source": [
    "## Presentation\n",
    "\n",
    "Based on the analysis of the `accommodations` dataset, prepare a slides deck to present your conclusions to the CEO of Airbnb Spain. The presentation must contain **5 slides maximum** (including the title slide). \n",
    "\n",
    "💡 The CEO is in fond of illustrations, figures and statistics.\n",
    "\n",
    "\n",
    "ℹ️ You may follow the [pyramid principle](https://gettingbettereveryday.org/2018/10/05/what-you-could-learn-from-barbra-mintos-the-pyramid-principle-2009-172-pages/) with an inductive approach, actions first!\n",
    "\n",
    "\n",
    "⚠️ Save your presentation at the root of the repository.\n",
    "\n",
    "🚀 You turn!"
   ]
  },
  {
   "cell_type": "code",
   "execution_count": null,
   "metadata": {},
   "outputs": [],
   "source": []
  }
 ],
 "metadata": {
  "kernelspec": {
   "display_name": "Python 3 (ipykernel)",
   "language": "python",
   "name": "python3"
  },
  "language_info": {
   "codemirror_mode": {
    "name": "ipython",
    "version": 3
   },
   "file_extension": ".py",
   "mimetype": "text/x-python",
   "name": "python",
   "nbconvert_exporter": "python",
   "pygments_lexer": "ipython3",
   "version": "3.8.12"
  },
  "toc": {
   "base_numbering": 1,
   "nav_menu": {},
   "number_sections": false,
   "sideBar": true,
   "skip_h1_title": false,
   "title_cell": "Table of Contents",
   "title_sidebar": "Contents",
   "toc_cell": false,
   "toc_position": {
    "height": "calc(100% - 180px)",
    "left": "10px",
    "top": "150px",
    "width": "384px"
   },
   "toc_section_display": true,
   "toc_window_display": true
  }
 },
 "nbformat": 4,
 "nbformat_minor": 4
}
