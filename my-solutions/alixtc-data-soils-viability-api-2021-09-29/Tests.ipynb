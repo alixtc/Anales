{
 "cells": [
  {
   "cell_type": "code",
   "execution_count": 1,
   "id": "51bee011",
   "metadata": {
    "ExecuteTime": {
     "end_time": "2021-09-29T14:48:16.815373Z",
     "start_time": "2021-09-29T14:48:15.555638Z"
    }
   },
   "outputs": [],
   "source": [
    "import joblib"
   ]
  },
  {
   "cell_type": "code",
   "execution_count": 2,
   "id": "ce013598",
   "metadata": {
    "ExecuteTime": {
     "end_time": "2021-09-29T14:48:51.178329Z",
     "start_time": "2021-09-29T14:48:44.056828Z"
    }
   },
   "outputs": [],
   "source": [
    "model = joblib.load('assets/model.joblib')\n"
   ]
  },
  {
   "cell_type": "code",
   "execution_count": 11,
   "id": "e734b7ca",
   "metadata": {
    "ExecuteTime": {
     "end_time": "2021-09-29T14:52:25.942165Z",
     "start_time": "2021-09-29T14:52:25.934420Z"
    }
   },
   "outputs": [],
   "source": [
    "dico = {'measure_index': 55.79, \n",
    "'measure_moisture': 28.74, \n",
    "'measure_temperature': 20.3, \n",
    "'measure_chemicals': 1.13, \n",
    "'measure_biodiversity': 437.36, \n",
    "'main_element': 'K', \n",
    "'soil_condition': 'normal', \n",
    "'datetime_start': '2018-10-12 15:14:58', \n",
    "'datetime_end': '2018-10-12 17:58:38'}\n"
   ]
  },
  {
   "cell_type": "code",
   "execution_count": 5,
   "id": "6e1a96e8",
   "metadata": {
    "ExecuteTime": {
     "end_time": "2021-09-29T14:51:20.410315Z",
     "start_time": "2021-09-29T14:51:20.403727Z"
    }
   },
   "outputs": [],
   "source": [
    "import pandas as pd"
   ]
  },
  {
   "cell_type": "code",
   "execution_count": 12,
   "id": "2a10229a",
   "metadata": {
    "ExecuteTime": {
     "end_time": "2021-09-29T14:52:27.171390Z",
     "start_time": "2021-09-29T14:52:27.159816Z"
    }
   },
   "outputs": [],
   "source": [
    "data = pd.DataFrame.from_dict(dico, orient='index').T"
   ]
  },
  {
   "cell_type": "code",
   "execution_count": 13,
   "id": "5e1aa0c3",
   "metadata": {
    "ExecuteTime": {
     "end_time": "2021-09-29T14:52:27.757943Z",
     "start_time": "2021-09-29T14:52:27.677637Z"
    }
   },
   "outputs": [
    {
     "data": {
      "text/plain": [
       "array([1])"
      ]
     },
     "execution_count": 13,
     "metadata": {},
     "output_type": "execute_result"
    }
   ],
   "source": [
    "model.predict(data)"
   ]
  },
  {
   "cell_type": "code",
   "execution_count": 14,
   "id": "165f15c9",
   "metadata": {
    "ExecuteTime": {
     "end_time": "2021-09-29T14:52:42.151021Z",
     "start_time": "2021-09-29T14:52:42.137501Z"
    }
   },
   "outputs": [
    {
     "data": {
      "text/plain": [
       "[0]"
      ]
     },
     "execution_count": 14,
     "metadata": {},
     "output_type": "execute_result"
    }
   ],
   "source": [
    "[0]"
   ]
  },
  {
   "cell_type": "code",
   "execution_count": 17,
   "id": "a10070c7",
   "metadata": {
    "ExecuteTime": {
     "end_time": "2021-09-29T14:54:04.843053Z",
     "start_time": "2021-09-29T14:54:04.831853Z"
    }
   },
   "outputs": [
    {
     "data": {
      "text/plain": [
       "True"
      ]
     },
     "execution_count": 17,
     "metadata": {},
     "output_type": "execute_result"
    }
   ],
   "source": []
  },
  {
   "cell_type": "code",
   "execution_count": null,
   "id": "1f45f5e2",
   "metadata": {},
   "outputs": [],
   "source": []
  }
 ],
 "metadata": {
  "kernelspec": {
   "display_name": "Python 3 (ipykernel)",
   "language": "python",
   "name": "python3"
  },
  "language_info": {
   "codemirror_mode": {
    "name": "ipython",
    "version": 3
   },
   "file_extension": ".py",
   "mimetype": "text/x-python",
   "name": "python",
   "nbconvert_exporter": "python",
   "pygments_lexer": "ipython3",
   "version": "3.8.12"
  }
 },
 "nbformat": 4,
 "nbformat_minor": 5
}
