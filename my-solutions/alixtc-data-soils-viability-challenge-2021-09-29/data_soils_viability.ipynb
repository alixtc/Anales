{
 "cells": [
  {
   "cell_type": "code",
   "execution_count": 261,
   "metadata": {
    "ExecuteTime": {
     "end_time": "2021-09-29T13:41:19.646889Z",
     "start_time": "2021-09-29T13:41:19.634053Z"
    }
   },
   "outputs": [],
   "source": [
    "import math\n",
    "import pandas as pd\n",
    "import numpy as np\n",
    "import seaborn as sns\n",
    "import matplotlib.pyplot as plt\n",
    "\n",
    "from sklearn.metrics import recall_score\n",
    "\n",
    "from sklearn.model_selection import train_test_split, cross_val_score,  cross_validate, GridSearchCV\n",
    "from sklearn.preprocessing import OneHotEncoder, LabelEncoder, OrdinalEncoder, MinMaxScaler\n",
    "from sklearn.pipeline import make_pipeline\n",
    "from sklearn.compose import make_column_transformer\n",
    "from sklearn.impute import SimpleImputer\n",
    "from sklearn.decomposition import PCA\n",
    "\n",
    "from sklearn.linear_model import LogisticRegression\n",
    "from sklearn.ensemble import RandomForestClassifier\n",
    "from sklearn.base import TransformerMixin, BaseEstimator"
   ]
  },
  {
   "cell_type": "markdown",
   "metadata": {},
   "source": [
    "# Prediction of Soil Viability for Sustainable Agriculture"
   ]
  },
  {
   "cell_type": "markdown",
   "metadata": {},
   "source": [
    "🎯 The goal of this challenge is to train a model that classifies soils as viable or not for sustainable agriculture."
   ]
  },
  {
   "cell_type": "markdown",
   "metadata": {},
   "source": [
    "💡 As part of an initiative to promote sustainable agriculture worldwide, experiments were made at different locations.\n",
    "\n",
    "Each experiment consisted in an analysis of the soil.  \n",
    "The results of these analysis are our features.\n",
    "\n",
    "After the analysis, a small agriculture project was launched at the location:    \n",
    "- If the project was successful, the soil was labeled as viable.  \n",
    "- On the other hand if the project failed, the soil was labeled as not-viable.  \n",
    "\n",
    "The viability of the soil is our target."
   ]
  },
  {
   "cell_type": "markdown",
   "metadata": {},
   "source": [
    "💡 Small test projects were used for data collection, but the ambition is to launch projects of much larger scale.  \n",
    "\n",
    "The costs and time investment on these large scale projects are extremely high.  \n",
    "\n",
    "🎯 To be valuable, our model should be right at least 90% of the time when it identifies a viable soil."
   ]
  },
  {
   "cell_type": "markdown",
   "metadata": {},
   "source": [
    "Here is a description of the fields:\n",
    "- **id**: Unique identification number of the experiment\n",
    "- **scientist**: Name of the scientist responsible for the experiment\n",
    "- **measure_index**: Engineered measure of soil characteristics\n",
    "- **measure_moisture**: Moisture level of the soil\n",
    "- **measure_temperature**: Temperature of the soil, in Celsius degrees\n",
    "- **measure_chemicals**: Indice of chemicals presence in the soil\n",
    "- **measure_biodiversity**: Indice of biodiversity in the soil\n",
    "- **measure_flora**: Indice of diversity of flora in the soil\n",
    "- **main_element**: Symbol of the main chemical element found in the soil\n",
    "- **past_agriculture**: Indicates the presence of past agriculture on the soil\n",
    "- **soil_condition**: Overall indicator of the soil fertility\n",
    "- **datetime_start**: Timestamp of experiment's start \n",
    "- **datetime_end**: Timestamp of experiment's end\n",
    "- **target**: Viability of the soil  \n",
    "    - 1: means the soil was viable, i.e. the test project was a success  \n",
    "    - 0: means the soil was not viable, i.e. the test project was a failure"
   ]
  },
  {
   "cell_type": "markdown",
   "metadata": {},
   "source": [
    "## Data Collection"
   ]
  },
  {
   "cell_type": "markdown",
   "metadata": {},
   "source": [
    "**📝 Load the csv provided at this URL: https://wagon-public-datasets.s3.amazonaws.com/certification/soils_viability/soils_viability_train.csv.**"
   ]
  },
  {
   "cell_type": "code",
   "execution_count": 313,
   "metadata": {
    "ExecuteTime": {
     "end_time": "2021-09-29T14:12:50.253296Z",
     "start_time": "2021-09-29T14:12:47.974478Z"
    },
    "tags": [
     "challengify"
    ]
   },
   "outputs": [],
   "source": [
    "# YOUR CODE HERE\n",
    "data = pd.read_csv(\"https://wagon-public-datasets.s3.amazonaws.com/certification/soils_viability/soils_viability_train.csv\")"
   ]
  },
  {
   "cell_type": "markdown",
   "metadata": {
    "ExecuteTime": {
     "end_time": "2021-08-26T15:16:16.968282Z",
     "start_time": "2021-08-26T15:16:16.912761Z"
    }
   },
   "source": [
    "**📝 Clean the dataset and store the resulting dataset in the `data` variable:**"
   ]
  },
  {
   "cell_type": "code",
   "execution_count": 314,
   "metadata": {
    "ExecuteTime": {
     "end_time": "2021-09-29T14:12:54.848263Z",
     "start_time": "2021-09-29T14:12:54.815267Z"
    }
   },
   "outputs": [
    {
     "name": "stdout",
     "output_type": "stream",
     "text": [
      "<class 'pandas.core.frame.DataFrame'>\n",
      "RangeIndex: 8302 entries, 0 to 8301\n",
      "Data columns (total 14 columns):\n",
      " #   Column                Non-Null Count  Dtype  \n",
      "---  ------                --------------  -----  \n",
      " 0   id                    8302 non-null   int64  \n",
      " 1   scientist             8302 non-null   object \n",
      " 2   measure_index         8302 non-null   float64\n",
      " 3   measure_moisture      8295 non-null   float64\n",
      " 4   measure_temperature   8285 non-null   float64\n",
      " 5   measure_chemicals     8284 non-null   float64\n",
      " 6   measure_biodiversity  8284 non-null   float64\n",
      " 7   measure_flora         78 non-null     float64\n",
      " 8   main_element          8302 non-null   object \n",
      " 9   past_agriculture      4955 non-null   object \n",
      " 10  soil_condition        8302 non-null   object \n",
      " 11  datetime_start        8302 non-null   object \n",
      " 12  datetime_end          8302 non-null   object \n",
      " 13  target                8302 non-null   int64  \n",
      "dtypes: float64(6), int64(2), object(6)\n",
      "memory usage: 908.2+ KB\n"
     ]
    }
   ],
   "source": [
    "# YOUR CODE HERE\n",
    "data.info()"
   ]
  },
  {
   "cell_type": "code",
   "execution_count": 315,
   "metadata": {
    "ExecuteTime": {
     "end_time": "2021-09-29T14:12:55.093619Z",
     "start_time": "2021-09-29T14:12:55.072524Z"
    },
    "tags": [
     "challengify"
    ]
   },
   "outputs": [
    {
     "data": {
      "text/plain": [
       "id                         0\n",
       "scientist                  0\n",
       "measure_index              0\n",
       "measure_moisture           7\n",
       "measure_temperature       17\n",
       "measure_chemicals         18\n",
       "measure_biodiversity      18\n",
       "measure_flora           8224\n",
       "main_element               0\n",
       "past_agriculture        3347\n",
       "soil_condition             0\n",
       "datetime_start             0\n",
       "datetime_end               0\n",
       "target                     0\n",
       "dtype: int64"
      ]
     },
     "execution_count": 315,
     "metadata": {},
     "output_type": "execute_result"
    }
   ],
   "source": [
    "data.isnull().sum()"
   ]
  },
  {
   "cell_type": "code",
   "execution_count": 316,
   "metadata": {
    "ExecuteTime": {
     "end_time": "2021-09-29T14:12:56.325949Z",
     "start_time": "2021-09-29T14:12:56.308702Z"
    }
   },
   "outputs": [],
   "source": [
    "data = data.drop(['measure_flora', 'past_agriculture'], axis=1)"
   ]
  },
  {
   "cell_type": "code",
   "execution_count": 317,
   "metadata": {
    "ExecuteTime": {
     "end_time": "2021-09-29T14:12:56.754963Z",
     "start_time": "2021-09-29T14:12:56.732902Z"
    }
   },
   "outputs": [],
   "source": [
    "data.datetime_start = pd.to_datetime(data.datetime_start)\n",
    "data.datetime_end = pd.to_datetime(data.datetime_end)"
   ]
  },
  {
   "cell_type": "code",
   "execution_count": 318,
   "metadata": {
    "ExecuteTime": {
     "end_time": "2021-09-29T14:12:57.105593Z",
     "start_time": "2021-09-29T14:12:57.086804Z"
    }
   },
   "outputs": [
    {
     "data": {
      "text/plain": [
       "Ca    1099\n",
       "Al    1048\n",
       "C     1039\n",
       "O     1030\n",
       "Na    1023\n",
       "Si    1023\n",
       "Fe    1021\n",
       "K     1015\n",
       "Es       4\n",
       "Name: main_element, dtype: int64"
      ]
     },
     "execution_count": 318,
     "metadata": {},
     "output_type": "execute_result"
    }
   ],
   "source": [
    "data.main_element.value_counts()"
   ]
  },
  {
   "cell_type": "code",
   "execution_count": 319,
   "metadata": {
    "ExecuteTime": {
     "end_time": "2021-09-29T14:12:57.656793Z",
     "start_time": "2021-09-29T14:12:57.585176Z"
    }
   },
   "outputs": [
    {
     "data": {
      "text/html": [
       "<div>\n",
       "<style scoped>\n",
       "    .dataframe tbody tr th:only-of-type {\n",
       "        vertical-align: middle;\n",
       "    }\n",
       "\n",
       "    .dataframe tbody tr th {\n",
       "        vertical-align: top;\n",
       "    }\n",
       "\n",
       "    .dataframe thead th {\n",
       "        text-align: right;\n",
       "    }\n",
       "</style>\n",
       "<table border=\"1\" class=\"dataframe\">\n",
       "  <thead>\n",
       "    <tr style=\"text-align: right;\">\n",
       "      <th></th>\n",
       "      <th>id</th>\n",
       "      <th>scientist</th>\n",
       "      <th>measure_index</th>\n",
       "      <th>measure_moisture</th>\n",
       "      <th>measure_temperature</th>\n",
       "      <th>measure_chemicals</th>\n",
       "      <th>measure_biodiversity</th>\n",
       "      <th>main_element</th>\n",
       "      <th>soil_condition</th>\n",
       "      <th>datetime_start</th>\n",
       "      <th>datetime_end</th>\n",
       "      <th>target</th>\n",
       "    </tr>\n",
       "  </thead>\n",
       "  <tbody>\n",
       "    <tr>\n",
       "      <th>0</th>\n",
       "      <td>493</td>\n",
       "      <td>Kathryn Owens</td>\n",
       "      <td>1.875085</td>\n",
       "      <td>24.442232</td>\n",
       "      <td>18.510316</td>\n",
       "      <td>5.715697</td>\n",
       "      <td>521.074105</td>\n",
       "      <td>Na</td>\n",
       "      <td>normal</td>\n",
       "      <td>2017-06-27 16:53:42</td>\n",
       "      <td>2017-06-27 20:05:36</td>\n",
       "      <td>1</td>\n",
       "    </tr>\n",
       "    <tr>\n",
       "      <th>1</th>\n",
       "      <td>2340</td>\n",
       "      <td>Andrea Pratt</td>\n",
       "      <td>7.658911</td>\n",
       "      <td>30.121175</td>\n",
       "      <td>17.050250</td>\n",
       "      <td>1.973804</td>\n",
       "      <td>314.443474</td>\n",
       "      <td>Ca</td>\n",
       "      <td>rich</td>\n",
       "      <td>2018-12-10 07:06:56</td>\n",
       "      <td>2018-12-10 11:43:29</td>\n",
       "      <td>1</td>\n",
       "    </tr>\n",
       "    <tr>\n",
       "      <th>2</th>\n",
       "      <td>5434</td>\n",
       "      <td>Kaitlyn Jackson</td>\n",
       "      <td>18.000212</td>\n",
       "      <td>34.188025</td>\n",
       "      <td>17.157393</td>\n",
       "      <td>3.658506</td>\n",
       "      <td>361.796180</td>\n",
       "      <td>Al</td>\n",
       "      <td>normal</td>\n",
       "      <td>2018-10-04 18:45:29</td>\n",
       "      <td>2018-10-04 23:20:38</td>\n",
       "      <td>0</td>\n",
       "    </tr>\n",
       "    <tr>\n",
       "      <th>3</th>\n",
       "      <td>2304</td>\n",
       "      <td>Brett Rosario</td>\n",
       "      <td>4.056764</td>\n",
       "      <td>37.462768</td>\n",
       "      <td>13.275961</td>\n",
       "      <td>6.666983</td>\n",
       "      <td>402.016494</td>\n",
       "      <td>Ca</td>\n",
       "      <td>normal</td>\n",
       "      <td>2018-10-03 08:03:36</td>\n",
       "      <td>2018-10-03 10:56:40</td>\n",
       "      <td>0</td>\n",
       "    </tr>\n",
       "    <tr>\n",
       "      <th>4</th>\n",
       "      <td>1911</td>\n",
       "      <td>Craig Thompson</td>\n",
       "      <td>53.271676</td>\n",
       "      <td>31.425482</td>\n",
       "      <td>17.433458</td>\n",
       "      <td>1.940748</td>\n",
       "      <td>978.383654</td>\n",
       "      <td>Si</td>\n",
       "      <td>poor</td>\n",
       "      <td>2018-07-20 09:27:34</td>\n",
       "      <td>2018-07-20 13:48:30</td>\n",
       "      <td>0</td>\n",
       "    </tr>\n",
       "    <tr>\n",
       "      <th>...</th>\n",
       "      <td>...</td>\n",
       "      <td>...</td>\n",
       "      <td>...</td>\n",
       "      <td>...</td>\n",
       "      <td>...</td>\n",
       "      <td>...</td>\n",
       "      <td>...</td>\n",
       "      <td>...</td>\n",
       "      <td>...</td>\n",
       "      <td>...</td>\n",
       "      <td>...</td>\n",
       "      <td>...</td>\n",
       "    </tr>\n",
       "    <tr>\n",
       "      <th>8133</th>\n",
       "      <td>6275</td>\n",
       "      <td>James Carter</td>\n",
       "      <td>6.616369</td>\n",
       "      <td>999.000000</td>\n",
       "      <td>17.283441</td>\n",
       "      <td>7.693774</td>\n",
       "      <td>683.214251</td>\n",
       "      <td>Al</td>\n",
       "      <td>poor</td>\n",
       "      <td>2017-04-23 04:10:57</td>\n",
       "      <td>2017-04-23 06:11:58</td>\n",
       "      <td>0</td>\n",
       "    </tr>\n",
       "    <tr>\n",
       "      <th>8134</th>\n",
       "      <td>9851</td>\n",
       "      <td>Benjamin Rodriguez</td>\n",
       "      <td>23.578767</td>\n",
       "      <td>999.000000</td>\n",
       "      <td>18.456903</td>\n",
       "      <td>1.009824</td>\n",
       "      <td>313.740816</td>\n",
       "      <td>O</td>\n",
       "      <td>rich</td>\n",
       "      <td>2017-07-21 16:57:54</td>\n",
       "      <td>2017-07-21 20:30:17</td>\n",
       "      <td>1</td>\n",
       "    </tr>\n",
       "    <tr>\n",
       "      <th>8135</th>\n",
       "      <td>1453</td>\n",
       "      <td>Colin Baxter</td>\n",
       "      <td>9.967761</td>\n",
       "      <td>999.000000</td>\n",
       "      <td>14.949271</td>\n",
       "      <td>3.484480</td>\n",
       "      <td>370.533784</td>\n",
       "      <td>O</td>\n",
       "      <td>rich</td>\n",
       "      <td>2017-01-07 04:00:02</td>\n",
       "      <td>2017-01-07 06:26:16</td>\n",
       "      <td>1</td>\n",
       "    </tr>\n",
       "    <tr>\n",
       "      <th>8136</th>\n",
       "      <td>4265</td>\n",
       "      <td>Christina Ortega</td>\n",
       "      <td>5.195543</td>\n",
       "      <td>999.000000</td>\n",
       "      <td>21.811990</td>\n",
       "      <td>2.261112</td>\n",
       "      <td>403.970941</td>\n",
       "      <td>Si</td>\n",
       "      <td>poor</td>\n",
       "      <td>2018-12-12 10:12:04</td>\n",
       "      <td>2018-12-12 13:02:11</td>\n",
       "      <td>0</td>\n",
       "    </tr>\n",
       "    <tr>\n",
       "      <th>8137</th>\n",
       "      <td>8906</td>\n",
       "      <td>Shawn Campbell</td>\n",
       "      <td>4.525789</td>\n",
       "      <td>999.000000</td>\n",
       "      <td>19.170774</td>\n",
       "      <td>1.409303</td>\n",
       "      <td>452.556674</td>\n",
       "      <td>K</td>\n",
       "      <td>normal</td>\n",
       "      <td>2017-05-02 03:18:48</td>\n",
       "      <td>2017-05-02 08:05:03</td>\n",
       "      <td>1</td>\n",
       "    </tr>\n",
       "  </tbody>\n",
       "</table>\n",
       "<p>8138 rows × 12 columns</p>\n",
       "</div>"
      ],
      "text/plain": [
       "        id           scientist  measure_index  measure_moisture  \\\n",
       "0      493       Kathryn Owens       1.875085         24.442232   \n",
       "1     2340        Andrea Pratt       7.658911         30.121175   \n",
       "2     5434     Kaitlyn Jackson      18.000212         34.188025   \n",
       "3     2304       Brett Rosario       4.056764         37.462768   \n",
       "4     1911      Craig Thompson      53.271676         31.425482   \n",
       "...    ...                 ...            ...               ...   \n",
       "8133  6275        James Carter       6.616369        999.000000   \n",
       "8134  9851  Benjamin Rodriguez      23.578767        999.000000   \n",
       "8135  1453        Colin Baxter       9.967761        999.000000   \n",
       "8136  4265    Christina Ortega       5.195543        999.000000   \n",
       "8137  8906      Shawn Campbell       4.525789        999.000000   \n",
       "\n",
       "      measure_temperature  measure_chemicals  measure_biodiversity  \\\n",
       "0               18.510316           5.715697            521.074105   \n",
       "1               17.050250           1.973804            314.443474   \n",
       "2               17.157393           3.658506            361.796180   \n",
       "3               13.275961           6.666983            402.016494   \n",
       "4               17.433458           1.940748            978.383654   \n",
       "...                   ...                ...                   ...   \n",
       "8133            17.283441           7.693774            683.214251   \n",
       "8134            18.456903           1.009824            313.740816   \n",
       "8135            14.949271           3.484480            370.533784   \n",
       "8136            21.811990           2.261112            403.970941   \n",
       "8137            19.170774           1.409303            452.556674   \n",
       "\n",
       "     main_element soil_condition      datetime_start        datetime_end  \\\n",
       "0              Na         normal 2017-06-27 16:53:42 2017-06-27 20:05:36   \n",
       "1              Ca           rich 2018-12-10 07:06:56 2018-12-10 11:43:29   \n",
       "2              Al         normal 2018-10-04 18:45:29 2018-10-04 23:20:38   \n",
       "3              Ca         normal 2018-10-03 08:03:36 2018-10-03 10:56:40   \n",
       "4              Si           poor 2018-07-20 09:27:34 2018-07-20 13:48:30   \n",
       "...           ...            ...                 ...                 ...   \n",
       "8133           Al           poor 2017-04-23 04:10:57 2017-04-23 06:11:58   \n",
       "8134            O           rich 2017-07-21 16:57:54 2017-07-21 20:30:17   \n",
       "8135            O           rich 2017-01-07 04:00:02 2017-01-07 06:26:16   \n",
       "8136           Si           poor 2018-12-12 10:12:04 2018-12-12 13:02:11   \n",
       "8137            K         normal 2017-05-02 03:18:48 2017-05-02 08:05:03   \n",
       "\n",
       "      target  \n",
       "0          1  \n",
       "1          1  \n",
       "2          0  \n",
       "3          0  \n",
       "4          0  \n",
       "...      ...  \n",
       "8133       0  \n",
       "8134       1  \n",
       "8135       1  \n",
       "8136       0  \n",
       "8137       1  \n",
       "\n",
       "[8138 rows x 12 columns]"
      ]
     },
     "execution_count": 319,
     "metadata": {},
     "output_type": "execute_result"
    }
   ],
   "source": [
    "data = data.drop_duplicates().reset_index(drop=True)\n",
    "data"
   ]
  },
  {
   "cell_type": "markdown",
   "metadata": {},
   "source": [
    "### 💾 Save your results\n",
    "\n",
    "Run the cell below to save your results."
   ]
  },
  {
   "cell_type": "code",
   "execution_count": 320,
   "metadata": {
    "ExecuteTime": {
     "end_time": "2021-09-29T14:13:02.384402Z",
     "start_time": "2021-09-29T14:13:02.373643Z"
    }
   },
   "outputs": [],
   "source": [
    "from nbresult import ChallengeResult\n",
    "results = ChallengeResult(\n",
    "    \"data_cleaning\",\n",
    "    columns=data.columns,\n",
    "    shape=data.shape,\n",
    "    samples=data.loc[7000:,:]\n",
    ")\n",
    "results.write()"
   ]
  },
  {
   "cell_type": "markdown",
   "metadata": {},
   "source": [
    "## Target, Baseline & Metrics"
   ]
  },
  {
   "cell_type": "markdown",
   "metadata": {
    "ExecuteTime": {
     "end_time": "2021-08-26T09:51:04.532853Z",
     "start_time": "2021-08-26T09:51:04.520413Z"
    }
   },
   "source": [
    "**📝 Check the number of target classes and their repartition.**"
   ]
  },
  {
   "cell_type": "code",
   "execution_count": 321,
   "metadata": {
    "ExecuteTime": {
     "end_time": "2021-09-29T14:13:04.303088Z",
     "start_time": "2021-09-29T14:13:04.286069Z"
    },
    "tags": [
     "challengify"
    ]
   },
   "outputs": [
    {
     "data": {
      "text/plain": [
       "count    8138.000000\n",
       "mean        0.502826\n",
       "std         0.500023\n",
       "min         0.000000\n",
       "25%         0.000000\n",
       "50%         1.000000\n",
       "75%         1.000000\n",
       "max         1.000000\n",
       "Name: target, dtype: float64"
      ]
     },
     "execution_count": 321,
     "metadata": {},
     "output_type": "execute_result"
    }
   ],
   "source": [
    "# YOUR CODE HERE\n",
    "data.target.describe()"
   ]
  },
  {
   "cell_type": "markdown",
   "metadata": {},
   "source": [
    "❓ Is the dataset balanced?"
   ]
  },
  {
   "cell_type": "markdown",
   "metadata": {
    "tags": [
     "challengify"
    ]
   },
   "source": [
    "Yes the dataset is balanced with ~50% of the dataset for both classes."
   ]
  },
  {
   "cell_type": "markdown",
   "metadata": {},
   "source": [
    "🎯 Recall our initial requirement:\n",
    "\n",
    "**\"To be valuable, our model should be right at least 90% of the time when it predicts a viable soil.\"**\n",
    "\n",
    "📝 Store the name of the metric we should use for this purpose in a variable `metric` from the list proposed by [Scikit-learn](https://scikit-learn.org/stable/modules/model_evaluation.html#common-cases-predefined-values).\n"
   ]
  },
  {
   "cell_type": "code",
   "execution_count": 322,
   "metadata": {
    "ExecuteTime": {
     "end_time": "2021-09-29T14:13:06.773195Z",
     "start_time": "2021-09-29T14:13:06.767889Z"
    },
    "tags": [
     "challengify"
    ]
   },
   "outputs": [],
   "source": [
    "# YOUR CODE HERE\n",
    "metric = 'recall'"
   ]
  },
  {
   "cell_type": "markdown",
   "metadata": {},
   "source": [
    "**📝 Compute the baseline score and store the result as a floating number in the `baseline_score` variable.**\n"
   ]
  },
  {
   "cell_type": "code",
   "execution_count": 323,
   "metadata": {
    "ExecuteTime": {
     "end_time": "2021-09-29T14:13:07.891166Z",
     "start_time": "2021-09-29T14:13:07.871953Z"
    },
    "tags": [
     "challengify"
    ]
   },
   "outputs": [
    {
     "data": {
      "text/plain": [
       "0.5034213098729228"
      ]
     },
     "execution_count": 323,
     "metadata": {},
     "output_type": "execute_result"
    }
   ],
   "source": [
    "# YOUR CODE HERE\n",
    "dummy_classifier = np.random.choice([0, 1], size=data.shape[0])\n",
    "baseline_score = recall_score(data.target, dummy_classifier)\n",
    "baseline_score"
   ]
  },
  {
   "cell_type": "markdown",
   "metadata": {},
   "source": [
    "**📝 Store the target in a variable named `y`.**"
   ]
  },
  {
   "cell_type": "code",
   "execution_count": 324,
   "metadata": {
    "ExecuteTime": {
     "end_time": "2021-09-29T14:13:10.238490Z",
     "start_time": "2021-09-29T14:13:10.230121Z"
    },
    "tags": [
     "challengify"
    ]
   },
   "outputs": [],
   "source": [
    "# YOUR CODE HERE\n",
    "y = data.target.to_numpy()"
   ]
  },
  {
   "cell_type": "code",
   "execution_count": 325,
   "metadata": {
    "ExecuteTime": {
     "end_time": "2021-09-29T14:13:10.684622Z",
     "start_time": "2021-09-29T14:13:10.673174Z"
    }
   },
   "outputs": [
    {
     "data": {
      "text/plain": [
       "array([1, 1, 0, ..., 1, 0, 1])"
      ]
     },
     "execution_count": 325,
     "metadata": {},
     "output_type": "execute_result"
    }
   ],
   "source": [
    "y"
   ]
  },
  {
   "cell_type": "markdown",
   "metadata": {},
   "source": [
    "### 💾 Save your results\n",
    "\n",
    "Run the cell below to save your results."
   ]
  },
  {
   "cell_type": "code",
   "execution_count": 326,
   "metadata": {
    "ExecuteTime": {
     "end_time": "2021-09-29T14:13:16.204589Z",
     "start_time": "2021-09-29T14:13:16.190519Z"
    }
   },
   "outputs": [],
   "source": [
    "results = ChallengeResult(\n",
    "    \"baseline\",\n",
    "    metric=metric,\n",
    "    baseline=baseline_score\n",
    ")\n",
    "results.write()"
   ]
  },
  {
   "cell_type": "markdown",
   "metadata": {},
   "source": [
    "## Features"
   ]
  },
  {
   "cell_type": "code",
   "execution_count": 327,
   "metadata": {
    "ExecuteTime": {
     "end_time": "2021-09-29T14:13:18.534337Z",
     "start_time": "2021-09-29T14:13:18.523956Z"
    }
   },
   "outputs": [],
   "source": [
    "from sklearn import set_config; set_config(display='diagram')"
   ]
  },
  {
   "cell_type": "markdown",
   "metadata": {},
   "source": [
    "**📝 Store the features in a DataFrame `X`.**\n"
   ]
  },
  {
   "cell_type": "code",
   "execution_count": 328,
   "metadata": {
    "ExecuteTime": {
     "end_time": "2021-09-29T14:13:19.352847Z",
     "start_time": "2021-09-29T14:13:19.342692Z"
    },
    "tags": [
     "challengify"
    ]
   },
   "outputs": [],
   "source": [
    "# YOUR CODE HERE\n",
    "X = data.drop(['target'], axis=1)"
   ]
  },
  {
   "cell_type": "markdown",
   "metadata": {},
   "source": [
    "💡 Two features in there are useless.\n",
    "\n",
    "- `id`: serves a technical need and does not carry any information.  \n",
    "- `scientist`: almost all experiments were conducted by different scientists, we assume they all followed the same protocol for the experiment.\n",
    "\n",
    "**📝 Drop these two features.**"
   ]
  },
  {
   "cell_type": "code",
   "execution_count": 329,
   "metadata": {
    "ExecuteTime": {
     "end_time": "2021-09-29T14:13:20.120291Z",
     "start_time": "2021-09-29T14:13:20.111750Z"
    },
    "tags": [
     "challengify"
    ]
   },
   "outputs": [],
   "source": [
    "# YOUR CODE HERE\n",
    "X.drop(['id', 'scientist'], axis = 1, inplace=True)"
   ]
  },
  {
   "cell_type": "markdown",
   "metadata": {},
   "source": [
    "**📝 Create variables to store feature names according to their types.**"
   ]
  },
  {
   "cell_type": "markdown",
   "metadata": {
    "ExecuteTime": {
     "end_time": "2021-08-26T15:23:40.164290Z",
     "start_time": "2021-08-26T15:23:40.149621Z"
    }
   },
   "source": [
    "- `feat_num`: list of numerical features' name\n",
    "- `feat_cat` list of categorical features' name\n",
    "- `feat_time` list of time features' name"
   ]
  },
  {
   "cell_type": "code",
   "execution_count": 331,
   "metadata": {
    "ExecuteTime": {
     "end_time": "2021-09-29T14:13:31.499263Z",
     "start_time": "2021-09-29T14:13:31.484170Z"
    },
    "tags": [
     "challengify"
    ]
   },
   "outputs": [],
   "source": [
    "# YOUR CODE HERE\n",
    "feat_num = X.select_dtypes('number').columns.to_list()\n",
    "feat_cat = X.select_dtypes('object').columns.to_list()\n",
    "feat_time = X.select_dtypes('datetime').columns.to_list()"
   ]
  },
  {
   "cell_type": "code",
   "execution_count": 332,
   "metadata": {
    "ExecuteTime": {
     "end_time": "2021-09-29T14:13:32.304317Z",
     "start_time": "2021-09-29T14:13:32.292078Z"
    },
    "tags": [
     "challengify"
    ]
   },
   "outputs": [
    {
     "data": {
      "text/plain": [
       "(['measure_index',\n",
       "  'measure_moisture',\n",
       "  'measure_temperature',\n",
       "  'measure_chemicals',\n",
       "  'measure_biodiversity'],\n",
       " ['main_element', 'soil_condition'],\n",
       " ['datetime_start', 'datetime_end'])"
      ]
     },
     "execution_count": 332,
     "metadata": {},
     "output_type": "execute_result"
    }
   ],
   "source": [
    "feat_num, feat_cat, feat_time"
   ]
  },
  {
   "cell_type": "markdown",
   "metadata": {},
   "source": [
    "💡 We will ignore date-like features for the basic preprocessing.\n",
    "\n",
    "**📝 Create `X_basic` that contains only numerical and categorical features.**\n"
   ]
  },
  {
   "cell_type": "code",
   "execution_count": 333,
   "metadata": {
    "ExecuteTime": {
     "end_time": "2021-09-29T14:13:33.758514Z",
     "start_time": "2021-09-29T14:13:33.720397Z"
    },
    "tags": [
     "challengify"
    ]
   },
   "outputs": [
    {
     "data": {
      "text/html": [
       "<div>\n",
       "<style scoped>\n",
       "    .dataframe tbody tr th:only-of-type {\n",
       "        vertical-align: middle;\n",
       "    }\n",
       "\n",
       "    .dataframe tbody tr th {\n",
       "        vertical-align: top;\n",
       "    }\n",
       "\n",
       "    .dataframe thead th {\n",
       "        text-align: right;\n",
       "    }\n",
       "</style>\n",
       "<table border=\"1\" class=\"dataframe\">\n",
       "  <thead>\n",
       "    <tr style=\"text-align: right;\">\n",
       "      <th></th>\n",
       "      <th>measure_index</th>\n",
       "      <th>measure_moisture</th>\n",
       "      <th>measure_temperature</th>\n",
       "      <th>measure_chemicals</th>\n",
       "      <th>measure_biodiversity</th>\n",
       "      <th>main_element</th>\n",
       "      <th>soil_condition</th>\n",
       "    </tr>\n",
       "  </thead>\n",
       "  <tbody>\n",
       "    <tr>\n",
       "      <th>0</th>\n",
       "      <td>1.875085</td>\n",
       "      <td>24.442232</td>\n",
       "      <td>18.510316</td>\n",
       "      <td>5.715697</td>\n",
       "      <td>521.074105</td>\n",
       "      <td>Na</td>\n",
       "      <td>normal</td>\n",
       "    </tr>\n",
       "    <tr>\n",
       "      <th>1</th>\n",
       "      <td>7.658911</td>\n",
       "      <td>30.121175</td>\n",
       "      <td>17.050250</td>\n",
       "      <td>1.973804</td>\n",
       "      <td>314.443474</td>\n",
       "      <td>Ca</td>\n",
       "      <td>rich</td>\n",
       "    </tr>\n",
       "    <tr>\n",
       "      <th>2</th>\n",
       "      <td>18.000212</td>\n",
       "      <td>34.188025</td>\n",
       "      <td>17.157393</td>\n",
       "      <td>3.658506</td>\n",
       "      <td>361.796180</td>\n",
       "      <td>Al</td>\n",
       "      <td>normal</td>\n",
       "    </tr>\n",
       "    <tr>\n",
       "      <th>3</th>\n",
       "      <td>4.056764</td>\n",
       "      <td>37.462768</td>\n",
       "      <td>13.275961</td>\n",
       "      <td>6.666983</td>\n",
       "      <td>402.016494</td>\n",
       "      <td>Ca</td>\n",
       "      <td>normal</td>\n",
       "    </tr>\n",
       "    <tr>\n",
       "      <th>4</th>\n",
       "      <td>53.271676</td>\n",
       "      <td>31.425482</td>\n",
       "      <td>17.433458</td>\n",
       "      <td>1.940748</td>\n",
       "      <td>978.383654</td>\n",
       "      <td>Si</td>\n",
       "      <td>poor</td>\n",
       "    </tr>\n",
       "    <tr>\n",
       "      <th>...</th>\n",
       "      <td>...</td>\n",
       "      <td>...</td>\n",
       "      <td>...</td>\n",
       "      <td>...</td>\n",
       "      <td>...</td>\n",
       "      <td>...</td>\n",
       "      <td>...</td>\n",
       "    </tr>\n",
       "    <tr>\n",
       "      <th>8133</th>\n",
       "      <td>6.616369</td>\n",
       "      <td>999.000000</td>\n",
       "      <td>17.283441</td>\n",
       "      <td>7.693774</td>\n",
       "      <td>683.214251</td>\n",
       "      <td>Al</td>\n",
       "      <td>poor</td>\n",
       "    </tr>\n",
       "    <tr>\n",
       "      <th>8134</th>\n",
       "      <td>23.578767</td>\n",
       "      <td>999.000000</td>\n",
       "      <td>18.456903</td>\n",
       "      <td>1.009824</td>\n",
       "      <td>313.740816</td>\n",
       "      <td>O</td>\n",
       "      <td>rich</td>\n",
       "    </tr>\n",
       "    <tr>\n",
       "      <th>8135</th>\n",
       "      <td>9.967761</td>\n",
       "      <td>999.000000</td>\n",
       "      <td>14.949271</td>\n",
       "      <td>3.484480</td>\n",
       "      <td>370.533784</td>\n",
       "      <td>O</td>\n",
       "      <td>rich</td>\n",
       "    </tr>\n",
       "    <tr>\n",
       "      <th>8136</th>\n",
       "      <td>5.195543</td>\n",
       "      <td>999.000000</td>\n",
       "      <td>21.811990</td>\n",
       "      <td>2.261112</td>\n",
       "      <td>403.970941</td>\n",
       "      <td>Si</td>\n",
       "      <td>poor</td>\n",
       "    </tr>\n",
       "    <tr>\n",
       "      <th>8137</th>\n",
       "      <td>4.525789</td>\n",
       "      <td>999.000000</td>\n",
       "      <td>19.170774</td>\n",
       "      <td>1.409303</td>\n",
       "      <td>452.556674</td>\n",
       "      <td>K</td>\n",
       "      <td>normal</td>\n",
       "    </tr>\n",
       "  </tbody>\n",
       "</table>\n",
       "<p>8138 rows × 7 columns</p>\n",
       "</div>"
      ],
      "text/plain": [
       "      measure_index  measure_moisture  measure_temperature  measure_chemicals  \\\n",
       "0          1.875085         24.442232            18.510316           5.715697   \n",
       "1          7.658911         30.121175            17.050250           1.973804   \n",
       "2         18.000212         34.188025            17.157393           3.658506   \n",
       "3          4.056764         37.462768            13.275961           6.666983   \n",
       "4         53.271676         31.425482            17.433458           1.940748   \n",
       "...             ...               ...                  ...                ...   \n",
       "8133       6.616369        999.000000            17.283441           7.693774   \n",
       "8134      23.578767        999.000000            18.456903           1.009824   \n",
       "8135       9.967761        999.000000            14.949271           3.484480   \n",
       "8136       5.195543        999.000000            21.811990           2.261112   \n",
       "8137       4.525789        999.000000            19.170774           1.409303   \n",
       "\n",
       "      measure_biodiversity main_element soil_condition  \n",
       "0               521.074105           Na         normal  \n",
       "1               314.443474           Ca           rich  \n",
       "2               361.796180           Al         normal  \n",
       "3               402.016494           Ca         normal  \n",
       "4               978.383654           Si           poor  \n",
       "...                    ...          ...            ...  \n",
       "8133            683.214251           Al           poor  \n",
       "8134            313.740816            O           rich  \n",
       "8135            370.533784            O           rich  \n",
       "8136            403.970941           Si           poor  \n",
       "8137            452.556674            K         normal  \n",
       "\n",
       "[8138 rows x 7 columns]"
      ]
     },
     "execution_count": 333,
     "metadata": {},
     "output_type": "execute_result"
    }
   ],
   "source": [
    "# YOUR CODE HERE\n",
    "X_basic = X[feat_num+feat_cat]\n",
    "X_basic"
   ]
  },
  {
   "cell_type": "code",
   "execution_count": 334,
   "metadata": {
    "ExecuteTime": {
     "end_time": "2021-09-29T14:13:35.467603Z",
     "start_time": "2021-09-29T14:13:35.452916Z"
    }
   },
   "outputs": [
    {
     "data": {
      "text/plain": [
       "measure_index            0\n",
       "measure_moisture         7\n",
       "measure_temperature     17\n",
       "measure_chemicals       18\n",
       "measure_biodiversity    18\n",
       "main_element             0\n",
       "soil_condition           0\n",
       "dtype: int64"
      ]
     },
     "execution_count": 334,
     "metadata": {},
     "output_type": "execute_result"
    }
   ],
   "source": [
    "X_basic.isnull().sum()"
   ]
  },
  {
   "cell_type": "markdown",
   "metadata": {},
   "source": [
    "### 💾 Save your results\n",
    "\n",
    "Run the cell below to save your results."
   ]
  },
  {
   "cell_type": "code",
   "execution_count": 335,
   "metadata": {
    "ExecuteTime": {
     "end_time": "2021-09-29T14:13:38.105245Z",
     "start_time": "2021-09-29T14:13:38.093027Z"
    }
   },
   "outputs": [],
   "source": [
    "from nbresult import ChallengeResult\n",
    "result = ChallengeResult(\n",
    "    \"features\",\n",
    "    columns=X.columns,\n",
    "    shape=X.shape,\n",
    "    target=y.ndim\n",
    ")\n",
    "result.write()"
   ]
  },
  {
   "cell_type": "markdown",
   "metadata": {},
   "source": [
    "## Preprocessing"
   ]
  },
  {
   "cell_type": "code",
   "execution_count": 336,
   "metadata": {
    "ExecuteTime": {
     "end_time": "2021-09-29T14:13:38.994907Z",
     "start_time": "2021-09-29T14:13:38.990534Z"
    }
   },
   "outputs": [],
   "source": [
    "from sklearn import set_config; set_config(display='diagram')"
   ]
  },
  {
   "cell_type": "markdown",
   "metadata": {},
   "source": [
    "**📝 Scale and Encode your features.**"
   ]
  },
  {
   "cell_type": "markdown",
   "metadata": {},
   "source": [
    "Prepare a ColumnTransformer that:\n",
    "- Scale the numerical features between $0$ and $1$\n",
    "- Encode the categorical features\n",
    "\n",
    "Store it in a variable `preprocessing_basic`\n"
   ]
  },
  {
   "cell_type": "code",
   "execution_count": 337,
   "metadata": {
    "ExecuteTime": {
     "end_time": "2021-09-29T14:13:40.931925Z",
     "start_time": "2021-09-29T14:13:40.869608Z"
    },
    "tags": [
     "challengify"
    ]
   },
   "outputs": [
    {
     "data": {
      "text/html": [
       "<style>#sk-c0e826d2-ec4a-4e08-a131-55b992c1245b {color: black;background-color: white;}#sk-c0e826d2-ec4a-4e08-a131-55b992c1245b pre{padding: 0;}#sk-c0e826d2-ec4a-4e08-a131-55b992c1245b div.sk-toggleable {background-color: white;}#sk-c0e826d2-ec4a-4e08-a131-55b992c1245b label.sk-toggleable__label {cursor: pointer;display: block;width: 100%;margin-bottom: 0;padding: 0.2em 0.3em;box-sizing: border-box;text-align: center;}#sk-c0e826d2-ec4a-4e08-a131-55b992c1245b div.sk-toggleable__content {max-height: 0;max-width: 0;overflow: hidden;text-align: left;background-color: #f0f8ff;}#sk-c0e826d2-ec4a-4e08-a131-55b992c1245b div.sk-toggleable__content pre {margin: 0.2em;color: black;border-radius: 0.25em;background-color: #f0f8ff;}#sk-c0e826d2-ec4a-4e08-a131-55b992c1245b input.sk-toggleable__control:checked~div.sk-toggleable__content {max-height: 200px;max-width: 100%;overflow: auto;}#sk-c0e826d2-ec4a-4e08-a131-55b992c1245b div.sk-estimator input.sk-toggleable__control:checked~label.sk-toggleable__label {background-color: #d4ebff;}#sk-c0e826d2-ec4a-4e08-a131-55b992c1245b div.sk-label input.sk-toggleable__control:checked~label.sk-toggleable__label {background-color: #d4ebff;}#sk-c0e826d2-ec4a-4e08-a131-55b992c1245b input.sk-hidden--visually {border: 0;clip: rect(1px 1px 1px 1px);clip: rect(1px, 1px, 1px, 1px);height: 1px;margin: -1px;overflow: hidden;padding: 0;position: absolute;width: 1px;}#sk-c0e826d2-ec4a-4e08-a131-55b992c1245b div.sk-estimator {font-family: monospace;background-color: #f0f8ff;margin: 0.25em 0.25em;border: 1px dotted black;border-radius: 0.25em;box-sizing: border-box;}#sk-c0e826d2-ec4a-4e08-a131-55b992c1245b div.sk-estimator:hover {background-color: #d4ebff;}#sk-c0e826d2-ec4a-4e08-a131-55b992c1245b div.sk-parallel-item::after {content: \"\";width: 100%;border-bottom: 1px solid gray;flex-grow: 1;}#sk-c0e826d2-ec4a-4e08-a131-55b992c1245b div.sk-label:hover label.sk-toggleable__label {background-color: #d4ebff;}#sk-c0e826d2-ec4a-4e08-a131-55b992c1245b div.sk-serial::before {content: \"\";position: absolute;border-left: 1px solid gray;box-sizing: border-box;top: 2em;bottom: 0;left: 50%;}#sk-c0e826d2-ec4a-4e08-a131-55b992c1245b div.sk-serial {display: flex;flex-direction: column;align-items: center;background-color: white;}#sk-c0e826d2-ec4a-4e08-a131-55b992c1245b div.sk-item {z-index: 1;}#sk-c0e826d2-ec4a-4e08-a131-55b992c1245b div.sk-parallel {display: flex;align-items: stretch;justify-content: center;background-color: white;}#sk-c0e826d2-ec4a-4e08-a131-55b992c1245b div.sk-parallel-item {display: flex;flex-direction: column;position: relative;background-color: white;}#sk-c0e826d2-ec4a-4e08-a131-55b992c1245b div.sk-parallel-item:first-child::after {align-self: flex-end;width: 50%;}#sk-c0e826d2-ec4a-4e08-a131-55b992c1245b div.sk-parallel-item:last-child::after {align-self: flex-start;width: 50%;}#sk-c0e826d2-ec4a-4e08-a131-55b992c1245b div.sk-parallel-item:only-child::after {width: 0;}#sk-c0e826d2-ec4a-4e08-a131-55b992c1245b div.sk-dashed-wrapped {border: 1px dashed gray;margin: 0.2em;box-sizing: border-box;padding-bottom: 0.1em;background-color: white;position: relative;}#sk-c0e826d2-ec4a-4e08-a131-55b992c1245b div.sk-label label {font-family: monospace;font-weight: bold;background-color: white;display: inline-block;line-height: 1.2em;}#sk-c0e826d2-ec4a-4e08-a131-55b992c1245b div.sk-label-container {position: relative;z-index: 2;text-align: center;}#sk-c0e826d2-ec4a-4e08-a131-55b992c1245b div.sk-container {display: inline-block;position: relative;}</style><div id=\"sk-c0e826d2-ec4a-4e08-a131-55b992c1245b\" class\"sk-top-container\"><div class=\"sk-container\"><div class=\"sk-item sk-dashed-wrapped\"><div class=\"sk-label-container\"><div class=\"sk-label sk-toggleable\"><input class=\"sk-toggleable__control sk-hidden--visually\" id=\"c113cf7b-36ca-454e-95e8-8f40ee2aa37a\" type=\"checkbox\" ><label class=\"sk-toggleable__label\" for=\"c113cf7b-36ca-454e-95e8-8f40ee2aa37a\">ColumnTransformer</label><div class=\"sk-toggleable__content\"><pre>ColumnTransformer(transformers=[('onehotencoder',\n",
       "                                 OneHotEncoder(handle_unknown='ignore',\n",
       "                                               sparse=False),\n",
       "                                 ['main_element', 'soil_condition']),\n",
       "                                ('pipeline',\n",
       "                                 Pipeline(steps=[('simpleimputer',\n",
       "                                                  SimpleImputer()),\n",
       "                                                 ('minmaxscaler',\n",
       "                                                  MinMaxScaler())]),\n",
       "                                 ['measure_index', 'measure_moisture',\n",
       "                                  'measure_temperature', 'measure_chemicals',\n",
       "                                  'measure_biodiversity'])])</pre></div></div></div><div class=\"sk-parallel\"><div class=\"sk-parallel-item\"><div class=\"sk-item\"><div class=\"sk-label-container\"><div class=\"sk-label sk-toggleable\"><input class=\"sk-toggleable__control sk-hidden--visually\" id=\"c69d2e23-45c4-401d-9724-1b3688d12553\" type=\"checkbox\" ><label class=\"sk-toggleable__label\" for=\"c69d2e23-45c4-401d-9724-1b3688d12553\">onehotencoder</label><div class=\"sk-toggleable__content\"><pre>['main_element', 'soil_condition']</pre></div></div></div><div class=\"sk-serial\"><div class=\"sk-item\"><div class=\"sk-estimator sk-toggleable\"><input class=\"sk-toggleable__control sk-hidden--visually\" id=\"647831bc-d2d5-4842-beb2-c744244f8497\" type=\"checkbox\" ><label class=\"sk-toggleable__label\" for=\"647831bc-d2d5-4842-beb2-c744244f8497\">OneHotEncoder</label><div class=\"sk-toggleable__content\"><pre>OneHotEncoder(handle_unknown='ignore', sparse=False)</pre></div></div></div></div></div></div><div class=\"sk-parallel-item\"><div class=\"sk-item\"><div class=\"sk-label-container\"><div class=\"sk-label sk-toggleable\"><input class=\"sk-toggleable__control sk-hidden--visually\" id=\"a73746c0-0555-43e2-b0d8-88b476e2e37c\" type=\"checkbox\" ><label class=\"sk-toggleable__label\" for=\"a73746c0-0555-43e2-b0d8-88b476e2e37c\">pipeline</label><div class=\"sk-toggleable__content\"><pre>['measure_index', 'measure_moisture', 'measure_temperature', 'measure_chemicals', 'measure_biodiversity']</pre></div></div></div><div class=\"sk-serial\"><div class=\"sk-item\"><div class=\"sk-serial\"><div class=\"sk-item\"><div class=\"sk-estimator sk-toggleable\"><input class=\"sk-toggleable__control sk-hidden--visually\" id=\"19253fe4-4a96-4e91-8438-21b6727b6912\" type=\"checkbox\" ><label class=\"sk-toggleable__label\" for=\"19253fe4-4a96-4e91-8438-21b6727b6912\">SimpleImputer</label><div class=\"sk-toggleable__content\"><pre>SimpleImputer()</pre></div></div></div><div class=\"sk-item\"><div class=\"sk-estimator sk-toggleable\"><input class=\"sk-toggleable__control sk-hidden--visually\" id=\"2c85f27e-3694-40a9-998b-48343482dc00\" type=\"checkbox\" ><label class=\"sk-toggleable__label\" for=\"2c85f27e-3694-40a9-998b-48343482dc00\">MinMaxScaler</label><div class=\"sk-toggleable__content\"><pre>MinMaxScaler()</pre></div></div></div></div></div></div></div></div></div></div></div></div>"
      ],
      "text/plain": [
       "ColumnTransformer(transformers=[('onehotencoder',\n",
       "                                 OneHotEncoder(handle_unknown='ignore',\n",
       "                                               sparse=False),\n",
       "                                 ['main_element', 'soil_condition']),\n",
       "                                ('pipeline',\n",
       "                                 Pipeline(steps=[('simpleimputer',\n",
       "                                                  SimpleImputer()),\n",
       "                                                 ('minmaxscaler',\n",
       "                                                  MinMaxScaler())]),\n",
       "                                 ['measure_index', 'measure_moisture',\n",
       "                                  'measure_temperature', 'measure_chemicals',\n",
       "                                  'measure_biodiversity'])])"
      ]
     },
     "execution_count": 337,
     "metadata": {},
     "output_type": "execute_result"
    }
   ],
   "source": [
    "# YOUR CODE HERE\n",
    "numeric_pipe = make_pipeline(\n",
    "    SimpleImputer(),\n",
    "    MinMaxScaler()\n",
    ")\n",
    "preprocessing_basic = make_column_transformer(\n",
    "    (OneHotEncoder(sparse=False, handle_unknown='ignore'), feat_cat),\n",
    "    (numeric_pipe, feat_num)\n",
    ")\n",
    "preprocessing_basic"
   ]
  },
  {
   "cell_type": "markdown",
   "metadata": {},
   "source": [
    "## Linear Model"
   ]
  },
  {
   "cell_type": "markdown",
   "metadata": {},
   "source": [
    "**📝 Cross-validate a linear model on `X_basic` to see how it compares to your baseline.**"
   ]
  },
  {
   "cell_type": "markdown",
   "metadata": {},
   "source": [
    "Inside a pipeline, apply the basic preprocessing, then use a basic **linear** model with **no penalty**.\n",
    "\n",
    "Cross-validate your pipeline and store the scores in `scores_linear` as a `numpy.ndarray`."
   ]
  },
  {
   "cell_type": "code",
   "execution_count": 338,
   "metadata": {
    "ExecuteTime": {
     "end_time": "2021-09-29T14:13:42.849926Z",
     "start_time": "2021-09-29T14:13:42.767923Z"
    },
    "tags": [
     "challengify"
    ]
   },
   "outputs": [
    {
     "data": {
      "text/html": [
       "<style>#sk-6618a85e-a579-41bd-8873-380035ba37ec {color: black;background-color: white;}#sk-6618a85e-a579-41bd-8873-380035ba37ec pre{padding: 0;}#sk-6618a85e-a579-41bd-8873-380035ba37ec div.sk-toggleable {background-color: white;}#sk-6618a85e-a579-41bd-8873-380035ba37ec label.sk-toggleable__label {cursor: pointer;display: block;width: 100%;margin-bottom: 0;padding: 0.2em 0.3em;box-sizing: border-box;text-align: center;}#sk-6618a85e-a579-41bd-8873-380035ba37ec div.sk-toggleable__content {max-height: 0;max-width: 0;overflow: hidden;text-align: left;background-color: #f0f8ff;}#sk-6618a85e-a579-41bd-8873-380035ba37ec div.sk-toggleable__content pre {margin: 0.2em;color: black;border-radius: 0.25em;background-color: #f0f8ff;}#sk-6618a85e-a579-41bd-8873-380035ba37ec input.sk-toggleable__control:checked~div.sk-toggleable__content {max-height: 200px;max-width: 100%;overflow: auto;}#sk-6618a85e-a579-41bd-8873-380035ba37ec div.sk-estimator input.sk-toggleable__control:checked~label.sk-toggleable__label {background-color: #d4ebff;}#sk-6618a85e-a579-41bd-8873-380035ba37ec div.sk-label input.sk-toggleable__control:checked~label.sk-toggleable__label {background-color: #d4ebff;}#sk-6618a85e-a579-41bd-8873-380035ba37ec input.sk-hidden--visually {border: 0;clip: rect(1px 1px 1px 1px);clip: rect(1px, 1px, 1px, 1px);height: 1px;margin: -1px;overflow: hidden;padding: 0;position: absolute;width: 1px;}#sk-6618a85e-a579-41bd-8873-380035ba37ec div.sk-estimator {font-family: monospace;background-color: #f0f8ff;margin: 0.25em 0.25em;border: 1px dotted black;border-radius: 0.25em;box-sizing: border-box;}#sk-6618a85e-a579-41bd-8873-380035ba37ec div.sk-estimator:hover {background-color: #d4ebff;}#sk-6618a85e-a579-41bd-8873-380035ba37ec div.sk-parallel-item::after {content: \"\";width: 100%;border-bottom: 1px solid gray;flex-grow: 1;}#sk-6618a85e-a579-41bd-8873-380035ba37ec div.sk-label:hover label.sk-toggleable__label {background-color: #d4ebff;}#sk-6618a85e-a579-41bd-8873-380035ba37ec div.sk-serial::before {content: \"\";position: absolute;border-left: 1px solid gray;box-sizing: border-box;top: 2em;bottom: 0;left: 50%;}#sk-6618a85e-a579-41bd-8873-380035ba37ec div.sk-serial {display: flex;flex-direction: column;align-items: center;background-color: white;}#sk-6618a85e-a579-41bd-8873-380035ba37ec div.sk-item {z-index: 1;}#sk-6618a85e-a579-41bd-8873-380035ba37ec div.sk-parallel {display: flex;align-items: stretch;justify-content: center;background-color: white;}#sk-6618a85e-a579-41bd-8873-380035ba37ec div.sk-parallel-item {display: flex;flex-direction: column;position: relative;background-color: white;}#sk-6618a85e-a579-41bd-8873-380035ba37ec div.sk-parallel-item:first-child::after {align-self: flex-end;width: 50%;}#sk-6618a85e-a579-41bd-8873-380035ba37ec div.sk-parallel-item:last-child::after {align-self: flex-start;width: 50%;}#sk-6618a85e-a579-41bd-8873-380035ba37ec div.sk-parallel-item:only-child::after {width: 0;}#sk-6618a85e-a579-41bd-8873-380035ba37ec div.sk-dashed-wrapped {border: 1px dashed gray;margin: 0.2em;box-sizing: border-box;padding-bottom: 0.1em;background-color: white;position: relative;}#sk-6618a85e-a579-41bd-8873-380035ba37ec div.sk-label label {font-family: monospace;font-weight: bold;background-color: white;display: inline-block;line-height: 1.2em;}#sk-6618a85e-a579-41bd-8873-380035ba37ec div.sk-label-container {position: relative;z-index: 2;text-align: center;}#sk-6618a85e-a579-41bd-8873-380035ba37ec div.sk-container {display: inline-block;position: relative;}</style><div id=\"sk-6618a85e-a579-41bd-8873-380035ba37ec\" class\"sk-top-container\"><div class=\"sk-container\"><div class=\"sk-item sk-dashed-wrapped\"><div class=\"sk-label-container\"><div class=\"sk-label sk-toggleable\"><input class=\"sk-toggleable__control sk-hidden--visually\" id=\"1129f69e-5c3a-411d-b0ce-4c9d5a83c03c\" type=\"checkbox\" ><label class=\"sk-toggleable__label\" for=\"1129f69e-5c3a-411d-b0ce-4c9d5a83c03c\">Pipeline</label><div class=\"sk-toggleable__content\"><pre>Pipeline(steps=[('columntransformer',\n",
       "                 ColumnTransformer(transformers=[('onehotencoder',\n",
       "                                                  OneHotEncoder(handle_unknown='ignore',\n",
       "                                                                sparse=False),\n",
       "                                                  ['main_element',\n",
       "                                                   'soil_condition']),\n",
       "                                                 ('pipeline',\n",
       "                                                  Pipeline(steps=[('simpleimputer',\n",
       "                                                                   SimpleImputer()),\n",
       "                                                                  ('minmaxscaler',\n",
       "                                                                   MinMaxScaler())]),\n",
       "                                                  ['measure_index',\n",
       "                                                   'measure_moisture',\n",
       "                                                   'measure_temperature',\n",
       "                                                   'measure_chemicals',\n",
       "                                                   'measure_biodiversity'])])),\n",
       "                ('logisticregression',\n",
       "                 LogisticRegression(max_iter=2000, penalty='none'))])</pre></div></div></div><div class=\"sk-serial\"><div class=\"sk-item sk-dashed-wrapped\"><div class=\"sk-label-container\"><div class=\"sk-label sk-toggleable\"><input class=\"sk-toggleable__control sk-hidden--visually\" id=\"0dd8ed99-5065-4fb5-ae7e-e640f2bdb981\" type=\"checkbox\" ><label class=\"sk-toggleable__label\" for=\"0dd8ed99-5065-4fb5-ae7e-e640f2bdb981\">columntransformer: ColumnTransformer</label><div class=\"sk-toggleable__content\"><pre>ColumnTransformer(transformers=[('onehotencoder',\n",
       "                                 OneHotEncoder(handle_unknown='ignore',\n",
       "                                               sparse=False),\n",
       "                                 ['main_element', 'soil_condition']),\n",
       "                                ('pipeline',\n",
       "                                 Pipeline(steps=[('simpleimputer',\n",
       "                                                  SimpleImputer()),\n",
       "                                                 ('minmaxscaler',\n",
       "                                                  MinMaxScaler())]),\n",
       "                                 ['measure_index', 'measure_moisture',\n",
       "                                  'measure_temperature', 'measure_chemicals',\n",
       "                                  'measure_biodiversity'])])</pre></div></div></div><div class=\"sk-parallel\"><div class=\"sk-parallel-item\"><div class=\"sk-item\"><div class=\"sk-label-container\"><div class=\"sk-label sk-toggleable\"><input class=\"sk-toggleable__control sk-hidden--visually\" id=\"0be001b5-7d6c-4888-ba86-eddc362e38e9\" type=\"checkbox\" ><label class=\"sk-toggleable__label\" for=\"0be001b5-7d6c-4888-ba86-eddc362e38e9\">onehotencoder</label><div class=\"sk-toggleable__content\"><pre>['main_element', 'soil_condition']</pre></div></div></div><div class=\"sk-serial\"><div class=\"sk-item\"><div class=\"sk-estimator sk-toggleable\"><input class=\"sk-toggleable__control sk-hidden--visually\" id=\"b73f460d-b32f-496a-87a1-ec7b667f8560\" type=\"checkbox\" ><label class=\"sk-toggleable__label\" for=\"b73f460d-b32f-496a-87a1-ec7b667f8560\">OneHotEncoder</label><div class=\"sk-toggleable__content\"><pre>OneHotEncoder(handle_unknown='ignore', sparse=False)</pre></div></div></div></div></div></div><div class=\"sk-parallel-item\"><div class=\"sk-item\"><div class=\"sk-label-container\"><div class=\"sk-label sk-toggleable\"><input class=\"sk-toggleable__control sk-hidden--visually\" id=\"11450158-55e5-4a13-b092-bffbec50920d\" type=\"checkbox\" ><label class=\"sk-toggleable__label\" for=\"11450158-55e5-4a13-b092-bffbec50920d\">pipeline</label><div class=\"sk-toggleable__content\"><pre>['measure_index', 'measure_moisture', 'measure_temperature', 'measure_chemicals', 'measure_biodiversity']</pre></div></div></div><div class=\"sk-serial\"><div class=\"sk-item\"><div class=\"sk-serial\"><div class=\"sk-item\"><div class=\"sk-estimator sk-toggleable\"><input class=\"sk-toggleable__control sk-hidden--visually\" id=\"4e6c3bec-6b24-49b3-a840-f9f16a5f70c0\" type=\"checkbox\" ><label class=\"sk-toggleable__label\" for=\"4e6c3bec-6b24-49b3-a840-f9f16a5f70c0\">SimpleImputer</label><div class=\"sk-toggleable__content\"><pre>SimpleImputer()</pre></div></div></div><div class=\"sk-item\"><div class=\"sk-estimator sk-toggleable\"><input class=\"sk-toggleable__control sk-hidden--visually\" id=\"4a9297f9-6100-417d-a9b6-4bb67c512ab9\" type=\"checkbox\" ><label class=\"sk-toggleable__label\" for=\"4a9297f9-6100-417d-a9b6-4bb67c512ab9\">MinMaxScaler</label><div class=\"sk-toggleable__content\"><pre>MinMaxScaler()</pre></div></div></div></div></div></div></div></div></div></div><div class=\"sk-item\"><div class=\"sk-estimator sk-toggleable\"><input class=\"sk-toggleable__control sk-hidden--visually\" id=\"4a7c8b53-f061-4bd2-8eae-4ba35c380c6f\" type=\"checkbox\" ><label class=\"sk-toggleable__label\" for=\"4a7c8b53-f061-4bd2-8eae-4ba35c380c6f\">LogisticRegression</label><div class=\"sk-toggleable__content\"><pre>LogisticRegression(max_iter=2000, penalty='none')</pre></div></div></div></div></div></div></div>"
      ],
      "text/plain": [
       "Pipeline(steps=[('columntransformer',\n",
       "                 ColumnTransformer(transformers=[('onehotencoder',\n",
       "                                                  OneHotEncoder(handle_unknown='ignore',\n",
       "                                                                sparse=False),\n",
       "                                                  ['main_element',\n",
       "                                                   'soil_condition']),\n",
       "                                                 ('pipeline',\n",
       "                                                  Pipeline(steps=[('simpleimputer',\n",
       "                                                                   SimpleImputer()),\n",
       "                                                                  ('minmaxscaler',\n",
       "                                                                   MinMaxScaler())]),\n",
       "                                                  ['measure_index',\n",
       "                                                   'measure_moisture',\n",
       "                                                   'measure_temperature',\n",
       "                                                   'measure_chemicals',\n",
       "                                                   'measure_biodiversity'])])),\n",
       "                ('logisticregression',\n",
       "                 LogisticRegression(max_iter=2000, penalty='none'))])"
      ]
     },
     "execution_count": 338,
     "metadata": {},
     "output_type": "execute_result"
    }
   ],
   "source": [
    "# YOUR CODE HERE\n",
    "pipeline_linear = make_pipeline(preprocessing_basic, \n",
    "                         LogisticRegression(penalty='none', max_iter=2000))\n",
    "pipeline_linear"
   ]
  },
  {
   "cell_type": "code",
   "execution_count": 339,
   "metadata": {
    "ExecuteTime": {
     "end_time": "2021-09-29T14:13:43.427338Z",
     "start_time": "2021-09-29T14:13:43.124186Z"
    },
    "tags": [
     "challengify"
    ]
   },
   "outputs": [],
   "source": [
    "scores_linear = cross_val_score(pipeline_linear, X_basic, y, scoring='recall', cv=5, n_jobs=-1)"
   ]
  },
  {
   "cell_type": "code",
   "execution_count": 340,
   "metadata": {
    "ExecuteTime": {
     "end_time": "2021-09-29T14:13:43.646005Z",
     "start_time": "2021-09-29T14:13:43.633046Z"
    }
   },
   "outputs": [
    {
     "data": {
      "text/plain": [
       "0.7172489558797628"
      ]
     },
     "execution_count": 340,
     "metadata": {},
     "output_type": "execute_result"
    }
   ],
   "source": [
    "scores_linear.mean()"
   ]
  },
  {
   "cell_type": "markdown",
   "metadata": {},
   "source": [
    "**❓ Does your model beat the baseline? Do you reach your goal?**"
   ]
  },
  {
   "cell_type": "markdown",
   "metadata": {
    "tags": [
     "challengify"
    ]
   },
   "source": [
    "There is a increase in recall from 50% to 70% but it is not sufficient to reach 90% of good detections as required"
   ]
  },
  {
   "cell_type": "markdown",
   "metadata": {},
   "source": [
    "### 💾 Save your results\n",
    "\n",
    "Run the cell below to save your results."
   ]
  },
  {
   "cell_type": "code",
   "execution_count": 341,
   "metadata": {
    "ExecuteTime": {
     "end_time": "2021-09-29T14:13:49.413169Z",
     "start_time": "2021-09-29T14:13:49.272578Z"
    }
   },
   "outputs": [],
   "source": [
    "from nbresult import ChallengeResult\n",
    "X_preproc=preprocessing_basic.fit_transform(X_basic)\n",
    "from sklearn.model_selection import train_test_split\n",
    "X_,X_val,y_,y_val = train_test_split(X_basic,y,test_size=0.3,random_state=10)\n",
    "pipe=pipeline_linear.fit(X_,y_)\n",
    "\n",
    "result = ChallengeResult(\n",
    "    'basic_pipeline',\n",
    "    preproc=preprocessing_basic,\n",
    "    preproc_shape=X_preproc.shape,\n",
    "    pipe=pipeline_linear,\n",
    "    y=y_val,\n",
    "    y_pred=pipeline_linear.predict(X_val),\n",
    "    scores=scores_linear\n",
    ")\n",
    "result.write()"
   ]
  },
  {
   "cell_type": "markdown",
   "metadata": {},
   "source": [
    "## Feature Engineering"
   ]
  },
  {
   "cell_type": "markdown",
   "metadata": {},
   "source": [
    "💡 We are going to look more closely at the features and try to enhance our preprocessing."
   ]
  },
  {
   "cell_type": "markdown",
   "metadata": {},
   "source": [
    "### Enhanced `soil_condition` Encoding"
   ]
  },
  {
   "cell_type": "markdown",
   "metadata": {},
   "source": [
    "**📝 Check the possible values of the feature `soil_condition`**"
   ]
  },
  {
   "cell_type": "code",
   "execution_count": 343,
   "metadata": {
    "ExecuteTime": {
     "end_time": "2021-09-29T14:14:02.417770Z",
     "start_time": "2021-09-29T14:14:02.406899Z"
    },
    "tags": [
     "challengify"
    ]
   },
   "outputs": [
    {
     "data": {
      "text/plain": [
       "normal    4076\n",
       "poor      2456\n",
       "rich      1606\n",
       "Name: soil_condition, dtype: int64"
      ]
     },
     "execution_count": 343,
     "metadata": {},
     "output_type": "execute_result"
    }
   ],
   "source": [
    "# YOUR CODE HERE\n",
    "data.soil_condition.value_counts()"
   ]
  },
  {
   "cell_type": "markdown",
   "metadata": {},
   "source": [
    "**❓ Can you a better way to encode the `soil_condition` feature?**"
   ]
  },
  {
   "cell_type": "markdown",
   "metadata": {
    "tags": [
     "challengify"
    ]
   },
   "source": [
    "Since there is a notion of order and hierarchy between the different levels of the feature, we can use an ordinal encoder to keep this hierarchy"
   ]
  },
  {
   "cell_type": "markdown",
   "metadata": {},
   "source": [
    "**📝 Select a transformer keeping a sense of the order of the values of `soil_condition` to encode that feature.** \n",
    "\n",
    "Encode `soil_condition` from `X` with that relevant encoder and store the result in `X_soil_condition_encoded` as a `numpy.ndarray`."
   ]
  },
  {
   "cell_type": "code",
   "execution_count": 344,
   "metadata": {
    "ExecuteTime": {
     "end_time": "2021-09-29T14:14:04.279835Z",
     "start_time": "2021-09-29T14:14:04.217319Z"
    },
    "tags": [
     "challengify"
    ]
   },
   "outputs": [
    {
     "data": {
      "text/plain": [
       "array([[1.],\n",
       "       [2.],\n",
       "       [1.],\n",
       "       ...,\n",
       "       [2.],\n",
       "       [0.],\n",
       "       [1.]])"
      ]
     },
     "execution_count": 344,
     "metadata": {},
     "output_type": "execute_result"
    }
   ],
   "source": [
    "# YOUR CODE HERE\n",
    "\n",
    "feature_sorted_values = ['poor', 'normal', 'rich'] \n",
    "\n",
    "encoder = OrdinalEncoder(\n",
    "    categories=[\n",
    "        feature_sorted_values\n",
    "    ],\n",
    "    handle_unknown=\"use_encoded_value\",\n",
    "    unknown_value=-1\n",
    ")\n",
    "\n",
    "X_soil_condition_encoded = encoder.fit_transform(X[['soil_condition']])\n",
    "\n",
    "X_soil_condition_encoded"
   ]
  },
  {
   "cell_type": "markdown",
   "metadata": {},
   "source": [
    "**📝 Make sure that it works properly.**\n",
    "\n",
    "Check the value counts for the feature `soil_condition`"
   ]
  },
  {
   "cell_type": "code",
   "execution_count": 345,
   "metadata": {
    "ExecuteTime": {
     "end_time": "2021-09-29T14:14:05.239698Z",
     "start_time": "2021-09-29T14:14:05.226399Z"
    },
    "tags": [
     "challengify"
    ]
   },
   "outputs": [
    {
     "data": {
      "text/plain": [
       "normal    4076\n",
       "poor      2456\n",
       "rich      1606\n",
       "Name: soil_condition, dtype: int64"
      ]
     },
     "execution_count": 345,
     "metadata": {},
     "output_type": "execute_result"
    }
   ],
   "source": [
    "# YOUR CODE HERE\n",
    "data.soil_condition.value_counts()"
   ]
  },
  {
   "cell_type": "markdown",
   "metadata": {},
   "source": [
    "**📝 Check it again,  after transformation with the relevant encoder:**"
   ]
  },
  {
   "cell_type": "code",
   "execution_count": 346,
   "metadata": {
    "ExecuteTime": {
     "end_time": "2021-09-29T14:14:06.540113Z",
     "start_time": "2021-09-29T14:14:06.526821Z"
    },
    "tags": [
     "challengify"
    ]
   },
   "outputs": [
    {
     "data": {
      "text/plain": [
       "(1.0    4076\n",
       " 0.0    2456\n",
       " 2.0    1606\n",
       " dtype: int64,)"
      ]
     },
     "execution_count": 346,
     "metadata": {},
     "output_type": "execute_result"
    }
   ],
   "source": [
    "# YOUR CODE HERE\n",
    "pd.DataFrame(X_soil_condition_encoded).value_counts(), "
   ]
  },
  {
   "cell_type": "markdown",
   "metadata": {},
   "source": [
    "### Custom Time Transformers"
   ]
  },
  {
   "cell_type": "markdown",
   "metadata": {},
   "source": [
    "#### Datetime Features Extraction"
   ]
  },
  {
   "cell_type": "markdown",
   "metadata": {},
   "source": [
    "💡  We want to extract two information from our time features"
   ]
  },
  {
   "cell_type": "markdown",
   "metadata": {
    "ExecuteTime": {
     "end_time": "2021-08-26T15:39:59.268983Z",
     "start_time": "2021-08-26T15:39:59.246286Z"
    }
   },
   "source": [
    "📅 The `month` of the experiment's start\n",
    "\n",
    "⏳ The `duration` of the experiment in an appropriate unit"
   ]
  },
  {
   "cell_type": "markdown",
   "metadata": {},
   "source": [
    "**📝 Compute the `duration` of experiments, and look at the statistics.**"
   ]
  },
  {
   "cell_type": "code",
   "execution_count": 348,
   "metadata": {
    "ExecuteTime": {
     "end_time": "2021-09-29T14:14:16.195410Z",
     "start_time": "2021-09-29T14:14:16.178984Z"
    },
    "tags": [
     "challengify"
    ]
   },
   "outputs": [
    {
     "data": {
      "text/plain": [
       "0      0 days 03:11:54\n",
       "1      0 days 04:36:33\n",
       "2      0 days 04:35:09\n",
       "3      0 days 02:53:04\n",
       "4      0 days 04:20:56\n",
       "             ...      \n",
       "8133   0 days 02:01:01\n",
       "8134   0 days 03:32:23\n",
       "8135   0 days 02:26:14\n",
       "8136   0 days 02:50:07\n",
       "8137   0 days 04:46:15\n",
       "Length: 8138, dtype: timedelta64[ns]"
      ]
     },
     "execution_count": 348,
     "metadata": {},
     "output_type": "execute_result"
    }
   ],
   "source": [
    "# YOUR CODE HERE\n",
    "duration = data.datetime_end - data.datetime_start\n",
    "duration"
   ]
  },
  {
   "cell_type": "code",
   "execution_count": 349,
   "metadata": {
    "ExecuteTime": {
     "end_time": "2021-09-29T14:14:17.712032Z",
     "start_time": "2021-09-29T14:14:17.700341Z"
    }
   },
   "outputs": [
    {
     "data": {
      "text/plain": [
       "6141"
      ]
     },
     "execution_count": 349,
     "metadata": {},
     "output_type": "execute_result"
    }
   ],
   "source": [
    "(duration.dt.seconds).nunique()"
   ]
  },
  {
   "cell_type": "code",
   "execution_count": 350,
   "metadata": {
    "ExecuteTime": {
     "end_time": "2021-09-29T14:14:22.476919Z",
     "start_time": "2021-09-29T14:14:17.892078Z"
    }
   },
   "outputs": [
    {
     "data": {
      "text/plain": [
       "<AxesSubplot:ylabel='Frequency'>"
      ]
     },
     "execution_count": 350,
     "metadata": {},
     "output_type": "execute_result"
    },
    {
     "data": {
      "image/png": "[encoded data removed]",
      "text/plain": [
       "<Figure size 432x288 with 1 Axes>"
      ]
     },
     "metadata": {
      "needs_background": "light"
     },
     "output_type": "display_data"
    }
   ],
   "source": [
    "duration.dt.seconds.plot.hist(bins=1000)"
   ]
  },
  {
   "cell_type": "markdown",
   "metadata": {},
   "source": [
    "**❓ What is the most accurate time unit to use to describe the `duration` feature?**\n",
    "\n",
    "**📝 Choose between `['days', 'hours', 'minutes', 'seconds']` and store your choice in the `duration_time_unit` variable:**"
   ]
  },
  {
   "cell_type": "code",
   "execution_count": 351,
   "metadata": {
    "ExecuteTime": {
     "end_time": "2021-09-29T14:14:22.497015Z",
     "start_time": "2021-09-29T14:14:22.489493Z"
    },
    "tags": [
     "challengify"
    ]
   },
   "outputs": [],
   "source": [
    "# YOUR CODE HERE\n",
    "duration_time_unit = 'seconds'"
   ]
  },
  {
   "cell_type": "markdown",
   "metadata": {},
   "source": [
    "**📝 Create a `TimeFeaturesExtractor` class that transforms `datetime_start` and `datetime_end` into `month` and `duration`:**\n",
    "- `month` as a number from 1 to 12\n",
    "- `duration` as a float in the relevant `duration_time_unit`"
   ]
  },
  {
   "cell_type": "code",
   "execution_count": 352,
   "metadata": {
    "ExecuteTime": {
     "end_time": "2021-09-29T14:14:22.522015Z",
     "start_time": "2021-09-29T14:14:22.511094Z"
    },
    "tags": [
     "challengify"
    ]
   },
   "outputs": [],
   "source": [
    "# YOUR CODE HERE\n",
    "class TimeFeatureExtractor(BaseEstimator, TransformerMixin):\n",
    "    \"\"\"\n",
    "    Encode a time based features\n",
    "    \"\"\"\n",
    "    \n",
    "    def __init__(self):\n",
    "        pass\n",
    "\n",
    "    def fit(self, X, y=None):\n",
    "        \"\"\"\n",
    "        No Precomputation ?\n",
    "        \"\"\"\n",
    "        return self\n",
    "\n",
    "    def transform(self, X, y=None):\n",
    "        \"\"\"\n",
    "        Compute and returns the final DataFrame\n",
    "        \"\"\"\n",
    "        df = X.copy()\n",
    "        df['month'] = df.datetime_start.dt.month\n",
    "        duration = df.datetime_end - df.datetime_start\n",
    "        df['duration'] = duration.dt.seconds\n",
    "       \n",
    "        return df[['month', 'duration']]\n",
    "    \n"
   ]
  },
  {
   "cell_type": "markdown",
   "metadata": {},
   "source": [
    "**📝 Apply your `TimeFeaturesExtractor` to _100 rows_ of `X` and store the result in a DataFrame `X_time_features`**\n",
    "\n",
    "Double check that it has **2 columns**: `month` and `duration`, and **100 rows**"
   ]
  },
  {
   "cell_type": "code",
   "execution_count": 353,
   "metadata": {
    "ExecuteTime": {
     "end_time": "2021-09-29T14:14:22.552923Z",
     "start_time": "2021-09-29T14:14:22.528876Z"
    },
    "tags": [
     "challengify"
    ]
   },
   "outputs": [
    {
     "data": {
      "text/plain": [
       "(100, 2)"
      ]
     },
     "execution_count": 353,
     "metadata": {},
     "output_type": "execute_result"
    }
   ],
   "source": [
    "# YOUR CODE HERE\n",
    "\n",
    "X_time_features = TimeFeatureExtractor().fit_transform(X[:100])\n",
    "X_time_features.shape"
   ]
  },
  {
   "cell_type": "markdown",
   "metadata": {},
   "source": [
    "#### Cyclical Encoding & Scaling"
   ]
  },
  {
   "cell_type": "markdown",
   "metadata": {},
   "source": [
    "💡 We now have to encode and scale the extracted time features!  "
   ]
  },
  {
   "cell_type": "markdown",
   "metadata": {},
   "source": [
    "You should scale the `duration` between 0 and 1.  \n",
    "\n",
    "However we need to build a **Cyclical Encoder** for the `month`."
   ]
  },
  {
   "cell_type": "markdown",
   "metadata": {},
   "source": [
    "**📝Create a `CyclicalEncoder` class that transforms `month` into `month_cos` and `month_sin`.**"
   ]
  },
  {
   "cell_type": "markdown",
   "metadata": {},
   "source": [
    "Recall the equations:  \n",
    "\n",
    "$month\\_norm = 2\\pi\\frac{month}{12}$  \n",
    "$month\\_cos = \\cos({month\\_norm})$  \n",
    "$month\\_sin = \\sin({month\\_norm})$"
   ]
  },
  {
   "cell_type": "code",
   "execution_count": 354,
   "metadata": {
    "ExecuteTime": {
     "end_time": "2021-09-29T14:14:23.588929Z",
     "start_time": "2021-09-29T14:14:23.572136Z"
    },
    "tags": [
     "challengify"
    ]
   },
   "outputs": [],
   "source": [
    "# YOUR CODE HERE\n",
    "class CyclicalEncoder(BaseEstimator, TransformerMixin):\n",
    "    \"\"\"\n",
    "    Encode a cyclical feature\n",
    "    \"\"\"\n",
    "    \n",
    "    def __init__(self):\n",
    "        pass\n",
    "\n",
    "    def fit(self, X, y=None):\n",
    "        \"\"\"\n",
    "        No compuation\n",
    "        \"\"\"\n",
    "        return self\n",
    "\n",
    "    def transform(self, X, y=None):\n",
    "        \"\"\"\n",
    "        Compute and returns the final DataFrame\n",
    "        \"\"\"\n",
    "        df = pd.DataFrame()\n",
    "        df['month_cos'] =  round(np.cos(2 * math.pi / 12 * X[['month']]), 3)\n",
    "        df['month_sin'] =  round(np.sin(2 * math.pi / 12 * X[['month']]), 3)\n",
    "        return df"
   ]
  },
  {
   "cell_type": "markdown",
   "metadata": {},
   "source": [
    "**📝 Apply your `CyclicalEncoder` to `X_time_features` and store the result in a DataFrame `X_time_cyclical`.**\n",
    "\n",
    "Double check that it has **2 columns**: `month_cos` and `month_sin`, and **100 rows**"
   ]
  },
  {
   "cell_type": "code",
   "execution_count": 355,
   "metadata": {
    "ExecuteTime": {
     "end_time": "2021-09-29T14:14:24.538216Z",
     "start_time": "2021-09-29T14:14:24.525962Z"
    },
    "tags": [
     "challengify"
    ]
   },
   "outputs": [],
   "source": [
    "# YOUR CODE HERE\n",
    "X_time_cyclical = CyclicalEncoder().fit_transform(X_time_features)"
   ]
  },
  {
   "cell_type": "code",
   "execution_count": 356,
   "metadata": {
    "ExecuteTime": {
     "end_time": "2021-09-29T14:14:25.182927Z",
     "start_time": "2021-09-29T14:14:24.820063Z"
    }
   },
   "outputs": [
    {
     "data": {
      "text/plain": [
       "<AxesSubplot:xlabel='month_cos', ylabel='month_sin'>"
      ]
     },
     "execution_count": 356,
     "metadata": {},
     "output_type": "execute_result"
    },
    {
     "data": {
      "image/png": "[encoded data removed]",
      "text/plain": [
       "<Figure size 432x288 with 1 Axes>"
      ]
     },
     "metadata": {
      "needs_background": "light"
     },
     "output_type": "display_data"
    }
   ],
   "source": [
    "X_time_cyclical.plot.scatter('month_cos', 'month_sin')"
   ]
  },
  {
   "cell_type": "markdown",
   "metadata": {},
   "source": [
    "**📝 Build a pipeline, that contains all the steps for time features.**\n",
    "\n",
    "Store it in a variable `preprocessing_time`"
   ]
  },
  {
   "cell_type": "markdown",
   "metadata": {},
   "source": [
    "**Steps**\n",
    "\n",
    "- Extraction of `month` and `duration` from  `datetime_start` and `datetime_end`  \n",
    "- Scaling of `duration` between 0 and 1\n",
    "- Cyclical encoding of `month`"
   ]
  },
  {
   "cell_type": "code",
   "execution_count": 357,
   "metadata": {
    "ExecuteTime": {
     "end_time": "2021-09-29T14:14:26.659906Z",
     "start_time": "2021-09-29T14:14:26.651392Z"
    }
   },
   "outputs": [],
   "source": [
    "# YOUR CODE HERE\n",
    "preprocessing_time = make_pipeline(\n",
    "    TimeFeatureExtractor(),\n",
    "    make_column_transformer(\n",
    "        (MinMaxScaler(), ['duration']),\n",
    "        (CyclicalEncoder(), ['month'])\n",
    "    )\n",
    ")\n"
   ]
  },
  {
   "cell_type": "code",
   "execution_count": 358,
   "metadata": {
    "ExecuteTime": {
     "end_time": "2021-09-29T14:14:28.313077Z",
     "start_time": "2021-09-29T14:14:28.275226Z"
    }
   },
   "outputs": [
    {
     "data": {
      "text/plain": [
       "array([[ 0.54946505, -1.        ,  0.        ],\n",
       "       [ 0.90232041,  1.        , -0.        ],\n",
       "       [ 0.89648465,  0.5       , -0.866     ],\n",
       "       ...,\n",
       "       [ 0.35910796,  0.866     ,  0.5       ],\n",
       "       [ 0.45866333,  1.        , -0.        ],\n",
       "       [ 0.94275393, -0.866     ,  0.5       ]])"
      ]
     },
     "execution_count": 358,
     "metadata": {},
     "output_type": "execute_result"
    }
   ],
   "source": [
    "preprocessing_time.fit_transform(X[['datetime_start', 'datetime_end']])"
   ]
  },
  {
   "cell_type": "markdown",
   "metadata": {},
   "source": [
    "### 💾 Save your results\n",
    "\n",
    "Run the cell below to save your results."
   ]
  },
  {
   "cell_type": "code",
   "execution_count": 360,
   "metadata": {
    "ExecuteTime": {
     "end_time": "2021-09-29T14:14:37.880187Z",
     "start_time": "2021-09-29T14:14:37.844891Z"
    }
   },
   "outputs": [],
   "source": [
    "from nbresult import ChallengeResult\n",
    "results = ChallengeResult(\n",
    "    'feature_engineering',\n",
    "    x_soil_condition=X_soil_condition_encoded,\n",
    "    X_time_features=X_time_features,\n",
    "    X_time_cyclical= X_time_cyclical,\n",
    "    X_time=preprocessing_time.fit_transform(X)\n",
    ")\n",
    "results.write()"
   ]
  },
  {
   "cell_type": "markdown",
   "metadata": {},
   "source": [
    "## Advanced Pipeline"
   ]
  },
  {
   "cell_type": "markdown",
   "metadata": {},
   "source": [
    "**📝  Build a full preprocessing pipeline and store it in `preprocessing_advanced`.**"
   ]
  },
  {
   "cell_type": "markdown",
   "metadata": {},
   "source": [
    "Here are its steps, they should go in a parallel ColumnTransformer\n",
    "\n",
    "- Scale all numerical features between 0 and 1\n",
    "- Encode `main_element`  \n",
    "- Better encode `soil_condition`\n",
    "- Apply the `preprocessing_time` pipeline on `datetime_start` and `datetime_end`"
   ]
  },
  {
   "cell_type": "code",
   "execution_count": 361,
   "metadata": {
    "ExecuteTime": {
     "end_time": "2021-09-29T14:14:39.039366Z",
     "start_time": "2021-09-29T14:14:39.032885Z"
    },
    "tags": [
     "challengify"
    ]
   },
   "outputs": [],
   "source": [
    "# YOUR CODE HERE\n",
    "preprocessing_advanced = make_column_transformer(\n",
    "    (numeric_pipe, feat_num),\n",
    "    (OneHotEncoder(sparse=False, handle_unknown='ignore'), ['main_element']),\n",
    "    (encoder, ['soil_condition']),\n",
    "    (preprocessing_time, ['datetime_start', 'datetime_end'])\n",
    ")"
   ]
  },
  {
   "cell_type": "markdown",
   "metadata": {},
   "source": [
    "## Regularized Linear Model"
   ]
  },
  {
   "cell_type": "markdown",
   "metadata": {},
   "source": [
    "**📝 Build a pipeline that uses `preprocessing_advanced` and then a _Regularized Linear_ model.**"
   ]
  },
  {
   "cell_type": "markdown",
   "metadata": {},
   "source": [
    "Cross-validate your pipeline and store the scores in a list `scores_regularized`"
   ]
  },
  {
   "cell_type": "code",
   "execution_count": 362,
   "metadata": {
    "ExecuteTime": {
     "end_time": "2021-09-29T14:14:50.474419Z",
     "start_time": "2021-09-29T14:14:50.277230Z"
    },
    "tags": [
     "challengify"
    ]
   },
   "outputs": [
    {
     "data": {
      "text/html": [
       "<style>#sk-dabe425e-3758-47c1-9469-112044e15fdc {color: black;background-color: white;}#sk-dabe425e-3758-47c1-9469-112044e15fdc pre{padding: 0;}#sk-dabe425e-3758-47c1-9469-112044e15fdc div.sk-toggleable {background-color: white;}#sk-dabe425e-3758-47c1-9469-112044e15fdc label.sk-toggleable__label {cursor: pointer;display: block;width: 100%;margin-bottom: 0;padding: 0.2em 0.3em;box-sizing: border-box;text-align: center;}#sk-dabe425e-3758-47c1-9469-112044e15fdc div.sk-toggleable__content {max-height: 0;max-width: 0;overflow: hidden;text-align: left;background-color: #f0f8ff;}#sk-dabe425e-3758-47c1-9469-112044e15fdc div.sk-toggleable__content pre {margin: 0.2em;color: black;border-radius: 0.25em;background-color: #f0f8ff;}#sk-dabe425e-3758-47c1-9469-112044e15fdc input.sk-toggleable__control:checked~div.sk-toggleable__content {max-height: 200px;max-width: 100%;overflow: auto;}#sk-dabe425e-3758-47c1-9469-112044e15fdc div.sk-estimator input.sk-toggleable__control:checked~label.sk-toggleable__label {background-color: #d4ebff;}#sk-dabe425e-3758-47c1-9469-112044e15fdc div.sk-label input.sk-toggleable__control:checked~label.sk-toggleable__label {background-color: #d4ebff;}#sk-dabe425e-3758-47c1-9469-112044e15fdc input.sk-hidden--visually {border: 0;clip: rect(1px 1px 1px 1px);clip: rect(1px, 1px, 1px, 1px);height: 1px;margin: -1px;overflow: hidden;padding: 0;position: absolute;width: 1px;}#sk-dabe425e-3758-47c1-9469-112044e15fdc div.sk-estimator {font-family: monospace;background-color: #f0f8ff;margin: 0.25em 0.25em;border: 1px dotted black;border-radius: 0.25em;box-sizing: border-box;}#sk-dabe425e-3758-47c1-9469-112044e15fdc div.sk-estimator:hover {background-color: #d4ebff;}#sk-dabe425e-3758-47c1-9469-112044e15fdc div.sk-parallel-item::after {content: \"\";width: 100%;border-bottom: 1px solid gray;flex-grow: 1;}#sk-dabe425e-3758-47c1-9469-112044e15fdc div.sk-label:hover label.sk-toggleable__label {background-color: #d4ebff;}#sk-dabe425e-3758-47c1-9469-112044e15fdc div.sk-serial::before {content: \"\";position: absolute;border-left: 1px solid gray;box-sizing: border-box;top: 2em;bottom: 0;left: 50%;}#sk-dabe425e-3758-47c1-9469-112044e15fdc div.sk-serial {display: flex;flex-direction: column;align-items: center;background-color: white;}#sk-dabe425e-3758-47c1-9469-112044e15fdc div.sk-item {z-index: 1;}#sk-dabe425e-3758-47c1-9469-112044e15fdc div.sk-parallel {display: flex;align-items: stretch;justify-content: center;background-color: white;}#sk-dabe425e-3758-47c1-9469-112044e15fdc div.sk-parallel-item {display: flex;flex-direction: column;position: relative;background-color: white;}#sk-dabe425e-3758-47c1-9469-112044e15fdc div.sk-parallel-item:first-child::after {align-self: flex-end;width: 50%;}#sk-dabe425e-3758-47c1-9469-112044e15fdc div.sk-parallel-item:last-child::after {align-self: flex-start;width: 50%;}#sk-dabe425e-3758-47c1-9469-112044e15fdc div.sk-parallel-item:only-child::after {width: 0;}#sk-dabe425e-3758-47c1-9469-112044e15fdc div.sk-dashed-wrapped {border: 1px dashed gray;margin: 0.2em;box-sizing: border-box;padding-bottom: 0.1em;background-color: white;position: relative;}#sk-dabe425e-3758-47c1-9469-112044e15fdc div.sk-label label {font-family: monospace;font-weight: bold;background-color: white;display: inline-block;line-height: 1.2em;}#sk-dabe425e-3758-47c1-9469-112044e15fdc div.sk-label-container {position: relative;z-index: 2;text-align: center;}#sk-dabe425e-3758-47c1-9469-112044e15fdc div.sk-container {display: inline-block;position: relative;}</style><div id=\"sk-dabe425e-3758-47c1-9469-112044e15fdc\" class\"sk-top-container\"><div class=\"sk-container\"><div class=\"sk-item sk-dashed-wrapped\"><div class=\"sk-label-container\"><div class=\"sk-label sk-toggleable\"><input class=\"sk-toggleable__control sk-hidden--visually\" id=\"f53608a3-c82f-4d07-bcab-58c72b838b4d\" type=\"checkbox\" ><label class=\"sk-toggleable__label\" for=\"f53608a3-c82f-4d07-bcab-58c72b838b4d\">Pipeline</label><div class=\"sk-toggleable__content\"><pre>Pipeline(steps=[('columntransformer',\n",
       "                 ColumnTransformer(transformers=[('pipeline-1',\n",
       "                                                  Pipeline(steps=[('simpleimputer',\n",
       "                                                                   SimpleImputer()),\n",
       "                                                                  ('minmaxscaler',\n",
       "                                                                   MinMaxScaler())]),\n",
       "                                                  ['measure_index',\n",
       "                                                   'measure_moisture',\n",
       "                                                   'measure_temperature',\n",
       "                                                   'measure_chemicals',\n",
       "                                                   'measure_biodiversity']),\n",
       "                                                 ('onehotencoder',\n",
       "                                                  OneHotEncoder(handle_unknown='ignore',\n",
       "                                                                sparse=False),\n",
       "                                                  ['main_elem...\n",
       "                                                                 unknown_value=-1),\n",
       "                                                  ['soil_condition']),\n",
       "                                                 ('pipeline-2',\n",
       "                                                  Pipeline(steps=[('timefeatureextractor',\n",
       "                                                                   TimeFeatureExtractor()),\n",
       "                                                                  ('columntransformer',\n",
       "                                                                   ColumnTransformer(transformers=[('minmaxscaler',\n",
       "                                                                                                    MinMaxScaler(),\n",
       "                                                                                                    ['duration']),\n",
       "                                                                                                   ('cyclicalencoder',\n",
       "                                                                                                    CyclicalEncoder(),\n",
       "                                                                                                    ['month'])]))]),\n",
       "                                                  ['datetime_start',\n",
       "                                                   'datetime_end'])])),\n",
       "                ('logisticregression', LogisticRegression(max_iter=2000))])</pre></div></div></div><div class=\"sk-serial\"><div class=\"sk-item sk-dashed-wrapped\"><div class=\"sk-label-container\"><div class=\"sk-label sk-toggleable\"><input class=\"sk-toggleable__control sk-hidden--visually\" id=\"3a9d8a7b-dd7d-42e7-8102-897d433a4704\" type=\"checkbox\" ><label class=\"sk-toggleable__label\" for=\"3a9d8a7b-dd7d-42e7-8102-897d433a4704\">columntransformer: ColumnTransformer</label><div class=\"sk-toggleable__content\"><pre>ColumnTransformer(transformers=[('pipeline-1',\n",
       "                                 Pipeline(steps=[('simpleimputer',\n",
       "                                                  SimpleImputer()),\n",
       "                                                 ('minmaxscaler',\n",
       "                                                  MinMaxScaler())]),\n",
       "                                 ['measure_index', 'measure_moisture',\n",
       "                                  'measure_temperature', 'measure_chemicals',\n",
       "                                  'measure_biodiversity']),\n",
       "                                ('onehotencoder',\n",
       "                                 OneHotEncoder(handle_unknown='ignore',\n",
       "                                               sparse=False),\n",
       "                                 ['main_element']),\n",
       "                                ('ordinalencoder',\n",
       "                                 OrdinalEncod...l',\n",
       "                                                             'rich']],\n",
       "                                                handle_unknown='use_encoded_value',\n",
       "                                                unknown_value=-1),\n",
       "                                 ['soil_condition']),\n",
       "                                ('pipeline-2',\n",
       "                                 Pipeline(steps=[('timefeatureextractor',\n",
       "                                                  TimeFeatureExtractor()),\n",
       "                                                 ('columntransformer',\n",
       "                                                  ColumnTransformer(transformers=[('minmaxscaler',\n",
       "                                                                                   MinMaxScaler(),\n",
       "                                                                                   ['duration']),\n",
       "                                                                                  ('cyclicalencoder',\n",
       "                                                                                   CyclicalEncoder(),\n",
       "                                                                                   ['month'])]))]),\n",
       "                                 ['datetime_start', 'datetime_end'])])</pre></div></div></div><div class=\"sk-parallel\"><div class=\"sk-parallel-item\"><div class=\"sk-item\"><div class=\"sk-label-container\"><div class=\"sk-label sk-toggleable\"><input class=\"sk-toggleable__control sk-hidden--visually\" id=\"bdfba676-8f59-42c9-9171-7b2a1c2777ac\" type=\"checkbox\" ><label class=\"sk-toggleable__label\" for=\"bdfba676-8f59-42c9-9171-7b2a1c2777ac\">pipeline-1</label><div class=\"sk-toggleable__content\"><pre>['measure_index', 'measure_moisture', 'measure_temperature', 'measure_chemicals', 'measure_biodiversity']</pre></div></div></div><div class=\"sk-serial\"><div class=\"sk-item\"><div class=\"sk-serial\"><div class=\"sk-item\"><div class=\"sk-estimator sk-toggleable\"><input class=\"sk-toggleable__control sk-hidden--visually\" id=\"f99a6f0c-01ba-49b4-b27d-1174a16b955f\" type=\"checkbox\" ><label class=\"sk-toggleable__label\" for=\"f99a6f0c-01ba-49b4-b27d-1174a16b955f\">SimpleImputer</label><div class=\"sk-toggleable__content\"><pre>SimpleImputer()</pre></div></div></div><div class=\"sk-item\"><div class=\"sk-estimator sk-toggleable\"><input class=\"sk-toggleable__control sk-hidden--visually\" id=\"c58f0b3d-6821-43d8-924f-27d2f5b87874\" type=\"checkbox\" ><label class=\"sk-toggleable__label\" for=\"c58f0b3d-6821-43d8-924f-27d2f5b87874\">MinMaxScaler</label><div class=\"sk-toggleable__content\"><pre>MinMaxScaler()</pre></div></div></div></div></div></div></div></div><div class=\"sk-parallel-item\"><div class=\"sk-item\"><div class=\"sk-label-container\"><div class=\"sk-label sk-toggleable\"><input class=\"sk-toggleable__control sk-hidden--visually\" id=\"78a5f4c7-0860-477e-b9bc-93cb10731691\" type=\"checkbox\" ><label class=\"sk-toggleable__label\" for=\"78a5f4c7-0860-477e-b9bc-93cb10731691\">onehotencoder</label><div class=\"sk-toggleable__content\"><pre>['main_element']</pre></div></div></div><div class=\"sk-serial\"><div class=\"sk-item\"><div class=\"sk-estimator sk-toggleable\"><input class=\"sk-toggleable__control sk-hidden--visually\" id=\"9c268a29-e0aa-4674-9d08-535ee306adc0\" type=\"checkbox\" ><label class=\"sk-toggleable__label\" for=\"9c268a29-e0aa-4674-9d08-535ee306adc0\">OneHotEncoder</label><div class=\"sk-toggleable__content\"><pre>OneHotEncoder(handle_unknown='ignore', sparse=False)</pre></div></div></div></div></div></div><div class=\"sk-parallel-item\"><div class=\"sk-item\"><div class=\"sk-label-container\"><div class=\"sk-label sk-toggleable\"><input class=\"sk-toggleable__control sk-hidden--visually\" id=\"621e1ff9-71a5-493a-91c1-c7c0ffae4844\" type=\"checkbox\" ><label class=\"sk-toggleable__label\" for=\"621e1ff9-71a5-493a-91c1-c7c0ffae4844\">ordinalencoder</label><div class=\"sk-toggleable__content\"><pre>['soil_condition']</pre></div></div></div><div class=\"sk-serial\"><div class=\"sk-item\"><div class=\"sk-estimator sk-toggleable\"><input class=\"sk-toggleable__control sk-hidden--visually\" id=\"2ce21ddb-8136-4b7a-bee3-c97b17a39c4f\" type=\"checkbox\" ><label class=\"sk-toggleable__label\" for=\"2ce21ddb-8136-4b7a-bee3-c97b17a39c4f\">OrdinalEncoder</label><div class=\"sk-toggleable__content\"><pre>OrdinalEncoder(categories=[['poor', 'normal', 'rich']],\n",
       "               handle_unknown='use_encoded_value', unknown_value=-1)</pre></div></div></div></div></div></div><div class=\"sk-parallel-item\"><div class=\"sk-item\"><div class=\"sk-label-container\"><div class=\"sk-label sk-toggleable\"><input class=\"sk-toggleable__control sk-hidden--visually\" id=\"97fbaac1-266e-484f-8af9-931ef3e0edaf\" type=\"checkbox\" ><label class=\"sk-toggleable__label\" for=\"97fbaac1-266e-484f-8af9-931ef3e0edaf\">pipeline-2</label><div class=\"sk-toggleable__content\"><pre>['datetime_start', 'datetime_end']</pre></div></div></div><div class=\"sk-serial\"><div class=\"sk-item\"><div class=\"sk-serial\"><div class=\"sk-item\"><div class=\"sk-estimator sk-toggleable\"><input class=\"sk-toggleable__control sk-hidden--visually\" id=\"08e51a35-f675-471b-ae67-46f612dfc2ba\" type=\"checkbox\" ><label class=\"sk-toggleable__label\" for=\"08e51a35-f675-471b-ae67-46f612dfc2ba\">TimeFeatureExtractor</label><div class=\"sk-toggleable__content\"><pre>TimeFeatureExtractor()</pre></div></div></div><div class=\"sk-item sk-dashed-wrapped\"><div class=\"sk-label-container\"><div class=\"sk-label sk-toggleable\"><input class=\"sk-toggleable__control sk-hidden--visually\" id=\"8468be76-11ab-4c4d-8d59-ad5d3c9d3a95\" type=\"checkbox\" ><label class=\"sk-toggleable__label\" for=\"8468be76-11ab-4c4d-8d59-ad5d3c9d3a95\">columntransformer: ColumnTransformer</label><div class=\"sk-toggleable__content\"><pre>ColumnTransformer(transformers=[('minmaxscaler', MinMaxScaler(), ['duration']),\n",
       "                                ('cyclicalencoder', CyclicalEncoder(),\n",
       "                                 ['month'])])</pre></div></div></div><div class=\"sk-parallel\"><div class=\"sk-parallel-item\"><div class=\"sk-item\"><div class=\"sk-label-container\"><div class=\"sk-label sk-toggleable\"><input class=\"sk-toggleable__control sk-hidden--visually\" id=\"a40d77a0-f3a0-49aa-8d98-546c5be299cf\" type=\"checkbox\" ><label class=\"sk-toggleable__label\" for=\"a40d77a0-f3a0-49aa-8d98-546c5be299cf\">minmaxscaler</label><div class=\"sk-toggleable__content\"><pre>['duration']</pre></div></div></div><div class=\"sk-serial\"><div class=\"sk-item\"><div class=\"sk-estimator sk-toggleable\"><input class=\"sk-toggleable__control sk-hidden--visually\" id=\"44e9fd01-4470-4b7e-aa21-342c5e5215fa\" type=\"checkbox\" ><label class=\"sk-toggleable__label\" for=\"44e9fd01-4470-4b7e-aa21-342c5e5215fa\">MinMaxScaler</label><div class=\"sk-toggleable__content\"><pre>MinMaxScaler()</pre></div></div></div></div></div></div><div class=\"sk-parallel-item\"><div class=\"sk-item\"><div class=\"sk-label-container\"><div class=\"sk-label sk-toggleable\"><input class=\"sk-toggleable__control sk-hidden--visually\" id=\"c0452581-355b-43de-8bbc-a2c7b0b6ff43\" type=\"checkbox\" ><label class=\"sk-toggleable__label\" for=\"c0452581-355b-43de-8bbc-a2c7b0b6ff43\">cyclicalencoder</label><div class=\"sk-toggleable__content\"><pre>['month']</pre></div></div></div><div class=\"sk-serial\"><div class=\"sk-item\"><div class=\"sk-estimator sk-toggleable\"><input class=\"sk-toggleable__control sk-hidden--visually\" id=\"1e3ffbdc-f7e3-45b1-98d6-f6f2996780f4\" type=\"checkbox\" ><label class=\"sk-toggleable__label\" for=\"1e3ffbdc-f7e3-45b1-98d6-f6f2996780f4\">CyclicalEncoder</label><div class=\"sk-toggleable__content\"><pre>CyclicalEncoder()</pre></div></div></div></div></div></div></div></div></div></div></div></div></div></div></div><div class=\"sk-item\"><div class=\"sk-estimator sk-toggleable\"><input class=\"sk-toggleable__control sk-hidden--visually\" id=\"bea3cb2e-0285-44ad-88bb-e55a0c34654b\" type=\"checkbox\" ><label class=\"sk-toggleable__label\" for=\"bea3cb2e-0285-44ad-88bb-e55a0c34654b\">LogisticRegression</label><div class=\"sk-toggleable__content\"><pre>LogisticRegression(max_iter=2000)</pre></div></div></div></div></div></div></div>"
      ],
      "text/plain": [
       "Pipeline(steps=[('columntransformer',\n",
       "                 ColumnTransformer(transformers=[('pipeline-1',\n",
       "                                                  Pipeline(steps=[('simpleimputer',\n",
       "                                                                   SimpleImputer()),\n",
       "                                                                  ('minmaxscaler',\n",
       "                                                                   MinMaxScaler())]),\n",
       "                                                  ['measure_index',\n",
       "                                                   'measure_moisture',\n",
       "                                                   'measure_temperature',\n",
       "                                                   'measure_chemicals',\n",
       "                                                   'measure_biodiversity']),\n",
       "                                                 ('onehotencoder',\n",
       "                                                  OneHotEncoder(handle_unknown='ignore',\n",
       "                                                                sparse=False),\n",
       "                                                  ['main_elem...\n",
       "                                                                 unknown_value=-1),\n",
       "                                                  ['soil_condition']),\n",
       "                                                 ('pipeline-2',\n",
       "                                                  Pipeline(steps=[('timefeatureextractor',\n",
       "                                                                   TimeFeatureExtractor()),\n",
       "                                                                  ('columntransformer',\n",
       "                                                                   ColumnTransformer(transformers=[('minmaxscaler',\n",
       "                                                                                                    MinMaxScaler(),\n",
       "                                                                                                    ['duration']),\n",
       "                                                                                                   ('cyclicalencoder',\n",
       "                                                                                                    CyclicalEncoder(),\n",
       "                                                                                                    ['month'])]))]),\n",
       "                                                  ['datetime_start',\n",
       "                                                   'datetime_end'])])),\n",
       "                ('logisticregression', LogisticRegression(max_iter=2000))])"
      ]
     },
     "execution_count": 362,
     "metadata": {},
     "output_type": "execute_result"
    }
   ],
   "source": [
    "# YOUR CODE HERE\n",
    "pipeline_regularized = make_pipeline(\n",
    "    preprocessing_advanced,\n",
    "    LogisticRegression(max_iter=2000)\n",
    ")\n",
    "pipeline_regularized"
   ]
  },
  {
   "cell_type": "code",
   "execution_count": 363,
   "metadata": {
    "ExecuteTime": {
     "end_time": "2021-09-29T14:14:51.461841Z",
     "start_time": "2021-09-29T14:14:50.978417Z"
    }
   },
   "outputs": [],
   "source": [
    "scores_regularized = cross_val_score(pipeline_regularized, X, y, scoring='recall', cv=5, n_jobs=-1)"
   ]
  },
  {
   "cell_type": "code",
   "execution_count": 364,
   "metadata": {
    "ExecuteTime": {
     "end_time": "2021-09-29T14:14:52.002063Z",
     "start_time": "2021-09-29T14:14:51.993162Z"
    }
   },
   "outputs": [
    {
     "data": {
      "text/plain": [
       "array([0.83028083, 0.81807082, 0.81051345, 0.81173594, 0.80195599])"
      ]
     },
     "execution_count": 364,
     "metadata": {},
     "output_type": "execute_result"
    }
   ],
   "source": [
    "scores_regularized"
   ]
  },
  {
   "cell_type": "markdown",
   "metadata": {},
   "source": [
    "### 💾 Save your results\n",
    "\n",
    "Run the cell below to save your results."
   ]
  },
  {
   "cell_type": "code",
   "execution_count": 365,
   "metadata": {
    "ExecuteTime": {
     "end_time": "2021-09-29T14:14:55.351681Z",
     "start_time": "2021-09-29T14:14:55.136596Z"
    }
   },
   "outputs": [],
   "source": [
    "from nbresult import ChallengeResult\n",
    "from sklearn.model_selection import train_test_split\n",
    "X_,X_val,y_,y_val = train_test_split(X,y,test_size=0.3,random_state=7)\n",
    "pipe=pipeline_regularized.fit(X_,y_)\n",
    "\n",
    "result = ChallengeResult(\n",
    "    'advanced_pipeline',\n",
    "    steps=str(pipeline_regularized.steps),\n",
    "    scores=scores_regularized,\n",
    "    y=y_val,\n",
    "    y_pred=pipeline_regularized.predict(X_val)\n",
    ")\n",
    "result.write()"
   ]
  },
  {
   "cell_type": "markdown",
   "metadata": {},
   "source": [
    "## Dimensionality Reduction"
   ]
  },
  {
   "cell_type": "markdown",
   "metadata": {},
   "source": [
    "**📝 Add a dimensional reduction step as the last step of your `preprocessing_advanced`. Make sure your dimensional reduction keeps _only 12 features_.**"
   ]
  },
  {
   "cell_type": "code",
   "execution_count": 366,
   "metadata": {
    "ExecuteTime": {
     "end_time": "2021-09-29T14:14:57.432886Z",
     "start_time": "2021-09-29T14:14:57.404816Z"
    },
    "tags": [
     "challengify"
    ]
   },
   "outputs": [],
   "source": [
    "# YOUR CODE HERE\n",
    "preprocessing_advanced = make_pipeline(\n",
    "    preprocessing_advanced,\n",
    "    PCA(n_components=12)\n",
    ")"
   ]
  },
  {
   "cell_type": "code",
   "execution_count": 367,
   "metadata": {
    "ExecuteTime": {
     "end_time": "2021-09-29T14:14:58.055205Z",
     "start_time": "2021-09-29T14:14:57.854070Z"
    }
   },
   "outputs": [
    {
     "data": {
      "text/html": [
       "<style>#sk-ab114101-eab5-4366-9355-219a51f2e447 {color: black;background-color: white;}#sk-ab114101-eab5-4366-9355-219a51f2e447 pre{padding: 0;}#sk-ab114101-eab5-4366-9355-219a51f2e447 div.sk-toggleable {background-color: white;}#sk-ab114101-eab5-4366-9355-219a51f2e447 label.sk-toggleable__label {cursor: pointer;display: block;width: 100%;margin-bottom: 0;padding: 0.2em 0.3em;box-sizing: border-box;text-align: center;}#sk-ab114101-eab5-4366-9355-219a51f2e447 div.sk-toggleable__content {max-height: 0;max-width: 0;overflow: hidden;text-align: left;background-color: #f0f8ff;}#sk-ab114101-eab5-4366-9355-219a51f2e447 div.sk-toggleable__content pre {margin: 0.2em;color: black;border-radius: 0.25em;background-color: #f0f8ff;}#sk-ab114101-eab5-4366-9355-219a51f2e447 input.sk-toggleable__control:checked~div.sk-toggleable__content {max-height: 200px;max-width: 100%;overflow: auto;}#sk-ab114101-eab5-4366-9355-219a51f2e447 div.sk-estimator input.sk-toggleable__control:checked~label.sk-toggleable__label {background-color: #d4ebff;}#sk-ab114101-eab5-4366-9355-219a51f2e447 div.sk-label input.sk-toggleable__control:checked~label.sk-toggleable__label {background-color: #d4ebff;}#sk-ab114101-eab5-4366-9355-219a51f2e447 input.sk-hidden--visually {border: 0;clip: rect(1px 1px 1px 1px);clip: rect(1px, 1px, 1px, 1px);height: 1px;margin: -1px;overflow: hidden;padding: 0;position: absolute;width: 1px;}#sk-ab114101-eab5-4366-9355-219a51f2e447 div.sk-estimator {font-family: monospace;background-color: #f0f8ff;margin: 0.25em 0.25em;border: 1px dotted black;border-radius: 0.25em;box-sizing: border-box;}#sk-ab114101-eab5-4366-9355-219a51f2e447 div.sk-estimator:hover {background-color: #d4ebff;}#sk-ab114101-eab5-4366-9355-219a51f2e447 div.sk-parallel-item::after {content: \"\";width: 100%;border-bottom: 1px solid gray;flex-grow: 1;}#sk-ab114101-eab5-4366-9355-219a51f2e447 div.sk-label:hover label.sk-toggleable__label {background-color: #d4ebff;}#sk-ab114101-eab5-4366-9355-219a51f2e447 div.sk-serial::before {content: \"\";position: absolute;border-left: 1px solid gray;box-sizing: border-box;top: 2em;bottom: 0;left: 50%;}#sk-ab114101-eab5-4366-9355-219a51f2e447 div.sk-serial {display: flex;flex-direction: column;align-items: center;background-color: white;}#sk-ab114101-eab5-4366-9355-219a51f2e447 div.sk-item {z-index: 1;}#sk-ab114101-eab5-4366-9355-219a51f2e447 div.sk-parallel {display: flex;align-items: stretch;justify-content: center;background-color: white;}#sk-ab114101-eab5-4366-9355-219a51f2e447 div.sk-parallel-item {display: flex;flex-direction: column;position: relative;background-color: white;}#sk-ab114101-eab5-4366-9355-219a51f2e447 div.sk-parallel-item:first-child::after {align-self: flex-end;width: 50%;}#sk-ab114101-eab5-4366-9355-219a51f2e447 div.sk-parallel-item:last-child::after {align-self: flex-start;width: 50%;}#sk-ab114101-eab5-4366-9355-219a51f2e447 div.sk-parallel-item:only-child::after {width: 0;}#sk-ab114101-eab5-4366-9355-219a51f2e447 div.sk-dashed-wrapped {border: 1px dashed gray;margin: 0.2em;box-sizing: border-box;padding-bottom: 0.1em;background-color: white;position: relative;}#sk-ab114101-eab5-4366-9355-219a51f2e447 div.sk-label label {font-family: monospace;font-weight: bold;background-color: white;display: inline-block;line-height: 1.2em;}#sk-ab114101-eab5-4366-9355-219a51f2e447 div.sk-label-container {position: relative;z-index: 2;text-align: center;}#sk-ab114101-eab5-4366-9355-219a51f2e447 div.sk-container {display: inline-block;position: relative;}</style><div id=\"sk-ab114101-eab5-4366-9355-219a51f2e447\" class\"sk-top-container\"><div class=\"sk-container\"><div class=\"sk-item sk-dashed-wrapped\"><div class=\"sk-label-container\"><div class=\"sk-label sk-toggleable\"><input class=\"sk-toggleable__control sk-hidden--visually\" id=\"ed30fb82-be1d-4ff4-a4c3-40b620a22428\" type=\"checkbox\" ><label class=\"sk-toggleable__label\" for=\"ed30fb82-be1d-4ff4-a4c3-40b620a22428\">Pipeline</label><div class=\"sk-toggleable__content\"><pre>Pipeline(steps=[('columntransformer',\n",
       "                 ColumnTransformer(transformers=[('pipeline-1',\n",
       "                                                  Pipeline(steps=[('simpleimputer',\n",
       "                                                                   SimpleImputer()),\n",
       "                                                                  ('minmaxscaler',\n",
       "                                                                   MinMaxScaler())]),\n",
       "                                                  ['measure_index',\n",
       "                                                   'measure_moisture',\n",
       "                                                   'measure_temperature',\n",
       "                                                   'measure_chemicals',\n",
       "                                                   'measure_biodiversity']),\n",
       "                                                 ('onehotencoder',\n",
       "                                                  OneHotEncoder(handle_unknown='ignore',\n",
       "                                                                sparse=False),\n",
       "                                                  ['main_elem...\n",
       "                                                                 handle_unknown='use_encoded_value',\n",
       "                                                                 unknown_value=-1),\n",
       "                                                  ['soil_condition']),\n",
       "                                                 ('pipeline-2',\n",
       "                                                  Pipeline(steps=[('timefeatureextractor',\n",
       "                                                                   TimeFeatureExtractor()),\n",
       "                                                                  ('columntransformer',\n",
       "                                                                   ColumnTransformer(transformers=[('minmaxscaler',\n",
       "                                                                                                    MinMaxScaler(),\n",
       "                                                                                                    ['duration']),\n",
       "                                                                                                   ('cyclicalencoder',\n",
       "                                                                                                    CyclicalEncoder(),\n",
       "                                                                                                    ['month'])]))]),\n",
       "                                                  ['datetime_start',\n",
       "                                                   'datetime_end'])])),\n",
       "                ('pca', PCA(n_components=12))])</pre></div></div></div><div class=\"sk-serial\"><div class=\"sk-item sk-dashed-wrapped\"><div class=\"sk-label-container\"><div class=\"sk-label sk-toggleable\"><input class=\"sk-toggleable__control sk-hidden--visually\" id=\"3a77d7bc-e5a6-477e-8031-8ff9ff6d35a2\" type=\"checkbox\" ><label class=\"sk-toggleable__label\" for=\"3a77d7bc-e5a6-477e-8031-8ff9ff6d35a2\">columntransformer: ColumnTransformer</label><div class=\"sk-toggleable__content\"><pre>ColumnTransformer(transformers=[('pipeline-1',\n",
       "                                 Pipeline(steps=[('simpleimputer',\n",
       "                                                  SimpleImputer()),\n",
       "                                                 ('minmaxscaler',\n",
       "                                                  MinMaxScaler())]),\n",
       "                                 ['measure_index', 'measure_moisture',\n",
       "                                  'measure_temperature', 'measure_chemicals',\n",
       "                                  'measure_biodiversity']),\n",
       "                                ('onehotencoder',\n",
       "                                 OneHotEncoder(handle_unknown='ignore',\n",
       "                                               sparse=False),\n",
       "                                 ['main_element']),\n",
       "                                ('ordinalencoder',\n",
       "                                 OrdinalEncod...l',\n",
       "                                                             'rich']],\n",
       "                                                handle_unknown='use_encoded_value',\n",
       "                                                unknown_value=-1),\n",
       "                                 ['soil_condition']),\n",
       "                                ('pipeline-2',\n",
       "                                 Pipeline(steps=[('timefeatureextractor',\n",
       "                                                  TimeFeatureExtractor()),\n",
       "                                                 ('columntransformer',\n",
       "                                                  ColumnTransformer(transformers=[('minmaxscaler',\n",
       "                                                                                   MinMaxScaler(),\n",
       "                                                                                   ['duration']),\n",
       "                                                                                  ('cyclicalencoder',\n",
       "                                                                                   CyclicalEncoder(),\n",
       "                                                                                   ['month'])]))]),\n",
       "                                 ['datetime_start', 'datetime_end'])])</pre></div></div></div><div class=\"sk-parallel\"><div class=\"sk-parallel-item\"><div class=\"sk-item\"><div class=\"sk-label-container\"><div class=\"sk-label sk-toggleable\"><input class=\"sk-toggleable__control sk-hidden--visually\" id=\"e2f19e9b-021b-4523-9454-b475e0adb3a3\" type=\"checkbox\" ><label class=\"sk-toggleable__label\" for=\"e2f19e9b-021b-4523-9454-b475e0adb3a3\">pipeline-1</label><div class=\"sk-toggleable__content\"><pre>['measure_index', 'measure_moisture', 'measure_temperature', 'measure_chemicals', 'measure_biodiversity']</pre></div></div></div><div class=\"sk-serial\"><div class=\"sk-item\"><div class=\"sk-serial\"><div class=\"sk-item\"><div class=\"sk-estimator sk-toggleable\"><input class=\"sk-toggleable__control sk-hidden--visually\" id=\"083cde62-dade-4c30-8827-962bc5c7354f\" type=\"checkbox\" ><label class=\"sk-toggleable__label\" for=\"083cde62-dade-4c30-8827-962bc5c7354f\">SimpleImputer</label><div class=\"sk-toggleable__content\"><pre>SimpleImputer()</pre></div></div></div><div class=\"sk-item\"><div class=\"sk-estimator sk-toggleable\"><input class=\"sk-toggleable__control sk-hidden--visually\" id=\"32f622a2-9d0c-4e04-9f01-2577a10fd6ac\" type=\"checkbox\" ><label class=\"sk-toggleable__label\" for=\"32f622a2-9d0c-4e04-9f01-2577a10fd6ac\">MinMaxScaler</label><div class=\"sk-toggleable__content\"><pre>MinMaxScaler()</pre></div></div></div></div></div></div></div></div><div class=\"sk-parallel-item\"><div class=\"sk-item\"><div class=\"sk-label-container\"><div class=\"sk-label sk-toggleable\"><input class=\"sk-toggleable__control sk-hidden--visually\" id=\"839a065e-ebe9-40fb-a9fa-2d9e9fc180f0\" type=\"checkbox\" ><label class=\"sk-toggleable__label\" for=\"839a065e-ebe9-40fb-a9fa-2d9e9fc180f0\">onehotencoder</label><div class=\"sk-toggleable__content\"><pre>['main_element']</pre></div></div></div><div class=\"sk-serial\"><div class=\"sk-item\"><div class=\"sk-estimator sk-toggleable\"><input class=\"sk-toggleable__control sk-hidden--visually\" id=\"837579b1-a1d4-4ccf-9a9c-85577754b592\" type=\"checkbox\" ><label class=\"sk-toggleable__label\" for=\"837579b1-a1d4-4ccf-9a9c-85577754b592\">OneHotEncoder</label><div class=\"sk-toggleable__content\"><pre>OneHotEncoder(handle_unknown='ignore', sparse=False)</pre></div></div></div></div></div></div><div class=\"sk-parallel-item\"><div class=\"sk-item\"><div class=\"sk-label-container\"><div class=\"sk-label sk-toggleable\"><input class=\"sk-toggleable__control sk-hidden--visually\" id=\"f94d2425-5987-4604-928d-3491b21a8432\" type=\"checkbox\" ><label class=\"sk-toggleable__label\" for=\"f94d2425-5987-4604-928d-3491b21a8432\">ordinalencoder</label><div class=\"sk-toggleable__content\"><pre>['soil_condition']</pre></div></div></div><div class=\"sk-serial\"><div class=\"sk-item\"><div class=\"sk-estimator sk-toggleable\"><input class=\"sk-toggleable__control sk-hidden--visually\" id=\"4dda0bea-dea4-44df-9959-13a8744c1eac\" type=\"checkbox\" ><label class=\"sk-toggleable__label\" for=\"4dda0bea-dea4-44df-9959-13a8744c1eac\">OrdinalEncoder</label><div class=\"sk-toggleable__content\"><pre>OrdinalEncoder(categories=[['poor', 'normal', 'rich']],\n",
       "               handle_unknown='use_encoded_value', unknown_value=-1)</pre></div></div></div></div></div></div><div class=\"sk-parallel-item\"><div class=\"sk-item\"><div class=\"sk-label-container\"><div class=\"sk-label sk-toggleable\"><input class=\"sk-toggleable__control sk-hidden--visually\" id=\"97421391-6f16-4ec7-892c-4979d87b7663\" type=\"checkbox\" ><label class=\"sk-toggleable__label\" for=\"97421391-6f16-4ec7-892c-4979d87b7663\">pipeline-2</label><div class=\"sk-toggleable__content\"><pre>['datetime_start', 'datetime_end']</pre></div></div></div><div class=\"sk-serial\"><div class=\"sk-item\"><div class=\"sk-serial\"><div class=\"sk-item\"><div class=\"sk-estimator sk-toggleable\"><input class=\"sk-toggleable__control sk-hidden--visually\" id=\"effccacd-0a90-43ee-a042-9498223aafa3\" type=\"checkbox\" ><label class=\"sk-toggleable__label\" for=\"effccacd-0a90-43ee-a042-9498223aafa3\">TimeFeatureExtractor</label><div class=\"sk-toggleable__content\"><pre>TimeFeatureExtractor()</pre></div></div></div><div class=\"sk-item sk-dashed-wrapped\"><div class=\"sk-label-container\"><div class=\"sk-label sk-toggleable\"><input class=\"sk-toggleable__control sk-hidden--visually\" id=\"cd9224f7-2014-47cb-84cd-7c92a2fc1c2b\" type=\"checkbox\" ><label class=\"sk-toggleable__label\" for=\"cd9224f7-2014-47cb-84cd-7c92a2fc1c2b\">columntransformer: ColumnTransformer</label><div class=\"sk-toggleable__content\"><pre>ColumnTransformer(transformers=[('minmaxscaler', MinMaxScaler(), ['duration']),\n",
       "                                ('cyclicalencoder', CyclicalEncoder(),\n",
       "                                 ['month'])])</pre></div></div></div><div class=\"sk-parallel\"><div class=\"sk-parallel-item\"><div class=\"sk-item\"><div class=\"sk-label-container\"><div class=\"sk-label sk-toggleable\"><input class=\"sk-toggleable__control sk-hidden--visually\" id=\"de238059-94ea-40f4-a241-83a26f6699a5\" type=\"checkbox\" ><label class=\"sk-toggleable__label\" for=\"de238059-94ea-40f4-a241-83a26f6699a5\">minmaxscaler</label><div class=\"sk-toggleable__content\"><pre>['duration']</pre></div></div></div><div class=\"sk-serial\"><div class=\"sk-item\"><div class=\"sk-estimator sk-toggleable\"><input class=\"sk-toggleable__control sk-hidden--visually\" id=\"61a24f17-2579-4f82-a32c-ba0423302f0d\" type=\"checkbox\" ><label class=\"sk-toggleable__label\" for=\"61a24f17-2579-4f82-a32c-ba0423302f0d\">MinMaxScaler</label><div class=\"sk-toggleable__content\"><pre>MinMaxScaler()</pre></div></div></div></div></div></div><div class=\"sk-parallel-item\"><div class=\"sk-item\"><div class=\"sk-label-container\"><div class=\"sk-label sk-toggleable\"><input class=\"sk-toggleable__control sk-hidden--visually\" id=\"b93f809f-d2a4-49cf-9925-62d6125867c4\" type=\"checkbox\" ><label class=\"sk-toggleable__label\" for=\"b93f809f-d2a4-49cf-9925-62d6125867c4\">cyclicalencoder</label><div class=\"sk-toggleable__content\"><pre>['month']</pre></div></div></div><div class=\"sk-serial\"><div class=\"sk-item\"><div class=\"sk-estimator sk-toggleable\"><input class=\"sk-toggleable__control sk-hidden--visually\" id=\"42b6d427-1393-4b71-a782-e3482392a66c\" type=\"checkbox\" ><label class=\"sk-toggleable__label\" for=\"42b6d427-1393-4b71-a782-e3482392a66c\">CyclicalEncoder</label><div class=\"sk-toggleable__content\"><pre>CyclicalEncoder()</pre></div></div></div></div></div></div></div></div></div></div></div></div></div></div></div><div class=\"sk-item\"><div class=\"sk-estimator sk-toggleable\"><input class=\"sk-toggleable__control sk-hidden--visually\" id=\"39ead933-df61-402d-97bb-d481cb30aaea\" type=\"checkbox\" ><label class=\"sk-toggleable__label\" for=\"39ead933-df61-402d-97bb-d481cb30aaea\">PCA</label><div class=\"sk-toggleable__content\"><pre>PCA(n_components=12)</pre></div></div></div></div></div></div></div>"
      ],
      "text/plain": [
       "Pipeline(steps=[('columntransformer',\n",
       "                 ColumnTransformer(transformers=[('pipeline-1',\n",
       "                                                  Pipeline(steps=[('simpleimputer',\n",
       "                                                                   SimpleImputer()),\n",
       "                                                                  ('minmaxscaler',\n",
       "                                                                   MinMaxScaler())]),\n",
       "                                                  ['measure_index',\n",
       "                                                   'measure_moisture',\n",
       "                                                   'measure_temperature',\n",
       "                                                   'measure_chemicals',\n",
       "                                                   'measure_biodiversity']),\n",
       "                                                 ('onehotencoder',\n",
       "                                                  OneHotEncoder(handle_unknown='ignore',\n",
       "                                                                sparse=False),\n",
       "                                                  ['main_elem...\n",
       "                                                                 handle_unknown='use_encoded_value',\n",
       "                                                                 unknown_value=-1),\n",
       "                                                  ['soil_condition']),\n",
       "                                                 ('pipeline-2',\n",
       "                                                  Pipeline(steps=[('timefeatureextractor',\n",
       "                                                                   TimeFeatureExtractor()),\n",
       "                                                                  ('columntransformer',\n",
       "                                                                   ColumnTransformer(transformers=[('minmaxscaler',\n",
       "                                                                                                    MinMaxScaler(),\n",
       "                                                                                                    ['duration']),\n",
       "                                                                                                   ('cyclicalencoder',\n",
       "                                                                                                    CyclicalEncoder(),\n",
       "                                                                                                    ['month'])]))]),\n",
       "                                                  ['datetime_start',\n",
       "                                                   'datetime_end'])])),\n",
       "                ('pca', PCA(n_components=12))])"
      ]
     },
     "execution_count": 367,
     "metadata": {},
     "output_type": "execute_result"
    }
   ],
   "source": [
    "preprocessing_advanced"
   ]
  },
  {
   "cell_type": "markdown",
   "metadata": {},
   "source": [
    "**📝 Apply your `preprocessing_advanced` to `X` and store the result in the `X_preproc_adv` variable.**"
   ]
  },
  {
   "cell_type": "code",
   "execution_count": 368,
   "metadata": {
    "ExecuteTime": {
     "end_time": "2021-09-29T14:15:04.441636Z",
     "start_time": "2021-09-29T14:15:04.336452Z"
    },
    "tags": [
     "challengify"
    ]
   },
   "outputs": [
    {
     "data": {
      "text/plain": [
       "(8138, 12)"
      ]
     },
     "execution_count": 368,
     "metadata": {},
     "output_type": "execute_result"
    }
   ],
   "source": [
    "# YOUR CODE HERE\n",
    "X_preproc_adv = preprocessing_advanced.fit_transform(X)\n",
    "X_preproc_adv.shape"
   ]
  },
  {
   "cell_type": "markdown",
   "metadata": {},
   "source": [
    "### 💾 Save your results\n",
    "\n",
    "Run the cell below to save your results."
   ]
  },
  {
   "cell_type": "code",
   "execution_count": 369,
   "metadata": {
    "ExecuteTime": {
     "end_time": "2021-09-29T14:15:21.682964Z",
     "start_time": "2021-09-29T14:15:21.670793Z"
    }
   },
   "outputs": [],
   "source": [
    "from nbresult import ChallengeResult\n",
    "results=ChallengeResult(\n",
    "    'unsupervised',\n",
    "    algorithm=preprocessing_advanced.steps[-1],\n",
    "    X_preproc_adv=X_preproc_adv\n",
    ")\n",
    "results.write()"
   ]
  },
  {
   "cell_type": "markdown",
   "metadata": {},
   "source": [
    "## Non-linear Model"
   ]
  },
  {
   "cell_type": "markdown",
   "metadata": {},
   "source": [
    "**📝 Build a pipeline that uses `preprocessing_advanced` and then a _Ensemble_ model.**"
   ]
  },
  {
   "cell_type": "markdown",
   "metadata": {},
   "source": [
    "Store this pipeline in the variable `pipeline_ensemble`"
   ]
  },
  {
   "cell_type": "markdown",
   "metadata": {},
   "source": [
    "Cross-validate your pipeline and store the scores in a list `scores_ensemble`"
   ]
  },
  {
   "cell_type": "code",
   "execution_count": 370,
   "metadata": {
    "ExecuteTime": {
     "end_time": "2021-09-29T14:15:25.619528Z",
     "start_time": "2021-09-29T14:15:25.168117Z"
    },
    "tags": [
     "challengify"
    ]
   },
   "outputs": [
    {
     "data": {
      "text/html": [
       "<style>#sk-d8a7d93d-e25a-4b5c-8bb6-5148944a1656 {color: black;background-color: white;}#sk-d8a7d93d-e25a-4b5c-8bb6-5148944a1656 pre{padding: 0;}#sk-d8a7d93d-e25a-4b5c-8bb6-5148944a1656 div.sk-toggleable {background-color: white;}#sk-d8a7d93d-e25a-4b5c-8bb6-5148944a1656 label.sk-toggleable__label {cursor: pointer;display: block;width: 100%;margin-bottom: 0;padding: 0.2em 0.3em;box-sizing: border-box;text-align: center;}#sk-d8a7d93d-e25a-4b5c-8bb6-5148944a1656 div.sk-toggleable__content {max-height: 0;max-width: 0;overflow: hidden;text-align: left;background-color: #f0f8ff;}#sk-d8a7d93d-e25a-4b5c-8bb6-5148944a1656 div.sk-toggleable__content pre {margin: 0.2em;color: black;border-radius: 0.25em;background-color: #f0f8ff;}#sk-d8a7d93d-e25a-4b5c-8bb6-5148944a1656 input.sk-toggleable__control:checked~div.sk-toggleable__content {max-height: 200px;max-width: 100%;overflow: auto;}#sk-d8a7d93d-e25a-4b5c-8bb6-5148944a1656 div.sk-estimator input.sk-toggleable__control:checked~label.sk-toggleable__label {background-color: #d4ebff;}#sk-d8a7d93d-e25a-4b5c-8bb6-5148944a1656 div.sk-label input.sk-toggleable__control:checked~label.sk-toggleable__label {background-color: #d4ebff;}#sk-d8a7d93d-e25a-4b5c-8bb6-5148944a1656 input.sk-hidden--visually {border: 0;clip: rect(1px 1px 1px 1px);clip: rect(1px, 1px, 1px, 1px);height: 1px;margin: -1px;overflow: hidden;padding: 0;position: absolute;width: 1px;}#sk-d8a7d93d-e25a-4b5c-8bb6-5148944a1656 div.sk-estimator {font-family: monospace;background-color: #f0f8ff;margin: 0.25em 0.25em;border: 1px dotted black;border-radius: 0.25em;box-sizing: border-box;}#sk-d8a7d93d-e25a-4b5c-8bb6-5148944a1656 div.sk-estimator:hover {background-color: #d4ebff;}#sk-d8a7d93d-e25a-4b5c-8bb6-5148944a1656 div.sk-parallel-item::after {content: \"\";width: 100%;border-bottom: 1px solid gray;flex-grow: 1;}#sk-d8a7d93d-e25a-4b5c-8bb6-5148944a1656 div.sk-label:hover label.sk-toggleable__label {background-color: #d4ebff;}#sk-d8a7d93d-e25a-4b5c-8bb6-5148944a1656 div.sk-serial::before {content: \"\";position: absolute;border-left: 1px solid gray;box-sizing: border-box;top: 2em;bottom: 0;left: 50%;}#sk-d8a7d93d-e25a-4b5c-8bb6-5148944a1656 div.sk-serial {display: flex;flex-direction: column;align-items: center;background-color: white;}#sk-d8a7d93d-e25a-4b5c-8bb6-5148944a1656 div.sk-item {z-index: 1;}#sk-d8a7d93d-e25a-4b5c-8bb6-5148944a1656 div.sk-parallel {display: flex;align-items: stretch;justify-content: center;background-color: white;}#sk-d8a7d93d-e25a-4b5c-8bb6-5148944a1656 div.sk-parallel-item {display: flex;flex-direction: column;position: relative;background-color: white;}#sk-d8a7d93d-e25a-4b5c-8bb6-5148944a1656 div.sk-parallel-item:first-child::after {align-self: flex-end;width: 50%;}#sk-d8a7d93d-e25a-4b5c-8bb6-5148944a1656 div.sk-parallel-item:last-child::after {align-self: flex-start;width: 50%;}#sk-d8a7d93d-e25a-4b5c-8bb6-5148944a1656 div.sk-parallel-item:only-child::after {width: 0;}#sk-d8a7d93d-e25a-4b5c-8bb6-5148944a1656 div.sk-dashed-wrapped {border: 1px dashed gray;margin: 0.2em;box-sizing: border-box;padding-bottom: 0.1em;background-color: white;position: relative;}#sk-d8a7d93d-e25a-4b5c-8bb6-5148944a1656 div.sk-label label {font-family: monospace;font-weight: bold;background-color: white;display: inline-block;line-height: 1.2em;}#sk-d8a7d93d-e25a-4b5c-8bb6-5148944a1656 div.sk-label-container {position: relative;z-index: 2;text-align: center;}#sk-d8a7d93d-e25a-4b5c-8bb6-5148944a1656 div.sk-container {display: inline-block;position: relative;}</style><div id=\"sk-d8a7d93d-e25a-4b5c-8bb6-5148944a1656\" class\"sk-top-container\"><div class=\"sk-container\"><div class=\"sk-item sk-dashed-wrapped\"><div class=\"sk-label-container\"><div class=\"sk-label sk-toggleable\"><input class=\"sk-toggleable__control sk-hidden--visually\" id=\"4478c4af-093f-41a8-950f-69025c5fe302\" type=\"checkbox\" ><label class=\"sk-toggleable__label\" for=\"4478c4af-093f-41a8-950f-69025c5fe302\">Pipeline</label><div class=\"sk-toggleable__content\"><pre>Pipeline(steps=[('pipeline',\n",
       "                 Pipeline(steps=[('columntransformer',\n",
       "                                  ColumnTransformer(transformers=[('pipeline-1',\n",
       "                                                                   Pipeline(steps=[('simpleimputer',\n",
       "                                                                                    SimpleImputer()),\n",
       "                                                                                   ('minmaxscaler',\n",
       "                                                                                    MinMaxScaler())]),\n",
       "                                                                   ['measure_index',\n",
       "                                                                    'measure_moisture',\n",
       "                                                                    'measure_temperature',\n",
       "                                                                    'measure_chemicals',\n",
       "                                                                    'measure_biodiversity']),\n",
       "                                                                  ('onehotencoder',\n",
       "                                                                   OneHotEncoder(handle_unknown='ignor...\n",
       "                                                                  ('pipeline-2',\n",
       "                                                                   Pipeline(steps=[('timefeatureextractor',\n",
       "                                                                                    TimeFeatureExtractor()),\n",
       "                                                                                   ('columntransformer',\n",
       "                                                                                    ColumnTransformer(transformers=[('minmaxscaler',\n",
       "                                                                                                                     MinMaxScaler(),\n",
       "                                                                                                                     ['duration']),\n",
       "                                                                                                                    ('cyclicalencoder',\n",
       "                                                                                                                     CyclicalEncoder(),\n",
       "                                                                                                                     ['month'])]))]),\n",
       "                                                                   ['datetime_start',\n",
       "                                                                    'datetime_end'])])),\n",
       "                                 ('pca', PCA(n_components=12))])),\n",
       "                ('randomforestclassifier', RandomForestClassifier())])</pre></div></div></div><div class=\"sk-serial\"><div class=\"sk-item\"><div class=\"sk-label-container\"><div class=\"sk-label sk-toggleable\"><input class=\"sk-toggleable__control sk-hidden--visually\" id=\"ae1c6096-65f5-47bf-9341-c43a4de765d1\" type=\"checkbox\" ><label class=\"sk-toggleable__label\" for=\"ae1c6096-65f5-47bf-9341-c43a4de765d1\">pipeline: Pipeline</label><div class=\"sk-toggleable__content\"><pre>Pipeline(steps=[('columntransformer',\n",
       "                 ColumnTransformer(transformers=[('pipeline-1',\n",
       "                                                  Pipeline(steps=[('simpleimputer',\n",
       "                                                                   SimpleImputer()),\n",
       "                                                                  ('minmaxscaler',\n",
       "                                                                   MinMaxScaler())]),\n",
       "                                                  ['measure_index',\n",
       "                                                   'measure_moisture',\n",
       "                                                   'measure_temperature',\n",
       "                                                   'measure_chemicals',\n",
       "                                                   'measure_biodiversity']),\n",
       "                                                 ('onehotencoder',\n",
       "                                                  OneHotEncoder(handle_unknown='ignore',\n",
       "                                                                sparse=False),\n",
       "                                                  ['main_elem...\n",
       "                                                                 handle_unknown='use_encoded_value',\n",
       "                                                                 unknown_value=-1),\n",
       "                                                  ['soil_condition']),\n",
       "                                                 ('pipeline-2',\n",
       "                                                  Pipeline(steps=[('timefeatureextractor',\n",
       "                                                                   TimeFeatureExtractor()),\n",
       "                                                                  ('columntransformer',\n",
       "                                                                   ColumnTransformer(transformers=[('minmaxscaler',\n",
       "                                                                                                    MinMaxScaler(),\n",
       "                                                                                                    ['duration']),\n",
       "                                                                                                   ('cyclicalencoder',\n",
       "                                                                                                    CyclicalEncoder(),\n",
       "                                                                                                    ['month'])]))]),\n",
       "                                                  ['datetime_start',\n",
       "                                                   'datetime_end'])])),\n",
       "                ('pca', PCA(n_components=12))])</pre></div></div></div><div class=\"sk-serial\"><div class=\"sk-item sk-dashed-wrapped\"><div class=\"sk-label-container\"><div class=\"sk-label sk-toggleable\"><input class=\"sk-toggleable__control sk-hidden--visually\" id=\"bc05e2e7-f74b-417a-a779-f233e36ce41a\" type=\"checkbox\" ><label class=\"sk-toggleable__label\" for=\"bc05e2e7-f74b-417a-a779-f233e36ce41a\">columntransformer: ColumnTransformer</label><div class=\"sk-toggleable__content\"><pre>ColumnTransformer(transformers=[('pipeline-1',\n",
       "                                 Pipeline(steps=[('simpleimputer',\n",
       "                                                  SimpleImputer()),\n",
       "                                                 ('minmaxscaler',\n",
       "                                                  MinMaxScaler())]),\n",
       "                                 ['measure_index', 'measure_moisture',\n",
       "                                  'measure_temperature', 'measure_chemicals',\n",
       "                                  'measure_biodiversity']),\n",
       "                                ('onehotencoder',\n",
       "                                 OneHotEncoder(handle_unknown='ignore',\n",
       "                                               sparse=False),\n",
       "                                 ['main_element']),\n",
       "                                ('ordinalencoder',\n",
       "                                 OrdinalEncod...l',\n",
       "                                                             'rich']],\n",
       "                                                handle_unknown='use_encoded_value',\n",
       "                                                unknown_value=-1),\n",
       "                                 ['soil_condition']),\n",
       "                                ('pipeline-2',\n",
       "                                 Pipeline(steps=[('timefeatureextractor',\n",
       "                                                  TimeFeatureExtractor()),\n",
       "                                                 ('columntransformer',\n",
       "                                                  ColumnTransformer(transformers=[('minmaxscaler',\n",
       "                                                                                   MinMaxScaler(),\n",
       "                                                                                   ['duration']),\n",
       "                                                                                  ('cyclicalencoder',\n",
       "                                                                                   CyclicalEncoder(),\n",
       "                                                                                   ['month'])]))]),\n",
       "                                 ['datetime_start', 'datetime_end'])])</pre></div></div></div><div class=\"sk-parallel\"><div class=\"sk-parallel-item\"><div class=\"sk-item\"><div class=\"sk-label-container\"><div class=\"sk-label sk-toggleable\"><input class=\"sk-toggleable__control sk-hidden--visually\" id=\"ee981173-490c-408c-bd30-b033c59a5ace\" type=\"checkbox\" ><label class=\"sk-toggleable__label\" for=\"ee981173-490c-408c-bd30-b033c59a5ace\">pipeline-1</label><div class=\"sk-toggleable__content\"><pre>['measure_index', 'measure_moisture', 'measure_temperature', 'measure_chemicals', 'measure_biodiversity']</pre></div></div></div><div class=\"sk-serial\"><div class=\"sk-item\"><div class=\"sk-serial\"><div class=\"sk-item\"><div class=\"sk-estimator sk-toggleable\"><input class=\"sk-toggleable__control sk-hidden--visually\" id=\"53e101df-d25b-423f-adb8-788cc6a445ea\" type=\"checkbox\" ><label class=\"sk-toggleable__label\" for=\"53e101df-d25b-423f-adb8-788cc6a445ea\">SimpleImputer</label><div class=\"sk-toggleable__content\"><pre>SimpleImputer()</pre></div></div></div><div class=\"sk-item\"><div class=\"sk-estimator sk-toggleable\"><input class=\"sk-toggleable__control sk-hidden--visually\" id=\"9f521100-4ad1-4733-b34d-0b35a1532741\" type=\"checkbox\" ><label class=\"sk-toggleable__label\" for=\"9f521100-4ad1-4733-b34d-0b35a1532741\">MinMaxScaler</label><div class=\"sk-toggleable__content\"><pre>MinMaxScaler()</pre></div></div></div></div></div></div></div></div><div class=\"sk-parallel-item\"><div class=\"sk-item\"><div class=\"sk-label-container\"><div class=\"sk-label sk-toggleable\"><input class=\"sk-toggleable__control sk-hidden--visually\" id=\"938841ba-fcb0-44d8-af23-f0ca56975449\" type=\"checkbox\" ><label class=\"sk-toggleable__label\" for=\"938841ba-fcb0-44d8-af23-f0ca56975449\">onehotencoder</label><div class=\"sk-toggleable__content\"><pre>['main_element']</pre></div></div></div><div class=\"sk-serial\"><div class=\"sk-item\"><div class=\"sk-estimator sk-toggleable\"><input class=\"sk-toggleable__control sk-hidden--visually\" id=\"9d625fe2-3891-40af-9655-264791803e19\" type=\"checkbox\" ><label class=\"sk-toggleable__label\" for=\"9d625fe2-3891-40af-9655-264791803e19\">OneHotEncoder</label><div class=\"sk-toggleable__content\"><pre>OneHotEncoder(handle_unknown='ignore', sparse=False)</pre></div></div></div></div></div></div><div class=\"sk-parallel-item\"><div class=\"sk-item\"><div class=\"sk-label-container\"><div class=\"sk-label sk-toggleable\"><input class=\"sk-toggleable__control sk-hidden--visually\" id=\"2af1d90c-4086-41df-b323-a29bbbb02f43\" type=\"checkbox\" ><label class=\"sk-toggleable__label\" for=\"2af1d90c-4086-41df-b323-a29bbbb02f43\">ordinalencoder</label><div class=\"sk-toggleable__content\"><pre>['soil_condition']</pre></div></div></div><div class=\"sk-serial\"><div class=\"sk-item\"><div class=\"sk-estimator sk-toggleable\"><input class=\"sk-toggleable__control sk-hidden--visually\" id=\"b44ba221-bc14-4b05-adfb-e4d5abae83c5\" type=\"checkbox\" ><label class=\"sk-toggleable__label\" for=\"b44ba221-bc14-4b05-adfb-e4d5abae83c5\">OrdinalEncoder</label><div class=\"sk-toggleable__content\"><pre>OrdinalEncoder(categories=[['poor', 'normal', 'rich']],\n",
       "               handle_unknown='use_encoded_value', unknown_value=-1)</pre></div></div></div></div></div></div><div class=\"sk-parallel-item\"><div class=\"sk-item\"><div class=\"sk-label-container\"><div class=\"sk-label sk-toggleable\"><input class=\"sk-toggleable__control sk-hidden--visually\" id=\"1527843e-f40c-4434-a74d-f791f3915167\" type=\"checkbox\" ><label class=\"sk-toggleable__label\" for=\"1527843e-f40c-4434-a74d-f791f3915167\">pipeline-2</label><div class=\"sk-toggleable__content\"><pre>['datetime_start', 'datetime_end']</pre></div></div></div><div class=\"sk-serial\"><div class=\"sk-item\"><div class=\"sk-serial\"><div class=\"sk-item\"><div class=\"sk-estimator sk-toggleable\"><input class=\"sk-toggleable__control sk-hidden--visually\" id=\"f9025651-9e8c-484f-9890-ebd376fc479e\" type=\"checkbox\" ><label class=\"sk-toggleable__label\" for=\"f9025651-9e8c-484f-9890-ebd376fc479e\">TimeFeatureExtractor</label><div class=\"sk-toggleable__content\"><pre>TimeFeatureExtractor()</pre></div></div></div><div class=\"sk-item sk-dashed-wrapped\"><div class=\"sk-label-container\"><div class=\"sk-label sk-toggleable\"><input class=\"sk-toggleable__control sk-hidden--visually\" id=\"2376202c-de37-49a2-9595-24701a34b3b1\" type=\"checkbox\" ><label class=\"sk-toggleable__label\" for=\"2376202c-de37-49a2-9595-24701a34b3b1\">columntransformer: ColumnTransformer</label><div class=\"sk-toggleable__content\"><pre>ColumnTransformer(transformers=[('minmaxscaler', MinMaxScaler(), ['duration']),\n",
       "                                ('cyclicalencoder', CyclicalEncoder(),\n",
       "                                 ['month'])])</pre></div></div></div><div class=\"sk-parallel\"><div class=\"sk-parallel-item\"><div class=\"sk-item\"><div class=\"sk-label-container\"><div class=\"sk-label sk-toggleable\"><input class=\"sk-toggleable__control sk-hidden--visually\" id=\"0854839e-dfdd-4c43-9fb7-0ac9a0731813\" type=\"checkbox\" ><label class=\"sk-toggleable__label\" for=\"0854839e-dfdd-4c43-9fb7-0ac9a0731813\">minmaxscaler</label><div class=\"sk-toggleable__content\"><pre>['duration']</pre></div></div></div><div class=\"sk-serial\"><div class=\"sk-item\"><div class=\"sk-estimator sk-toggleable\"><input class=\"sk-toggleable__control sk-hidden--visually\" id=\"945d8953-869c-473c-ae56-e96e920bc7c9\" type=\"checkbox\" ><label class=\"sk-toggleable__label\" for=\"945d8953-869c-473c-ae56-e96e920bc7c9\">MinMaxScaler</label><div class=\"sk-toggleable__content\"><pre>MinMaxScaler()</pre></div></div></div></div></div></div><div class=\"sk-parallel-item\"><div class=\"sk-item\"><div class=\"sk-label-container\"><div class=\"sk-label sk-toggleable\"><input class=\"sk-toggleable__control sk-hidden--visually\" id=\"4df8563b-f6bf-43c1-84bb-419067532402\" type=\"checkbox\" ><label class=\"sk-toggleable__label\" for=\"4df8563b-f6bf-43c1-84bb-419067532402\">cyclicalencoder</label><div class=\"sk-toggleable__content\"><pre>['month']</pre></div></div></div><div class=\"sk-serial\"><div class=\"sk-item\"><div class=\"sk-estimator sk-toggleable\"><input class=\"sk-toggleable__control sk-hidden--visually\" id=\"3bc63a98-27a2-4376-89e1-52d60a2c3c10\" type=\"checkbox\" ><label class=\"sk-toggleable__label\" for=\"3bc63a98-27a2-4376-89e1-52d60a2c3c10\">CyclicalEncoder</label><div class=\"sk-toggleable__content\"><pre>CyclicalEncoder()</pre></div></div></div></div></div></div></div></div></div></div></div></div></div></div></div><div class=\"sk-item\"><div class=\"sk-estimator sk-toggleable\"><input class=\"sk-toggleable__control sk-hidden--visually\" id=\"305fb019-4dd2-442a-b07d-4e1340e42717\" type=\"checkbox\" ><label class=\"sk-toggleable__label\" for=\"305fb019-4dd2-442a-b07d-4e1340e42717\">PCA</label><div class=\"sk-toggleable__content\"><pre>PCA(n_components=12)</pre></div></div></div></div></div><div class=\"sk-item\"><div class=\"sk-estimator sk-toggleable\"><input class=\"sk-toggleable__control sk-hidden--visually\" id=\"63e3847e-3127-46bd-a931-5571e164d543\" type=\"checkbox\" ><label class=\"sk-toggleable__label\" for=\"63e3847e-3127-46bd-a931-5571e164d543\">RandomForestClassifier</label><div class=\"sk-toggleable__content\"><pre>RandomForestClassifier()</pre></div></div></div></div></div></div></div>"
      ],
      "text/plain": [
       "Pipeline(steps=[('pipeline',\n",
       "                 Pipeline(steps=[('columntransformer',\n",
       "                                  ColumnTransformer(transformers=[('pipeline-1',\n",
       "                                                                   Pipeline(steps=[('simpleimputer',\n",
       "                                                                                    SimpleImputer()),\n",
       "                                                                                   ('minmaxscaler',\n",
       "                                                                                    MinMaxScaler())]),\n",
       "                                                                   ['measure_index',\n",
       "                                                                    'measure_moisture',\n",
       "                                                                    'measure_temperature',\n",
       "                                                                    'measure_chemicals',\n",
       "                                                                    'measure_biodiversity']),\n",
       "                                                                  ('onehotencoder',\n",
       "                                                                   OneHotEncoder(handle_unknown='ignor...\n",
       "                                                                  ('pipeline-2',\n",
       "                                                                   Pipeline(steps=[('timefeatureextractor',\n",
       "                                                                                    TimeFeatureExtractor()),\n",
       "                                                                                   ('columntransformer',\n",
       "                                                                                    ColumnTransformer(transformers=[('minmaxscaler',\n",
       "                                                                                                                     MinMaxScaler(),\n",
       "                                                                                                                     ['duration']),\n",
       "                                                                                                                    ('cyclicalencoder',\n",
       "                                                                                                                     CyclicalEncoder(),\n",
       "                                                                                                                     ['month'])]))]),\n",
       "                                                                   ['datetime_start',\n",
       "                                                                    'datetime_end'])])),\n",
       "                                 ('pca', PCA(n_components=12))])),\n",
       "                ('randomforestclassifier', RandomForestClassifier())])"
      ]
     },
     "execution_count": 370,
     "metadata": {},
     "output_type": "execute_result"
    }
   ],
   "source": [
    "# YOUR CODE HERE\n",
    "pipeline_ensemble = make_pipeline(\n",
    "    preprocessing_advanced,\n",
    "    RandomForestClassifier()\n",
    ")\n",
    "pipeline_ensemble"
   ]
  },
  {
   "cell_type": "code",
   "execution_count": 371,
   "metadata": {
    "ExecuteTime": {
     "end_time": "2021-09-29T14:15:32.743565Z",
     "start_time": "2021-09-29T14:15:28.134978Z"
    }
   },
   "outputs": [],
   "source": [
    "scores_ensemble = cross_val_score(pipeline_ensemble, X, y, scoring='recall', cv=5, n_jobs=-1)"
   ]
  },
  {
   "cell_type": "code",
   "execution_count": 372,
   "metadata": {
    "ExecuteTime": {
     "end_time": "2021-09-29T14:15:32.765060Z",
     "start_time": "2021-09-29T14:15:32.746766Z"
    }
   },
   "outputs": [
    {
     "name": "stdout",
     "output_type": "stream",
     "text": [
      "[0.96092796 0.96336996 0.96821516 0.96821516 0.96943765]\n"
     ]
    },
    {
     "data": {
      "text/plain": [
       "0.9660331789916142"
      ]
     },
     "execution_count": 372,
     "metadata": {},
     "output_type": "execute_result"
    }
   ],
   "source": [
    "print(scores_ensemble)\n",
    "scores_ensemble.mean()"
   ]
  },
  {
   "cell_type": "markdown",
   "metadata": {},
   "source": [
    "**❓ Does this non-linear model satisfy the goal of the study?**"
   ]
  },
  {
   "cell_type": "markdown",
   "metadata": {
    "tags": [
     "challengify"
    ]
   },
   "source": [
    "Yes. Each recall value in the cross validation is above 90%"
   ]
  },
  {
   "cell_type": "markdown",
   "metadata": {},
   "source": [
    "💡 Wait, did our feature engineering helps us ❓"
   ]
  },
  {
   "cell_type": "markdown",
   "metadata": {},
   "source": [
    "**📝 Build a pipeline that uses `preprocessing_basic` and the same Ensemble model as above.**"
   ]
  },
  {
   "cell_type": "code",
   "execution_count": 373,
   "metadata": {
    "ExecuteTime": {
     "end_time": "2021-09-29T14:15:44.651190Z",
     "start_time": "2021-09-29T14:15:44.509973Z"
    },
    "tags": [
     "challengify"
    ]
   },
   "outputs": [
    {
     "data": {
      "text/html": [
       "<style>#sk-1ed8579b-c9a4-4efb-92e0-dc721ee638a6 {color: black;background-color: white;}#sk-1ed8579b-c9a4-4efb-92e0-dc721ee638a6 pre{padding: 0;}#sk-1ed8579b-c9a4-4efb-92e0-dc721ee638a6 div.sk-toggleable {background-color: white;}#sk-1ed8579b-c9a4-4efb-92e0-dc721ee638a6 label.sk-toggleable__label {cursor: pointer;display: block;width: 100%;margin-bottom: 0;padding: 0.2em 0.3em;box-sizing: border-box;text-align: center;}#sk-1ed8579b-c9a4-4efb-92e0-dc721ee638a6 div.sk-toggleable__content {max-height: 0;max-width: 0;overflow: hidden;text-align: left;background-color: #f0f8ff;}#sk-1ed8579b-c9a4-4efb-92e0-dc721ee638a6 div.sk-toggleable__content pre {margin: 0.2em;color: black;border-radius: 0.25em;background-color: #f0f8ff;}#sk-1ed8579b-c9a4-4efb-92e0-dc721ee638a6 input.sk-toggleable__control:checked~div.sk-toggleable__content {max-height: 200px;max-width: 100%;overflow: auto;}#sk-1ed8579b-c9a4-4efb-92e0-dc721ee638a6 div.sk-estimator input.sk-toggleable__control:checked~label.sk-toggleable__label {background-color: #d4ebff;}#sk-1ed8579b-c9a4-4efb-92e0-dc721ee638a6 div.sk-label input.sk-toggleable__control:checked~label.sk-toggleable__label {background-color: #d4ebff;}#sk-1ed8579b-c9a4-4efb-92e0-dc721ee638a6 input.sk-hidden--visually {border: 0;clip: rect(1px 1px 1px 1px);clip: rect(1px, 1px, 1px, 1px);height: 1px;margin: -1px;overflow: hidden;padding: 0;position: absolute;width: 1px;}#sk-1ed8579b-c9a4-4efb-92e0-dc721ee638a6 div.sk-estimator {font-family: monospace;background-color: #f0f8ff;margin: 0.25em 0.25em;border: 1px dotted black;border-radius: 0.25em;box-sizing: border-box;}#sk-1ed8579b-c9a4-4efb-92e0-dc721ee638a6 div.sk-estimator:hover {background-color: #d4ebff;}#sk-1ed8579b-c9a4-4efb-92e0-dc721ee638a6 div.sk-parallel-item::after {content: \"\";width: 100%;border-bottom: 1px solid gray;flex-grow: 1;}#sk-1ed8579b-c9a4-4efb-92e0-dc721ee638a6 div.sk-label:hover label.sk-toggleable__label {background-color: #d4ebff;}#sk-1ed8579b-c9a4-4efb-92e0-dc721ee638a6 div.sk-serial::before {content: \"\";position: absolute;border-left: 1px solid gray;box-sizing: border-box;top: 2em;bottom: 0;left: 50%;}#sk-1ed8579b-c9a4-4efb-92e0-dc721ee638a6 div.sk-serial {display: flex;flex-direction: column;align-items: center;background-color: white;}#sk-1ed8579b-c9a4-4efb-92e0-dc721ee638a6 div.sk-item {z-index: 1;}#sk-1ed8579b-c9a4-4efb-92e0-dc721ee638a6 div.sk-parallel {display: flex;align-items: stretch;justify-content: center;background-color: white;}#sk-1ed8579b-c9a4-4efb-92e0-dc721ee638a6 div.sk-parallel-item {display: flex;flex-direction: column;position: relative;background-color: white;}#sk-1ed8579b-c9a4-4efb-92e0-dc721ee638a6 div.sk-parallel-item:first-child::after {align-self: flex-end;width: 50%;}#sk-1ed8579b-c9a4-4efb-92e0-dc721ee638a6 div.sk-parallel-item:last-child::after {align-self: flex-start;width: 50%;}#sk-1ed8579b-c9a4-4efb-92e0-dc721ee638a6 div.sk-parallel-item:only-child::after {width: 0;}#sk-1ed8579b-c9a4-4efb-92e0-dc721ee638a6 div.sk-dashed-wrapped {border: 1px dashed gray;margin: 0.2em;box-sizing: border-box;padding-bottom: 0.1em;background-color: white;position: relative;}#sk-1ed8579b-c9a4-4efb-92e0-dc721ee638a6 div.sk-label label {font-family: monospace;font-weight: bold;background-color: white;display: inline-block;line-height: 1.2em;}#sk-1ed8579b-c9a4-4efb-92e0-dc721ee638a6 div.sk-label-container {position: relative;z-index: 2;text-align: center;}#sk-1ed8579b-c9a4-4efb-92e0-dc721ee638a6 div.sk-container {display: inline-block;position: relative;}</style><div id=\"sk-1ed8579b-c9a4-4efb-92e0-dc721ee638a6\" class\"sk-top-container\"><div class=\"sk-container\"><div class=\"sk-item sk-dashed-wrapped\"><div class=\"sk-label-container\"><div class=\"sk-label sk-toggleable\"><input class=\"sk-toggleable__control sk-hidden--visually\" id=\"301a8c76-d84f-4220-b973-25be3b9a13c8\" type=\"checkbox\" ><label class=\"sk-toggleable__label\" for=\"301a8c76-d84f-4220-b973-25be3b9a13c8\">Pipeline</label><div class=\"sk-toggleable__content\"><pre>Pipeline(steps=[('columntransformer',\n",
       "                 ColumnTransformer(transformers=[('onehotencoder',\n",
       "                                                  OneHotEncoder(handle_unknown='ignore',\n",
       "                                                                sparse=False),\n",
       "                                                  ['main_element',\n",
       "                                                   'soil_condition']),\n",
       "                                                 ('pipeline',\n",
       "                                                  Pipeline(steps=[('simpleimputer',\n",
       "                                                                   SimpleImputer()),\n",
       "                                                                  ('minmaxscaler',\n",
       "                                                                   MinMaxScaler())]),\n",
       "                                                  ['measure_index',\n",
       "                                                   'measure_moisture',\n",
       "                                                   'measure_temperature',\n",
       "                                                   'measure_chemicals',\n",
       "                                                   'measure_biodiversity'])])),\n",
       "                ('randomforestclassifier', RandomForestClassifier())])</pre></div></div></div><div class=\"sk-serial\"><div class=\"sk-item sk-dashed-wrapped\"><div class=\"sk-label-container\"><div class=\"sk-label sk-toggleable\"><input class=\"sk-toggleable__control sk-hidden--visually\" id=\"86afe9fb-271c-4761-81df-f845b5fbbb37\" type=\"checkbox\" ><label class=\"sk-toggleable__label\" for=\"86afe9fb-271c-4761-81df-f845b5fbbb37\">columntransformer: ColumnTransformer</label><div class=\"sk-toggleable__content\"><pre>ColumnTransformer(transformers=[('onehotencoder',\n",
       "                                 OneHotEncoder(handle_unknown='ignore',\n",
       "                                               sparse=False),\n",
       "                                 ['main_element', 'soil_condition']),\n",
       "                                ('pipeline',\n",
       "                                 Pipeline(steps=[('simpleimputer',\n",
       "                                                  SimpleImputer()),\n",
       "                                                 ('minmaxscaler',\n",
       "                                                  MinMaxScaler())]),\n",
       "                                 ['measure_index', 'measure_moisture',\n",
       "                                  'measure_temperature', 'measure_chemicals',\n",
       "                                  'measure_biodiversity'])])</pre></div></div></div><div class=\"sk-parallel\"><div class=\"sk-parallel-item\"><div class=\"sk-item\"><div class=\"sk-label-container\"><div class=\"sk-label sk-toggleable\"><input class=\"sk-toggleable__control sk-hidden--visually\" id=\"cb38c5ce-ca1e-44fd-9bae-cbdec0015c6f\" type=\"checkbox\" ><label class=\"sk-toggleable__label\" for=\"cb38c5ce-ca1e-44fd-9bae-cbdec0015c6f\">onehotencoder</label><div class=\"sk-toggleable__content\"><pre>['main_element', 'soil_condition']</pre></div></div></div><div class=\"sk-serial\"><div class=\"sk-item\"><div class=\"sk-estimator sk-toggleable\"><input class=\"sk-toggleable__control sk-hidden--visually\" id=\"b1547dc6-79a5-4a43-a42b-a25ecf2e8b1e\" type=\"checkbox\" ><label class=\"sk-toggleable__label\" for=\"b1547dc6-79a5-4a43-a42b-a25ecf2e8b1e\">OneHotEncoder</label><div class=\"sk-toggleable__content\"><pre>OneHotEncoder(handle_unknown='ignore', sparse=False)</pre></div></div></div></div></div></div><div class=\"sk-parallel-item\"><div class=\"sk-item\"><div class=\"sk-label-container\"><div class=\"sk-label sk-toggleable\"><input class=\"sk-toggleable__control sk-hidden--visually\" id=\"cd337316-040f-4c88-be05-c8545ca2e1d6\" type=\"checkbox\" ><label class=\"sk-toggleable__label\" for=\"cd337316-040f-4c88-be05-c8545ca2e1d6\">pipeline</label><div class=\"sk-toggleable__content\"><pre>['measure_index', 'measure_moisture', 'measure_temperature', 'measure_chemicals', 'measure_biodiversity']</pre></div></div></div><div class=\"sk-serial\"><div class=\"sk-item\"><div class=\"sk-serial\"><div class=\"sk-item\"><div class=\"sk-estimator sk-toggleable\"><input class=\"sk-toggleable__control sk-hidden--visually\" id=\"6340f1b8-fb9c-4b30-83b5-a1ce8c61c198\" type=\"checkbox\" ><label class=\"sk-toggleable__label\" for=\"6340f1b8-fb9c-4b30-83b5-a1ce8c61c198\">SimpleImputer</label><div class=\"sk-toggleable__content\"><pre>SimpleImputer()</pre></div></div></div><div class=\"sk-item\"><div class=\"sk-estimator sk-toggleable\"><input class=\"sk-toggleable__control sk-hidden--visually\" id=\"4c45d8a3-dd4f-490f-aa8f-fdeeffc2e90e\" type=\"checkbox\" ><label class=\"sk-toggleable__label\" for=\"4c45d8a3-dd4f-490f-aa8f-fdeeffc2e90e\">MinMaxScaler</label><div class=\"sk-toggleable__content\"><pre>MinMaxScaler()</pre></div></div></div></div></div></div></div></div></div></div><div class=\"sk-item\"><div class=\"sk-estimator sk-toggleable\"><input class=\"sk-toggleable__control sk-hidden--visually\" id=\"00fdb35b-ba6f-4000-9ae5-6a513076c9f1\" type=\"checkbox\" ><label class=\"sk-toggleable__label\" for=\"00fdb35b-ba6f-4000-9ae5-6a513076c9f1\">RandomForestClassifier</label><div class=\"sk-toggleable__content\"><pre>RandomForestClassifier()</pre></div></div></div></div></div></div></div>"
      ],
      "text/plain": [
       "Pipeline(steps=[('columntransformer',\n",
       "                 ColumnTransformer(transformers=[('onehotencoder',\n",
       "                                                  OneHotEncoder(handle_unknown='ignore',\n",
       "                                                                sparse=False),\n",
       "                                                  ['main_element',\n",
       "                                                   'soil_condition']),\n",
       "                                                 ('pipeline',\n",
       "                                                  Pipeline(steps=[('simpleimputer',\n",
       "                                                                   SimpleImputer()),\n",
       "                                                                  ('minmaxscaler',\n",
       "                                                                   MinMaxScaler())]),\n",
       "                                                  ['measure_index',\n",
       "                                                   'measure_moisture',\n",
       "                                                   'measure_temperature',\n",
       "                                                   'measure_chemicals',\n",
       "                                                   'measure_biodiversity'])])),\n",
       "                ('randomforestclassifier', RandomForestClassifier())])"
      ]
     },
     "execution_count": 373,
     "metadata": {},
     "output_type": "execute_result"
    }
   ],
   "source": [
    "basic_rf_pipeline = make_pipeline(\n",
    "    preprocessing_basic,\n",
    "    RandomForestClassifier()\n",
    ")\n",
    "basic_rf_pipeline"
   ]
  },
  {
   "cell_type": "code",
   "execution_count": 374,
   "metadata": {
    "ExecuteTime": {
     "end_time": "2021-09-29T14:15:49.775981Z",
     "start_time": "2021-09-29T14:15:45.300450Z"
    }
   },
   "outputs": [
    {
     "data": {
      "text/plain": [
       "array([0.76312576, 0.77045177, 0.75794621, 0.73594132, 0.74572127])"
      ]
     },
     "execution_count": 374,
     "metadata": {},
     "output_type": "execute_result"
    }
   ],
   "source": [
    "simple_rf_scores = cross_val_score(basic_rf_pipeline, X, y, scoring='recall', cv=5, n_jobs=-1)\n",
    "simple_rf_scores"
   ]
  },
  {
   "cell_type": "markdown",
   "metadata": {},
   "source": [
    "**❓ What is your conclusion?**"
   ]
  },
  {
   "cell_type": "markdown",
   "metadata": {
    "tags": [
     "challengify"
    ]
   },
   "source": [
    "Thee feature engineering was worth the effort. It allowed to increase notably the recall from 75% to above 95%"
   ]
  },
  {
   "cell_type": "markdown",
   "metadata": {},
   "source": [
    "### 💾 Save your results\n",
    "\n",
    "Run the cell below to save your results."
   ]
  },
  {
   "cell_type": "code",
   "execution_count": 376,
   "metadata": {
    "ExecuteTime": {
     "end_time": "2021-09-29T14:16:00.509392Z",
     "start_time": "2021-09-29T14:15:58.813264Z"
    }
   },
   "outputs": [],
   "source": [
    "from nbresult import ChallengeResult\n",
    "from sklearn.model_selection import train_test_split\n",
    "X_,X_val,y_,y_val=train_test_split(X,y,test_size=0.3,random_state=7)\n",
    "pipeline_ensemble.fit(X_,y_)\n",
    "y_pred=pipeline_ensemble.predict(X_val)\n",
    "\n",
    "results=ChallengeResult(\n",
    "    'ensemble',\n",
    "    steps=str(pipeline_ensemble.steps),\n",
    "    scores=scores_ensemble,\n",
    "    y=y_val,\n",
    "    y_pred=y_pred\n",
    ")\n",
    "results.write()"
   ]
  },
  {
   "cell_type": "markdown",
   "metadata": {},
   "source": [
    "## Fine-Tuning"
   ]
  },
  {
   "cell_type": "markdown",
   "metadata": {},
   "source": [
    "💡 To improve the model as much as we can, it's time to grid search for optimal hyperparameters"
   ]
  },
  {
   "cell_type": "markdown",
   "metadata": {},
   "source": [
    "**📝 Look at the hyperparameters of your estimator**"
   ]
  },
  {
   "cell_type": "code",
   "execution_count": 258,
   "metadata": {
    "ExecuteTime": {
     "end_time": "2021-09-29T13:28:04.469341Z",
     "start_time": "2021-09-29T13:28:04.206733Z"
    },
    "tags": [
     "challengify"
    ]
   },
   "outputs": [
    {
     "data": {
      "text/plain": [
       "{'memory': None,\n",
       " 'steps': [('pipeline', Pipeline(steps=[('columntransformer',\n",
       "                    ColumnTransformer(transformers=[('pipeline-1',\n",
       "                                                     Pipeline(steps=[('simpleimputer',\n",
       "                                                                      SimpleImputer()),\n",
       "                                                                     ('minmaxscaler',\n",
       "                                                                      MinMaxScaler())]),\n",
       "                                                     ['measure_index',\n",
       "                                                      'measure_moisture',\n",
       "                                                      'measure_temperature',\n",
       "                                                      'measure_chemicals',\n",
       "                                                      'measure_biodiversity']),\n",
       "                                                    ('onehotencoder',\n",
       "                                                     OneHotEncoder(handle_unknown='ignore',\n",
       "                                                                   sparse=False),\n",
       "                                                     ['main_elem...\n",
       "                                                                    handle_unknown='use_encoded_value',\n",
       "                                                                    unknown_value=-1),\n",
       "                                                     ['soil_condition']),\n",
       "                                                    ('pipeline-2',\n",
       "                                                     Pipeline(steps=[('timefeatureextractor',\n",
       "                                                                      TimeFeatureExtractor()),\n",
       "                                                                     ('columntransformer',\n",
       "                                                                      ColumnTransformer(transformers=[('minmaxscaler',\n",
       "                                                                                                       MinMaxScaler(),\n",
       "                                                                                                       ['duration']),\n",
       "                                                                                                      ('cyclicalencoder',\n",
       "                                                                                                       CyclicalEncoder(),\n",
       "                                                                                                       ['month'])]))]),\n",
       "                                                     ['datetime_start',\n",
       "                                                      'datetime_end'])])),\n",
       "                   ('pca', PCA(n_components=12))])),\n",
       "  ('randomforestclassifier', RandomForestClassifier())],\n",
       " 'verbose': False,\n",
       " 'pipeline': Pipeline(steps=[('columntransformer',\n",
       "                  ColumnTransformer(transformers=[('pipeline-1',\n",
       "                                                   Pipeline(steps=[('simpleimputer',\n",
       "                                                                    SimpleImputer()),\n",
       "                                                                   ('minmaxscaler',\n",
       "                                                                    MinMaxScaler())]),\n",
       "                                                   ['measure_index',\n",
       "                                                    'measure_moisture',\n",
       "                                                    'measure_temperature',\n",
       "                                                    'measure_chemicals',\n",
       "                                                    'measure_biodiversity']),\n",
       "                                                  ('onehotencoder',\n",
       "                                                   OneHotEncoder(handle_unknown='ignore',\n",
       "                                                                 sparse=False),\n",
       "                                                   ['main_elem...\n",
       "                                                                  handle_unknown='use_encoded_value',\n",
       "                                                                  unknown_value=-1),\n",
       "                                                   ['soil_condition']),\n",
       "                                                  ('pipeline-2',\n",
       "                                                   Pipeline(steps=[('timefeatureextractor',\n",
       "                                                                    TimeFeatureExtractor()),\n",
       "                                                                   ('columntransformer',\n",
       "                                                                    ColumnTransformer(transformers=[('minmaxscaler',\n",
       "                                                                                                     MinMaxScaler(),\n",
       "                                                                                                     ['duration']),\n",
       "                                                                                                    ('cyclicalencoder',\n",
       "                                                                                                     CyclicalEncoder(),\n",
       "                                                                                                     ['month'])]))]),\n",
       "                                                   ['datetime_start',\n",
       "                                                    'datetime_end'])])),\n",
       "                 ('pca', PCA(n_components=12))]),\n",
       " 'randomforestclassifier': RandomForestClassifier(),\n",
       " 'pipeline__memory': None,\n",
       " 'pipeline__steps': [('columntransformer',\n",
       "   ColumnTransformer(transformers=[('pipeline-1',\n",
       "                                    Pipeline(steps=[('simpleimputer',\n",
       "                                                     SimpleImputer()),\n",
       "                                                    ('minmaxscaler',\n",
       "                                                     MinMaxScaler())]),\n",
       "                                    ['measure_index', 'measure_moisture',\n",
       "                                     'measure_temperature', 'measure_chemicals',\n",
       "                                     'measure_biodiversity']),\n",
       "                                   ('onehotencoder',\n",
       "                                    OneHotEncoder(handle_unknown='ignore',\n",
       "                                                  sparse=False),\n",
       "                                    ['main_element']),\n",
       "                                   ('ordinalencoder',\n",
       "                                    OrdinalEncod...l',\n",
       "                                                                'rich']],\n",
       "                                                   handle_unknown='use_encoded_value',\n",
       "                                                   unknown_value=-1),\n",
       "                                    ['soil_condition']),\n",
       "                                   ('pipeline-2',\n",
       "                                    Pipeline(steps=[('timefeatureextractor',\n",
       "                                                     TimeFeatureExtractor()),\n",
       "                                                    ('columntransformer',\n",
       "                                                     ColumnTransformer(transformers=[('minmaxscaler',\n",
       "                                                                                      MinMaxScaler(),\n",
       "                                                                                      ['duration']),\n",
       "                                                                                     ('cyclicalencoder',\n",
       "                                                                                      CyclicalEncoder(),\n",
       "                                                                                      ['month'])]))]),\n",
       "                                    ['datetime_start', 'datetime_end'])])),\n",
       "  ('pca', PCA(n_components=12))],\n",
       " 'pipeline__verbose': False,\n",
       " 'pipeline__columntransformer': ColumnTransformer(transformers=[('pipeline-1',\n",
       "                                  Pipeline(steps=[('simpleimputer',\n",
       "                                                   SimpleImputer()),\n",
       "                                                  ('minmaxscaler',\n",
       "                                                   MinMaxScaler())]),\n",
       "                                  ['measure_index', 'measure_moisture',\n",
       "                                   'measure_temperature', 'measure_chemicals',\n",
       "                                   'measure_biodiversity']),\n",
       "                                 ('onehotencoder',\n",
       "                                  OneHotEncoder(handle_unknown='ignore',\n",
       "                                                sparse=False),\n",
       "                                  ['main_element']),\n",
       "                                 ('ordinalencoder',\n",
       "                                  OrdinalEncod...l',\n",
       "                                                              'rich']],\n",
       "                                                 handle_unknown='use_encoded_value',\n",
       "                                                 unknown_value=-1),\n",
       "                                  ['soil_condition']),\n",
       "                                 ('pipeline-2',\n",
       "                                  Pipeline(steps=[('timefeatureextractor',\n",
       "                                                   TimeFeatureExtractor()),\n",
       "                                                  ('columntransformer',\n",
       "                                                   ColumnTransformer(transformers=[('minmaxscaler',\n",
       "                                                                                    MinMaxScaler(),\n",
       "                                                                                    ['duration']),\n",
       "                                                                                   ('cyclicalencoder',\n",
       "                                                                                    CyclicalEncoder(),\n",
       "                                                                                    ['month'])]))]),\n",
       "                                  ['datetime_start', 'datetime_end'])]),\n",
       " 'pipeline__pca': PCA(n_components=12),\n",
       " 'pipeline__columntransformer__n_jobs': None,\n",
       " 'pipeline__columntransformer__remainder': 'drop',\n",
       " 'pipeline__columntransformer__sparse_threshold': 0.3,\n",
       " 'pipeline__columntransformer__transformer_weights': None,\n",
       " 'pipeline__columntransformer__transformers': [('pipeline-1',\n",
       "   Pipeline(steps=[('simpleimputer', SimpleImputer()),\n",
       "                   ('minmaxscaler', MinMaxScaler())]),\n",
       "   ['measure_index',\n",
       "    'measure_moisture',\n",
       "    'measure_temperature',\n",
       "    'measure_chemicals',\n",
       "    'measure_biodiversity']),\n",
       "  ('onehotencoder',\n",
       "   OneHotEncoder(handle_unknown='ignore', sparse=False),\n",
       "   ['main_element']),\n",
       "  ('ordinalencoder',\n",
       "   OrdinalEncoder(categories=[['poor', 'normal', 'rich']],\n",
       "                  handle_unknown='use_encoded_value', unknown_value=-1),\n",
       "   ['soil_condition']),\n",
       "  ('pipeline-2',\n",
       "   Pipeline(steps=[('timefeatureextractor', TimeFeatureExtractor()),\n",
       "                   ('columntransformer',\n",
       "                    ColumnTransformer(transformers=[('minmaxscaler',\n",
       "                                                     MinMaxScaler(),\n",
       "                                                     ['duration']),\n",
       "                                                    ('cyclicalencoder',\n",
       "                                                     CyclicalEncoder(),\n",
       "                                                     ['month'])]))]),\n",
       "   ['datetime_start', 'datetime_end'])],\n",
       " 'pipeline__columntransformer__verbose': False,\n",
       " 'pipeline__columntransformer__pipeline-1': Pipeline(steps=[('simpleimputer', SimpleImputer()),\n",
       "                 ('minmaxscaler', MinMaxScaler())]),\n",
       " 'pipeline__columntransformer__onehotencoder': OneHotEncoder(handle_unknown='ignore', sparse=False),\n",
       " 'pipeline__columntransformer__ordinalencoder': OrdinalEncoder(categories=[['poor', 'normal', 'rich']],\n",
       "                handle_unknown='use_encoded_value', unknown_value=-1),\n",
       " 'pipeline__columntransformer__pipeline-2': Pipeline(steps=[('timefeatureextractor', TimeFeatureExtractor()),\n",
       "                 ('columntransformer',\n",
       "                  ColumnTransformer(transformers=[('minmaxscaler',\n",
       "                                                   MinMaxScaler(),\n",
       "                                                   ['duration']),\n",
       "                                                  ('cyclicalencoder',\n",
       "                                                   CyclicalEncoder(),\n",
       "                                                   ['month'])]))]),\n",
       " 'pipeline__columntransformer__pipeline-1__memory': None,\n",
       " 'pipeline__columntransformer__pipeline-1__steps': [('simpleimputer',\n",
       "   SimpleImputer()),\n",
       "  ('minmaxscaler', MinMaxScaler())],\n",
       " 'pipeline__columntransformer__pipeline-1__verbose': False,\n",
       " 'pipeline__columntransformer__pipeline-1__simpleimputer': SimpleImputer(),\n",
       " 'pipeline__columntransformer__pipeline-1__minmaxscaler': MinMaxScaler(),\n",
       " 'pipeline__columntransformer__pipeline-1__simpleimputer__add_indicator': False,\n",
       " 'pipeline__columntransformer__pipeline-1__simpleimputer__copy': True,\n",
       " 'pipeline__columntransformer__pipeline-1__simpleimputer__fill_value': None,\n",
       " 'pipeline__columntransformer__pipeline-1__simpleimputer__missing_values': nan,\n",
       " 'pipeline__columntransformer__pipeline-1__simpleimputer__strategy': 'mean',\n",
       " 'pipeline__columntransformer__pipeline-1__simpleimputer__verbose': 0,\n",
       " 'pipeline__columntransformer__pipeline-1__minmaxscaler__clip': False,\n",
       " 'pipeline__columntransformer__pipeline-1__minmaxscaler__copy': True,\n",
       " 'pipeline__columntransformer__pipeline-1__minmaxscaler__feature_range': (0,\n",
       "  1),\n",
       " 'pipeline__columntransformer__onehotencoder__categories': 'auto',\n",
       " 'pipeline__columntransformer__onehotencoder__drop': None,\n",
       " 'pipeline__columntransformer__onehotencoder__dtype': numpy.float64,\n",
       " 'pipeline__columntransformer__onehotencoder__handle_unknown': 'ignore',\n",
       " 'pipeline__columntransformer__onehotencoder__sparse': False,\n",
       " 'pipeline__columntransformer__ordinalencoder__categories': [['poor',\n",
       "   'normal',\n",
       "   'rich']],\n",
       " 'pipeline__columntransformer__ordinalencoder__dtype': numpy.float64,\n",
       " 'pipeline__columntransformer__ordinalencoder__handle_unknown': 'use_encoded_value',\n",
       " 'pipeline__columntransformer__ordinalencoder__unknown_value': -1,\n",
       " 'pipeline__columntransformer__pipeline-2__memory': None,\n",
       " 'pipeline__columntransformer__pipeline-2__steps': [('timefeatureextractor',\n",
       "   TimeFeatureExtractor()),\n",
       "  ('columntransformer',\n",
       "   ColumnTransformer(transformers=[('minmaxscaler', MinMaxScaler(), ['duration']),\n",
       "                                   ('cyclicalencoder', CyclicalEncoder(),\n",
       "                                    ['month'])]))],\n",
       " 'pipeline__columntransformer__pipeline-2__verbose': False,\n",
       " 'pipeline__columntransformer__pipeline-2__timefeatureextractor': TimeFeatureExtractor(),\n",
       " 'pipeline__columntransformer__pipeline-2__columntransformer': ColumnTransformer(transformers=[('minmaxscaler', MinMaxScaler(), ['duration']),\n",
       "                                 ('cyclicalencoder', CyclicalEncoder(),\n",
       "                                  ['month'])]),\n",
       " 'pipeline__columntransformer__pipeline-2__columntransformer__n_jobs': None,\n",
       " 'pipeline__columntransformer__pipeline-2__columntransformer__remainder': 'drop',\n",
       " 'pipeline__columntransformer__pipeline-2__columntransformer__sparse_threshold': 0.3,\n",
       " 'pipeline__columntransformer__pipeline-2__columntransformer__transformer_weights': None,\n",
       " 'pipeline__columntransformer__pipeline-2__columntransformer__transformers': [('minmaxscaler',\n",
       "   MinMaxScaler(),\n",
       "   ['duration']),\n",
       "  ('cyclicalencoder', CyclicalEncoder(), ['month'])],\n",
       " 'pipeline__columntransformer__pipeline-2__columntransformer__verbose': False,\n",
       " 'pipeline__columntransformer__pipeline-2__columntransformer__minmaxscaler': MinMaxScaler(),\n",
       " 'pipeline__columntransformer__pipeline-2__columntransformer__cyclicalencoder': CyclicalEncoder(),\n",
       " 'pipeline__columntransformer__pipeline-2__columntransformer__minmaxscaler__clip': False,\n",
       " 'pipeline__columntransformer__pipeline-2__columntransformer__minmaxscaler__copy': True,\n",
       " 'pipeline__columntransformer__pipeline-2__columntransformer__minmaxscaler__feature_range': (0,\n",
       "  1),\n",
       " 'pipeline__pca__copy': True,\n",
       " 'pipeline__pca__iterated_power': 'auto',\n",
       " 'pipeline__pca__n_components': 12,\n",
       " 'pipeline__pca__random_state': None,\n",
       " 'pipeline__pca__svd_solver': 'auto',\n",
       " 'pipeline__pca__tol': 0.0,\n",
       " 'pipeline__pca__whiten': False,\n",
       " 'randomforestclassifier__bootstrap': True,\n",
       " 'randomforestclassifier__ccp_alpha': 0.0,\n",
       " 'randomforestclassifier__class_weight': None,\n",
       " 'randomforestclassifier__criterion': 'gini',\n",
       " 'randomforestclassifier__max_depth': None,\n",
       " 'randomforestclassifier__max_features': 'auto',\n",
       " 'randomforestclassifier__max_leaf_nodes': None,\n",
       " 'randomforestclassifier__max_samples': None,\n",
       " 'randomforestclassifier__min_impurity_decrease': 0.0,\n",
       " 'randomforestclassifier__min_impurity_split': None,\n",
       " 'randomforestclassifier__min_samples_leaf': 1,\n",
       " 'randomforestclassifier__min_samples_split': 2,\n",
       " 'randomforestclassifier__min_weight_fraction_leaf': 0.0,\n",
       " 'randomforestclassifier__n_estimators': 100,\n",
       " 'randomforestclassifier__n_jobs': None,\n",
       " 'randomforestclassifier__oob_score': False,\n",
       " 'randomforestclassifier__random_state': None,\n",
       " 'randomforestclassifier__verbose': 0,\n",
       " 'randomforestclassifier__warm_start': False}"
      ]
     },
     "execution_count": 258,
     "metadata": {},
     "output_type": "execute_result"
    }
   ],
   "source": [
    "# YOUR CODE HERE\n",
    "pipeline_ensemble.get_params()"
   ]
  },
  {
   "cell_type": "markdown",
   "metadata": {},
   "source": [
    "**📝 Try to fine tune some hyperparameters to improve your model!**"
   ]
  },
  {
   "cell_type": "code",
   "execution_count": 259,
   "metadata": {
    "ExecuteTime": {
     "end_time": "2021-09-29T13:37:46.546282Z",
     "start_time": "2021-09-29T13:37:46.523540Z"
    },
    "tags": [
     "challengify"
    ]
   },
   "outputs": [],
   "source": [
    "# YOUR CODE HERE\n",
    "params = {\n",
    "    'pipeline__columntransformer__pipeline-1__simpleimputer__strategy': ['mean', 'median', 'most_frequent'],\n",
    "    'randomforestclassifier__n_estimators': [100, 300, 500],\n",
    "    'randomforestclassifier__max_features': [4, 6, 8]\n",
    "}"
   ]
  },
  {
   "cell_type": "markdown",
   "metadata": {},
   "source": [
    "**📝 Store the _fitted_ grid search in the `search` variable:**"
   ]
  },
  {
   "cell_type": "code",
   "execution_count": null,
   "metadata": {
    "ExecuteTime": {
     "end_time": "2021-09-29T13:42:30.685031Z",
     "start_time": "2021-09-29T13:42:30.678007Z"
    },
    "tags": [
     "challengify"
    ]
   },
   "outputs": [],
   "source": [
    "# YOUR CODE HERE\n",
    "search = GridSearchCV(pipeline_ensemble, \n",
    "                      params, \n",
    "                      scoring='recall', cv=5, n_jobs=-1)"
   ]
  },
  {
   "cell_type": "code",
   "execution_count": 264,
   "metadata": {
    "ExecuteTime": {
     "end_time": "2021-09-29T13:53:36.146941Z",
     "start_time": "2021-09-29T13:42:53.316634Z"
    },
    "tags": [
     "challengify"
    ]
   },
   "outputs": [
    {
     "data": {
      "text/html": [
       "<style>#sk-2d03b3a9-9c50-47c1-80c6-41b9577b2cad {color: black;background-color: white;}#sk-2d03b3a9-9c50-47c1-80c6-41b9577b2cad pre{padding: 0;}#sk-2d03b3a9-9c50-47c1-80c6-41b9577b2cad div.sk-toggleable {background-color: white;}#sk-2d03b3a9-9c50-47c1-80c6-41b9577b2cad label.sk-toggleable__label {cursor: pointer;display: block;width: 100%;margin-bottom: 0;padding: 0.2em 0.3em;box-sizing: border-box;text-align: center;}#sk-2d03b3a9-9c50-47c1-80c6-41b9577b2cad div.sk-toggleable__content {max-height: 0;max-width: 0;overflow: hidden;text-align: left;background-color: #f0f8ff;}#sk-2d03b3a9-9c50-47c1-80c6-41b9577b2cad div.sk-toggleable__content pre {margin: 0.2em;color: black;border-radius: 0.25em;background-color: #f0f8ff;}#sk-2d03b3a9-9c50-47c1-80c6-41b9577b2cad input.sk-toggleable__control:checked~div.sk-toggleable__content {max-height: 200px;max-width: 100%;overflow: auto;}#sk-2d03b3a9-9c50-47c1-80c6-41b9577b2cad div.sk-estimator input.sk-toggleable__control:checked~label.sk-toggleable__label {background-color: #d4ebff;}#sk-2d03b3a9-9c50-47c1-80c6-41b9577b2cad div.sk-label input.sk-toggleable__control:checked~label.sk-toggleable__label {background-color: #d4ebff;}#sk-2d03b3a9-9c50-47c1-80c6-41b9577b2cad input.sk-hidden--visually {border: 0;clip: rect(1px 1px 1px 1px);clip: rect(1px, 1px, 1px, 1px);height: 1px;margin: -1px;overflow: hidden;padding: 0;position: absolute;width: 1px;}#sk-2d03b3a9-9c50-47c1-80c6-41b9577b2cad div.sk-estimator {font-family: monospace;background-color: #f0f8ff;margin: 0.25em 0.25em;border: 1px dotted black;border-radius: 0.25em;box-sizing: border-box;}#sk-2d03b3a9-9c50-47c1-80c6-41b9577b2cad div.sk-estimator:hover {background-color: #d4ebff;}#sk-2d03b3a9-9c50-47c1-80c6-41b9577b2cad div.sk-parallel-item::after {content: \"\";width: 100%;border-bottom: 1px solid gray;flex-grow: 1;}#sk-2d03b3a9-9c50-47c1-80c6-41b9577b2cad div.sk-label:hover label.sk-toggleable__label {background-color: #d4ebff;}#sk-2d03b3a9-9c50-47c1-80c6-41b9577b2cad div.sk-serial::before {content: \"\";position: absolute;border-left: 1px solid gray;box-sizing: border-box;top: 2em;bottom: 0;left: 50%;}#sk-2d03b3a9-9c50-47c1-80c6-41b9577b2cad div.sk-serial {display: flex;flex-direction: column;align-items: center;background-color: white;}#sk-2d03b3a9-9c50-47c1-80c6-41b9577b2cad div.sk-item {z-index: 1;}#sk-2d03b3a9-9c50-47c1-80c6-41b9577b2cad div.sk-parallel {display: flex;align-items: stretch;justify-content: center;background-color: white;}#sk-2d03b3a9-9c50-47c1-80c6-41b9577b2cad div.sk-parallel-item {display: flex;flex-direction: column;position: relative;background-color: white;}#sk-2d03b3a9-9c50-47c1-80c6-41b9577b2cad div.sk-parallel-item:first-child::after {align-self: flex-end;width: 50%;}#sk-2d03b3a9-9c50-47c1-80c6-41b9577b2cad div.sk-parallel-item:last-child::after {align-self: flex-start;width: 50%;}#sk-2d03b3a9-9c50-47c1-80c6-41b9577b2cad div.sk-parallel-item:only-child::after {width: 0;}#sk-2d03b3a9-9c50-47c1-80c6-41b9577b2cad div.sk-dashed-wrapped {border: 1px dashed gray;margin: 0.2em;box-sizing: border-box;padding-bottom: 0.1em;background-color: white;position: relative;}#sk-2d03b3a9-9c50-47c1-80c6-41b9577b2cad div.sk-label label {font-family: monospace;font-weight: bold;background-color: white;display: inline-block;line-height: 1.2em;}#sk-2d03b3a9-9c50-47c1-80c6-41b9577b2cad div.sk-label-container {position: relative;z-index: 2;text-align: center;}#sk-2d03b3a9-9c50-47c1-80c6-41b9577b2cad div.sk-container {display: inline-block;position: relative;}</style><div id=\"sk-2d03b3a9-9c50-47c1-80c6-41b9577b2cad\" class\"sk-top-container\"><div class=\"sk-container\"><div class=\"sk-item sk-dashed-wrapped\"><div class=\"sk-label-container\"><div class=\"sk-label sk-toggleable\"><input class=\"sk-toggleable__control sk-hidden--visually\" id=\"cb24d8be-5a38-4b80-a936-bf5ec2abec95\" type=\"checkbox\" ><label class=\"sk-toggleable__label\" for=\"cb24d8be-5a38-4b80-a936-bf5ec2abec95\">GridSearchCV</label><div class=\"sk-toggleable__content\"><pre>GridSearchCV(cv=5,\n",
       "             estimator=Pipeline(steps=[('pipeline',\n",
       "                                        Pipeline(steps=[('columntransformer',\n",
       "                                                         ColumnTransformer(transformers=[('pipeline-1',\n",
       "                                                                                          Pipeline(steps=[('simpleimputer',\n",
       "                                                                                                           SimpleImputer()),\n",
       "                                                                                                          ('minmaxscaler',\n",
       "                                                                                                           MinMaxScaler())]),\n",
       "                                                                                          ['measure_index',\n",
       "                                                                                           'measure_moisture',\n",
       "                                                                                           'measure_temperature',\n",
       "                                                                                           'measure_chemicals',\n",
       "                                                                                           'measure_biodiversity']),\n",
       "                                                                                         ('onehotencoder',\n",
       "                                                                                          OneHotE...\n",
       "                                                                                          ['datetime_start',\n",
       "                                                                                           'datetime_end'])])),\n",
       "                                                        ('pca',\n",
       "                                                         PCA(n_components=12))])),\n",
       "                                       ('randomforestclassifier',\n",
       "                                        RandomForestClassifier())]),\n",
       "             n_jobs=-1,\n",
       "             param_grid={'pipeline__columntransformer__pipeline-1__simpleimputer__strategy': ['mean',\n",
       "                                                                                              'median',\n",
       "                                                                                              'most_frequent'],\n",
       "                         'randomforestclassifier__max_features': [4, 6, 8],\n",
       "                         'randomforestclassifier__n_estimators': [100, 300,\n",
       "                                                                  500]},\n",
       "             scoring='recall')</pre></div></div></div><div class=\"sk-parallel\"><div class=\"sk-parallel-item\"><div class=\"sk-item\"><div class=\"sk-serial\"><div class=\"sk-item\"><div class=\"sk-serial\"><div class=\"sk-item\"><div class=\"sk-label-container\"><div class=\"sk-label sk-toggleable\"><input class=\"sk-toggleable__control sk-hidden--visually\" id=\"0bac7ed0-1084-41dc-81b1-e89e9d271b66\" type=\"checkbox\" ><label class=\"sk-toggleable__label\" for=\"0bac7ed0-1084-41dc-81b1-e89e9d271b66\">pipeline: Pipeline</label><div class=\"sk-toggleable__content\"><pre>Pipeline(steps=[('columntransformer',\n",
       "                 ColumnTransformer(transformers=[('pipeline-1',\n",
       "                                                  Pipeline(steps=[('simpleimputer',\n",
       "                                                                   SimpleImputer()),\n",
       "                                                                  ('minmaxscaler',\n",
       "                                                                   MinMaxScaler())]),\n",
       "                                                  ['measure_index',\n",
       "                                                   'measure_moisture',\n",
       "                                                   'measure_temperature',\n",
       "                                                   'measure_chemicals',\n",
       "                                                   'measure_biodiversity']),\n",
       "                                                 ('onehotencoder',\n",
       "                                                  OneHotEncoder(handle_unknown='ignore',\n",
       "                                                                sparse=False),\n",
       "                                                  ['main_elem...\n",
       "                                                                 handle_unknown='use_encoded_value',\n",
       "                                                                 unknown_value=-1),\n",
       "                                                  ['soil_condition']),\n",
       "                                                 ('pipeline-2',\n",
       "                                                  Pipeline(steps=[('timefeatureextractor',\n",
       "                                                                   TimeFeatureExtractor()),\n",
       "                                                                  ('columntransformer',\n",
       "                                                                   ColumnTransformer(transformers=[('minmaxscaler',\n",
       "                                                                                                    MinMaxScaler(),\n",
       "                                                                                                    ['duration']),\n",
       "                                                                                                   ('cyclicalencoder',\n",
       "                                                                                                    CyclicalEncoder(),\n",
       "                                                                                                    ['month'])]))]),\n",
       "                                                  ['datetime_start',\n",
       "                                                   'datetime_end'])])),\n",
       "                ('pca', PCA(n_components=12))])</pre></div></div></div><div class=\"sk-serial\"><div class=\"sk-item sk-dashed-wrapped\"><div class=\"sk-label-container\"><div class=\"sk-label sk-toggleable\"><input class=\"sk-toggleable__control sk-hidden--visually\" id=\"58987d73-7843-4e00-819e-13819f47bd49\" type=\"checkbox\" ><label class=\"sk-toggleable__label\" for=\"58987d73-7843-4e00-819e-13819f47bd49\">columntransformer: ColumnTransformer</label><div class=\"sk-toggleable__content\"><pre>ColumnTransformer(transformers=[('pipeline-1',\n",
       "                                 Pipeline(steps=[('simpleimputer',\n",
       "                                                  SimpleImputer()),\n",
       "                                                 ('minmaxscaler',\n",
       "                                                  MinMaxScaler())]),\n",
       "                                 ['measure_index', 'measure_moisture',\n",
       "                                  'measure_temperature', 'measure_chemicals',\n",
       "                                  'measure_biodiversity']),\n",
       "                                ('onehotencoder',\n",
       "                                 OneHotEncoder(handle_unknown='ignore',\n",
       "                                               sparse=False),\n",
       "                                 ['main_element']),\n",
       "                                ('ordinalencoder',\n",
       "                                 OrdinalEncod...l',\n",
       "                                                             'rich']],\n",
       "                                                handle_unknown='use_encoded_value',\n",
       "                                                unknown_value=-1),\n",
       "                                 ['soil_condition']),\n",
       "                                ('pipeline-2',\n",
       "                                 Pipeline(steps=[('timefeatureextractor',\n",
       "                                                  TimeFeatureExtractor()),\n",
       "                                                 ('columntransformer',\n",
       "                                                  ColumnTransformer(transformers=[('minmaxscaler',\n",
       "                                                                                   MinMaxScaler(),\n",
       "                                                                                   ['duration']),\n",
       "                                                                                  ('cyclicalencoder',\n",
       "                                                                                   CyclicalEncoder(),\n",
       "                                                                                   ['month'])]))]),\n",
       "                                 ['datetime_start', 'datetime_end'])])</pre></div></div></div><div class=\"sk-parallel\"><div class=\"sk-parallel-item\"><div class=\"sk-item\"><div class=\"sk-label-container\"><div class=\"sk-label sk-toggleable\"><input class=\"sk-toggleable__control sk-hidden--visually\" id=\"6e9c217e-08a3-4acd-9bd7-009af8250264\" type=\"checkbox\" ><label class=\"sk-toggleable__label\" for=\"6e9c217e-08a3-4acd-9bd7-009af8250264\">pipeline-1</label><div class=\"sk-toggleable__content\"><pre>['measure_index', 'measure_moisture', 'measure_temperature', 'measure_chemicals', 'measure_biodiversity']</pre></div></div></div><div class=\"sk-serial\"><div class=\"sk-item\"><div class=\"sk-serial\"><div class=\"sk-item\"><div class=\"sk-estimator sk-toggleable\"><input class=\"sk-toggleable__control sk-hidden--visually\" id=\"a64d46ef-851a-4287-a86a-f11fa5ec93f8\" type=\"checkbox\" ><label class=\"sk-toggleable__label\" for=\"a64d46ef-851a-4287-a86a-f11fa5ec93f8\">SimpleImputer</label><div class=\"sk-toggleable__content\"><pre>SimpleImputer()</pre></div></div></div><div class=\"sk-item\"><div class=\"sk-estimator sk-toggleable\"><input class=\"sk-toggleable__control sk-hidden--visually\" id=\"81db6997-d4e0-4a03-b4c7-4f27fd392ce2\" type=\"checkbox\" ><label class=\"sk-toggleable__label\" for=\"81db6997-d4e0-4a03-b4c7-4f27fd392ce2\">MinMaxScaler</label><div class=\"sk-toggleable__content\"><pre>MinMaxScaler()</pre></div></div></div></div></div></div></div></div><div class=\"sk-parallel-item\"><div class=\"sk-item\"><div class=\"sk-label-container\"><div class=\"sk-label sk-toggleable\"><input class=\"sk-toggleable__control sk-hidden--visually\" id=\"0b6d8e4c-6753-41a8-8ba0-8e97502db7ec\" type=\"checkbox\" ><label class=\"sk-toggleable__label\" for=\"0b6d8e4c-6753-41a8-8ba0-8e97502db7ec\">onehotencoder</label><div class=\"sk-toggleable__content\"><pre>['main_element']</pre></div></div></div><div class=\"sk-serial\"><div class=\"sk-item\"><div class=\"sk-estimator sk-toggleable\"><input class=\"sk-toggleable__control sk-hidden--visually\" id=\"bc51312a-0262-4c52-8c6a-a5ba693c83c9\" type=\"checkbox\" ><label class=\"sk-toggleable__label\" for=\"bc51312a-0262-4c52-8c6a-a5ba693c83c9\">OneHotEncoder</label><div class=\"sk-toggleable__content\"><pre>OneHotEncoder(handle_unknown='ignore', sparse=False)</pre></div></div></div></div></div></div><div class=\"sk-parallel-item\"><div class=\"sk-item\"><div class=\"sk-label-container\"><div class=\"sk-label sk-toggleable\"><input class=\"sk-toggleable__control sk-hidden--visually\" id=\"21283aa5-6c2e-4da1-bfdc-9e8a5363a379\" type=\"checkbox\" ><label class=\"sk-toggleable__label\" for=\"21283aa5-6c2e-4da1-bfdc-9e8a5363a379\">ordinalencoder</label><div class=\"sk-toggleable__content\"><pre>['soil_condition']</pre></div></div></div><div class=\"sk-serial\"><div class=\"sk-item\"><div class=\"sk-estimator sk-toggleable\"><input class=\"sk-toggleable__control sk-hidden--visually\" id=\"a8534cd7-aacc-4bce-ba75-f0433b2f4aca\" type=\"checkbox\" ><label class=\"sk-toggleable__label\" for=\"a8534cd7-aacc-4bce-ba75-f0433b2f4aca\">OrdinalEncoder</label><div class=\"sk-toggleable__content\"><pre>OrdinalEncoder(categories=[['poor', 'normal', 'rich']],\n",
       "               handle_unknown='use_encoded_value', unknown_value=-1)</pre></div></div></div></div></div></div><div class=\"sk-parallel-item\"><div class=\"sk-item\"><div class=\"sk-label-container\"><div class=\"sk-label sk-toggleable\"><input class=\"sk-toggleable__control sk-hidden--visually\" id=\"3b89b9ae-8ee4-4e6b-a60f-9b7f21123e7b\" type=\"checkbox\" ><label class=\"sk-toggleable__label\" for=\"3b89b9ae-8ee4-4e6b-a60f-9b7f21123e7b\">pipeline-2</label><div class=\"sk-toggleable__content\"><pre>['datetime_start', 'datetime_end']</pre></div></div></div><div class=\"sk-serial\"><div class=\"sk-item\"><div class=\"sk-serial\"><div class=\"sk-item\"><div class=\"sk-estimator sk-toggleable\"><input class=\"sk-toggleable__control sk-hidden--visually\" id=\"3a40ba0e-6f3c-4ee4-bfc7-da547bd85323\" type=\"checkbox\" ><label class=\"sk-toggleable__label\" for=\"3a40ba0e-6f3c-4ee4-bfc7-da547bd85323\">TimeFeatureExtractor</label><div class=\"sk-toggleable__content\"><pre>TimeFeatureExtractor()</pre></div></div></div><div class=\"sk-item sk-dashed-wrapped\"><div class=\"sk-label-container\"><div class=\"sk-label sk-toggleable\"><input class=\"sk-toggleable__control sk-hidden--visually\" id=\"36dfa254-f9c5-49f4-8dd2-8b71830a1aa0\" type=\"checkbox\" ><label class=\"sk-toggleable__label\" for=\"36dfa254-f9c5-49f4-8dd2-8b71830a1aa0\">columntransformer: ColumnTransformer</label><div class=\"sk-toggleable__content\"><pre>ColumnTransformer(transformers=[('minmaxscaler', MinMaxScaler(), ['duration']),\n",
       "                                ('cyclicalencoder', CyclicalEncoder(),\n",
       "                                 ['month'])])</pre></div></div></div><div class=\"sk-parallel\"><div class=\"sk-parallel-item\"><div class=\"sk-item\"><div class=\"sk-label-container\"><div class=\"sk-label sk-toggleable\"><input class=\"sk-toggleable__control sk-hidden--visually\" id=\"98ffd707-cef0-4ffc-84a8-8e8ebeedafa7\" type=\"checkbox\" ><label class=\"sk-toggleable__label\" for=\"98ffd707-cef0-4ffc-84a8-8e8ebeedafa7\">minmaxscaler</label><div class=\"sk-toggleable__content\"><pre>['duration']</pre></div></div></div><div class=\"sk-serial\"><div class=\"sk-item\"><div class=\"sk-estimator sk-toggleable\"><input class=\"sk-toggleable__control sk-hidden--visually\" id=\"58db34eb-5ae1-43f0-975c-086560b98484\" type=\"checkbox\" ><label class=\"sk-toggleable__label\" for=\"58db34eb-5ae1-43f0-975c-086560b98484\">MinMaxScaler</label><div class=\"sk-toggleable__content\"><pre>MinMaxScaler()</pre></div></div></div></div></div></div><div class=\"sk-parallel-item\"><div class=\"sk-item\"><div class=\"sk-label-container\"><div class=\"sk-label sk-toggleable\"><input class=\"sk-toggleable__control sk-hidden--visually\" id=\"de75aae0-afcd-48a8-840e-1f2518b2fc36\" type=\"checkbox\" ><label class=\"sk-toggleable__label\" for=\"de75aae0-afcd-48a8-840e-1f2518b2fc36\">cyclicalencoder</label><div class=\"sk-toggleable__content\"><pre>['month']</pre></div></div></div><div class=\"sk-serial\"><div class=\"sk-item\"><div class=\"sk-estimator sk-toggleable\"><input class=\"sk-toggleable__control sk-hidden--visually\" id=\"a4570040-df5e-46e0-aff0-0d5897af8f74\" type=\"checkbox\" ><label class=\"sk-toggleable__label\" for=\"a4570040-df5e-46e0-aff0-0d5897af8f74\">CyclicalEncoder</label><div class=\"sk-toggleable__content\"><pre>CyclicalEncoder()</pre></div></div></div></div></div></div></div></div></div></div></div></div></div></div></div><div class=\"sk-item\"><div class=\"sk-estimator sk-toggleable\"><input class=\"sk-toggleable__control sk-hidden--visually\" id=\"ff9d1918-c4af-4a2c-9b7e-9677fc42e5d1\" type=\"checkbox\" ><label class=\"sk-toggleable__label\" for=\"ff9d1918-c4af-4a2c-9b7e-9677fc42e5d1\">PCA</label><div class=\"sk-toggleable__content\"><pre>PCA(n_components=12)</pre></div></div></div></div></div><div class=\"sk-item\"><div class=\"sk-estimator sk-toggleable\"><input class=\"sk-toggleable__control sk-hidden--visually\" id=\"34950758-d5dc-441e-ba27-a6e000b11775\" type=\"checkbox\" ><label class=\"sk-toggleable__label\" for=\"34950758-d5dc-441e-ba27-a6e000b11775\">RandomForestClassifier</label><div class=\"sk-toggleable__content\"><pre>RandomForestClassifier()</pre></div></div></div></div></div></div></div></div></div></div></div></div>"
      ],
      "text/plain": [
       "GridSearchCV(cv=5,\n",
       "             estimator=Pipeline(steps=[('pipeline',\n",
       "                                        Pipeline(steps=[('columntransformer',\n",
       "                                                         ColumnTransformer(transformers=[('pipeline-1',\n",
       "                                                                                          Pipeline(steps=[('simpleimputer',\n",
       "                                                                                                           SimpleImputer()),\n",
       "                                                                                                          ('minmaxscaler',\n",
       "                                                                                                           MinMaxScaler())]),\n",
       "                                                                                          ['measure_index',\n",
       "                                                                                           'measure_moisture',\n",
       "                                                                                           'measure_temperature',\n",
       "                                                                                           'measure_chemicals',\n",
       "                                                                                           'measure_biodiversity']),\n",
       "                                                                                         ('onehotencoder',\n",
       "                                                                                          OneHotE...\n",
       "                                                                                          ['datetime_start',\n",
       "                                                                                           'datetime_end'])])),\n",
       "                                                        ('pca',\n",
       "                                                         PCA(n_components=12))])),\n",
       "                                       ('randomforestclassifier',\n",
       "                                        RandomForestClassifier())]),\n",
       "             n_jobs=-1,\n",
       "             param_grid={'pipeline__columntransformer__pipeline-1__simpleimputer__strategy': ['mean',\n",
       "                                                                                              'median',\n",
       "                                                                                              'most_frequent'],\n",
       "                         'randomforestclassifier__max_features': [4, 6, 8],\n",
       "                         'randomforestclassifier__n_estimators': [100, 300,\n",
       "                                                                  500]},\n",
       "             scoring='recall')"
      ]
     },
     "execution_count": 264,
     "metadata": {},
     "output_type": "execute_result"
    }
   ],
   "source": [
    "search.fit(X, y)"
   ]
  },
  {
   "cell_type": "markdown",
   "metadata": {},
   "source": [
    "**📝 Store the _cross-validated results_ of your grid search in the `cv_results` variable:**"
   ]
  },
  {
   "cell_type": "code",
   "execution_count": 377,
   "metadata": {
    "ExecuteTime": {
     "end_time": "2021-09-29T14:16:13.407785Z",
     "start_time": "2021-09-29T14:16:13.398597Z"
    },
    "tags": [
     "challengify"
    ]
   },
   "outputs": [],
   "source": [
    "# YOUR CODE HERE\n",
    "cv_results = search.cv_results_"
   ]
  },
  {
   "cell_type": "markdown",
   "metadata": {},
   "source": [
    "**📝 Store the _best model_ of your grid search in a variable `tuned_model`.**"
   ]
  },
  {
   "cell_type": "code",
   "execution_count": 378,
   "metadata": {
    "ExecuteTime": {
     "end_time": "2021-09-29T14:16:14.737747Z",
     "start_time": "2021-09-29T14:16:14.727899Z"
    },
    "tags": [
     "challengify"
    ]
   },
   "outputs": [
    {
     "data": {
      "text/plain": [
       "{'pipeline__columntransformer__pipeline-1__simpleimputer__strategy': 'most_frequent',\n",
       " 'randomforestclassifier__max_features': 8,\n",
       " 'randomforestclassifier__n_estimators': 300}"
      ]
     },
     "execution_count": 378,
     "metadata": {},
     "output_type": "execute_result"
    }
   ],
   "source": [
    "# YOUR CODE HERE\n",
    "search.best_params_"
   ]
  },
  {
   "cell_type": "code",
   "execution_count": 379,
   "metadata": {
    "ExecuteTime": {
     "end_time": "2021-09-29T14:16:27.968884Z",
     "start_time": "2021-09-29T14:16:16.372604Z"
    }
   },
   "outputs": [],
   "source": [
    "tuned_model = search.best_estimator_.fit(X, y)"
   ]
  },
  {
   "cell_type": "markdown",
   "metadata": {},
   "source": [
    "### 💾 Save your results\n",
    "\n",
    "Run the cell below to save your results."
   ]
  },
  {
   "cell_type": "code",
   "execution_count": 380,
   "metadata": {
    "ExecuteTime": {
     "end_time": "2021-09-29T14:16:36.750941Z",
     "start_time": "2021-09-29T14:16:28.733236Z"
    }
   },
   "outputs": [],
   "source": [
    "from nbresult import ChallengeResult\n",
    "from sklearn.model_selection import train_test_split\n",
    "X_,X_val,y_,y_val=train_test_split(X,y,test_size=0.3,random_state=10)\n",
    "tuned_model.fit(X_,y_)\n",
    "\n",
    "result = ChallengeResult(\n",
    "    'model_tuning',\n",
    "    scores_ensemble=scores_ensemble,\n",
    "    scoring=search.scorer_,\n",
    "    params=search.best_params_,\n",
    "    cv_results=cv_results,\n",
    "    y=y_val,\n",
    "    y_pred=tuned_model.predict(X_val)\n",
    ")\n",
    "result.write()"
   ]
  },
  {
   "cell_type": "markdown",
   "metadata": {},
   "source": [
    "## Prediction"
   ]
  },
  {
   "cell_type": "markdown",
   "metadata": {},
   "source": [
    "**📝 Use your newly fine-tuned model to predict on a test set.**"
   ]
  },
  {
   "cell_type": "markdown",
   "metadata": {},
   "source": [
    "Load the test provided at this url: \"https://wagon-public-datasets.s3.amazonaws.com/certification/soils_viability/soils_viability_test.csv\".\n",
    "\n",
    "Create `X_test` and `y_test`\n",
    "\n",
    "Use your fine-tuned model to predict on `X_test`\n",
    "\n",
    "Print a full classification report with your prediction and `y_test`"
   ]
  },
  {
   "cell_type": "code",
   "execution_count": 381,
   "metadata": {
    "ExecuteTime": {
     "end_time": "2021-09-29T14:16:37.224923Z",
     "start_time": "2021-09-29T14:16:36.754330Z"
    }
   },
   "outputs": [],
   "source": [
    "df_test = pd.read_csv(\"https://wagon-public-datasets.s3.amazonaws.com/certification/soils_viability/soils_viability_test.csv\")"
   ]
  },
  {
   "cell_type": "code",
   "execution_count": 382,
   "metadata": {
    "ExecuteTime": {
     "end_time": "2021-09-29T14:16:37.247979Z",
     "start_time": "2021-09-29T14:16:37.228470Z"
    },
    "tags": [
     "challengify"
    ]
   },
   "outputs": [],
   "source": [
    "# YOUR CODE HERE\n",
    "y_test = df_test.target\n",
    "X_test = df_test.drop(['target'], axis=1)"
   ]
  },
  {
   "cell_type": "code",
   "execution_count": 387,
   "metadata": {
    "ExecuteTime": {
     "end_time": "2021-09-29T14:17:28.526999Z",
     "start_time": "2021-09-29T14:17:28.509414Z"
    }
   },
   "outputs": [],
   "source": [
    "X_test.datetime_end = pd.to_datetime(X_test.datetime_end)\n",
    "X_test.datetime_start = pd.to_datetime(X_test.datetime_start)"
   ]
  },
  {
   "cell_type": "code",
   "execution_count": 391,
   "metadata": {
    "ExecuteTime": {
     "end_time": "2021-09-29T14:17:52.694109Z",
     "start_time": "2021-09-29T14:17:52.506441Z"
    }
   },
   "outputs": [],
   "source": [
    "y_pred = tuned_model.predict(X_test)"
   ]
  },
  {
   "cell_type": "code",
   "execution_count": 393,
   "metadata": {
    "ExecuteTime": {
     "end_time": "2021-09-29T14:18:37.214153Z",
     "start_time": "2021-09-29T14:18:37.179076Z"
    }
   },
   "outputs": [
    {
     "name": "stdout",
     "output_type": "stream",
     "text": [
      "              precision    recall  f1-score   support\n",
      "\n",
      "           0       0.97      0.99      0.98      1036\n",
      "           1       0.99      0.97      0.98      1000\n",
      "\n",
      "    accuracy                           0.98      2036\n",
      "   macro avg       0.98      0.98      0.98      2036\n",
      "weighted avg       0.98      0.98      0.98      2036\n",
      "\n"
     ]
    }
   ],
   "source": [
    "from sklearn.metrics import classification_report\n",
    "print(classification_report(y_test, y_pred))"
   ]
  },
  {
   "cell_type": "markdown",
   "metadata": {},
   "source": [
    "**❓ Comment your results:**"
   ]
  },
  {
   "cell_type": "markdown",
   "metadata": {
    "tags": [
     "challengify"
    ]
   },
   "source": [
    "With a recall of 97% for prediction of the positive class and an average value of 98% in precision, the model is highly effective in predicting the soil quality. \n",
    "\n",
    "We efficiently detect 97% of actual good soils, while keeping the number of false positive to roughly 2%"
   ]
  },
  {
   "cell_type": "markdown",
   "metadata": {},
   "source": [
    "## API \n",
    "\n",
    "Time to put a pipeline in production!\n",
    "\n",
    "👉 Go back to the certification interface and follow the instructions about the API challenge.\n",
    "\n",
    "**This final part is independent from the above notebook**"
   ]
  }
 ],
 "metadata": {
  "kernelspec": {
   "display_name": "Python 3 (ipykernel)",
   "language": "python",
   "name": "python3"
  },
  "language_info": {
   "codemirror_mode": {
    "name": "ipython",
    "version": 3
   },
   "file_extension": ".py",
   "mimetype": "text/x-python",
   "name": "python",
   "nbconvert_exporter": "python",
   "pygments_lexer": "ipython3",
   "version": "3.8.12"
  },
  "toc": {
   "base_numbering": 1,
   "nav_menu": {},
   "number_sections": false,
   "sideBar": true,
   "skip_h1_title": false,
   "title_cell": "Table of Contents",
   "title_sidebar": "Contents",
   "toc_cell": false,
   "toc_position": {
    "height": "calc(100% - 180px)",
    "left": "10px",
    "top": "150px",
    "width": "300.297px"
   },
   "toc_section_display": true,
   "toc_window_display": true
  },
  "varInspector": {
   "cols": {
    "lenName": 16,
    "lenType": 16,
    "lenVar": 40
   },
   "kernels_config": {
    "python": {
     "delete_cmd_postfix": "",
     "delete_cmd_prefix": "del ",
     "library": "var_list.py",
     "varRefreshCmd": "print(var_dic_list())"
    },
    "r": {
     "delete_cmd_postfix": ") ",
     "delete_cmd_prefix": "rm(",
     "library": "var_list.r",
     "varRefreshCmd": "cat(var_dic_list()) "
    }
   },
   "types_to_exclude": [
    "module",
    "function",
    "builtin_function_or_method",
    "instance",
    "_Feature"
   ],
   "window_display": false
  }
 },
 "nbformat": 4,
 "nbformat_minor": 4
}
