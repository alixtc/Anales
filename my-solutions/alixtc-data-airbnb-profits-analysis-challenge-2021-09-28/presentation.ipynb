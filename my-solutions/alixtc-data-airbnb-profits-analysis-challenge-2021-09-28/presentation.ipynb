{
 "cells": [
  {
   "cell_type": "markdown",
   "id": "4e80a913",
   "metadata": {
    "slideshow": {
     "slide_type": "slide"
    }
   },
   "source": [
    "\n",
    "<h1><center>AirBnB Case Study <center></h1>\n",
    "<h2><center>How to increase the average rating of the accommodations in Madrid to 95% while keeping the income revenue?<center></h2> \n",
    "\n",
    "<p><center>\n",
    "    <img src=\"airbnb.png\" alt=\"drawing\" style=\"width:300px\"/>\n",
    "    <img src=\"airbnb2.jpg\" alt=\"drawing\" style=\"width:400px\"/>\n",
    "<center></p>\n",
    "    \n",
    "<h4><center>Alix Tiran-Cappello, 28th September 2021<center></h4> "
   ]
  },
  {
   "cell_type": "markdown",
   "id": "92b67f2b",
   "metadata": {
    "slideshow": {
     "slide_type": "skip"
    }
   },
   "source": [
    "Try to understand this notebook and get inspiration for your slide-based presentation\n",
    "- Click on `View-->Cell Toolbar-->SlideShow` to display Slide Types\n",
    "- Click on `View-->Cell Toolbar-->Tags` to display Slide Tags\n",
    "\n",
    "Then, generate an html-slide version of this using the following command:\n",
    "\n",
    "```\n",
    "jupyter nbconvert slide_like_a_pro.ipynb --to slides --post serve \\\n",
    "--no-prompt \\\n",
    "--TagRemovePreprocessor.remove_input_tags=remove_input \\\n",
    "--TagRemovePreprocessor.remove_all_outputs_tags=remove_output\n",
    "```\n",
    "\n",
    "- `no-prompt` removes the In [xx]: and Out[xx]: to the left of each cells\n",
    "- `--TagRemovePreprocessor` allows you to not display either inputs or outputs of cells that have the associated Tag"
   ]
  },
  {
   "cell_type": "code",
   "execution_count": 1,
   "id": "3ac2f8a4",
   "metadata": {
    "ExecuteTime": {
     "end_time": "2021-09-28T14:44:42.538067Z",
     "start_time": "2021-09-28T14:44:30.313488Z"
    },
    "slideshow": {
     "slide_type": "skip"
    }
   },
   "outputs": [],
   "source": [
    "import pandas as pd\n",
    "import sqlite3\n",
    "import seaborn as sns\n",
    "import matplotlib.pyplot as plt\n",
    "import numpy as np\n",
    "accommodations = pd.read_csv('data/airbnb.csv')"
   ]
  },
  {
   "cell_type": "code",
   "execution_count": 2,
   "id": "c2821dc6",
   "metadata": {
    "ExecuteTime": {
     "end_time": "2021-09-28T14:44:42.735550Z",
     "start_time": "2021-09-28T14:44:42.566537Z"
    },
    "slideshow": {
     "slide_type": "skip"
    }
   },
   "outputs": [],
   "source": [
    "# Convert data types\n",
    "accommodations.price = [float(pr[1:].replace(',', '')) for pr in accommodations.price]\n",
    "\n",
    "accommodations.host_since = pd.to_datetime(accommodations.host_since)\n",
    "\n",
    "accommodations.host_is_superhost = accommodations.host_is_superhost == 't'\n",
    "accommodations.host_has_profile_pic = accommodations.host_has_profile_pic == 't'\n",
    "accommodations.host_identity_verified = accommodations.host_identity_verified == 't'\n",
    "\n",
    "accommodations.host_response_rate = [float(str(elm).replace('%', '')) for elm in accommodations.host_response_rate]\n",
    "accommodations.host_acceptance_rate = [float(str(elm).replace('%', '')) for elm in accommodations.host_acceptance_rate]"
   ]
  },
  {
   "cell_type": "code",
   "execution_count": 10,
   "id": "2dd11d12",
   "metadata": {
    "ExecuteTime": {
     "end_time": "2021-09-28T15:25:05.288220Z",
     "start_time": "2021-09-28T15:25:05.273228Z"
    },
    "slideshow": {
     "slide_type": "skip"
    }
   },
   "outputs": [],
   "source": [
    "bad_rental = accommodations[accommodations.review_scores_rating<80]"
   ]
  },
  {
   "cell_type": "markdown",
   "id": "6ecb08b6",
   "metadata": {
    "slideshow": {
     "slide_type": "slide"
    }
   },
   "source": [
    "# Increase average rating to 95% and limit the loss of income by targeting low priced rentals\n",
    "\n",
    "- Removing the offers with average below 90%\n",
    "- If they rental price is below 75€\n",
    "\n",
    "=> Brings average to 95.03%\n",
    "\n",
    "=> While limiting revenue loss to 3.2% representing a 820 000$ loss.\n"
   ]
  },
  {
   "cell_type": "markdown",
   "id": "731d870c",
   "metadata": {
    "slideshow": {
     "slide_type": "slide"
    }
   },
   "source": [
    "# Low ratings are usually associated with low priced flats"
   ]
  },
  {
   "cell_type": "code",
   "execution_count": 11,
   "id": "5259efc6",
   "metadata": {
    "ExecuteTime": {
     "end_time": "2021-09-28T15:25:13.062838Z",
     "start_time": "2021-09-28T15:25:07.863582Z"
    },
    "slideshow": {
     "slide_type": "-"
    }
   },
   "outputs": [
    {
     "data": {
      "image/png": "[encoded data removed]",
      "text/plain": [
       "<Figure size 432x288 with 1 Axes>"
      ]
     },
     "metadata": {
      "needs_background": "light"
     },
     "output_type": "display_data"
    }
   ],
   "source": [
    "plot = sns.histplot(accommodations.price, color='blue', stat='percent', binwidth=10)\n",
    "plot = sns.histplot(bad_rental.price, color='red', stat='percent',binwidth=10)\n",
    "plot.set_xlim((0, 200))\n",
    "plot.set_title('Proportion of rental in a given price range for the whole dataset (blue) or rentals with less than 80% satisfaction (red)')\n",
    "plot.set_ylabel('Percentage')\n",
    "plot.set_xlabel('Price');"
   ]
  },
  {
   "cell_type": "markdown",
   "id": "023ac064",
   "metadata": {
    "slideshow": {
     "slide_type": "slide"
    }
   },
   "source": [
    "# Favor superhost visibility\n",
    "\n",
    "Superhost are associated with much larger rating as such enhancing their visibility should increase the average rating"
   ]
  },
  {
   "cell_type": "code",
   "execution_count": 14,
   "id": "d902f989",
   "metadata": {
    "ExecuteTime": {
     "end_time": "2021-09-28T15:50:59.041800Z",
     "start_time": "2021-09-28T15:50:58.813324Z"
    }
   },
   "outputs": [
    {
     "data": {
      "image/png": "[encoded data removed]",
      "text/plain": [
       "<Figure size 432x288 with 1 Axes>"
      ]
     },
     "metadata": {
      "needs_background": "light"
     },
     "output_type": "display_data"
    }
   ],
   "source": [
    "plot = sns.boxplot(data=accommodations, x='host_is_superhost',  y='review_scores_rating', showfliers=False)\n",
    "plot.set_title('Satisfaction in Superhosts vs normal hosts')\n",
    "plot.set_xlabel('Superhost status')\n",
    "plot.set_ylabel('Rating');"
   ]
  },
  {
   "cell_type": "code",
   "execution_count": null,
   "id": "0f30a976",
   "metadata": {
    "slideshow": {
     "slide_type": "skip"
    }
   },
   "outputs": [],
   "source": []
  }
 ],
 "metadata": {
  "celltoolbar": "Diaporama",
  "kernelspec": {
   "display_name": "Python 3 (ipykernel)",
   "language": "python",
   "name": "python3"
  },
  "language_info": {
   "codemirror_mode": {
    "name": "ipython",
    "version": 3
   },
   "file_extension": ".py",
   "mimetype": "text/x-python",
   "name": "python",
   "nbconvert_exporter": "python",
   "pygments_lexer": "ipython3",
   "version": "3.8.12"
  },
  "toc": {
   "base_numbering": 1,
   "nav_menu": {},
   "number_sections": false,
   "sideBar": true,
   "skip_h1_title": false,
   "title_cell": "Table of Contents",
   "title_sidebar": "Contents",
   "toc_cell": false,
   "toc_position": {},
   "toc_section_display": true,
   "toc_window_display": true
  }
 },
 "nbformat": 4,
 "nbformat_minor": 5
}
